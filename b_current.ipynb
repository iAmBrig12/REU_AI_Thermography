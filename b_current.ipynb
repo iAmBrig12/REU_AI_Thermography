{
 "cells": [
  {
   "cell_type": "code",
   "execution_count": 88,
   "metadata": {},
   "outputs": [],
   "source": [
    "import torch\n",
    "import torch.nn as nn\n",
    "import torch.nn.functional as F\n",
    "import numpy as np\n",
    "import matplotlib.pyplot as plt\n",
    "import pandas as pd\n",
    "from sklearn.model_selection import train_test_split\n",
    "from datetime import datetime\n",
    "from sklearn.preprocessing import StandardScaler\n",
    "from sklearn.preprocessing import MinMaxScaler\n",
    "from sklearn.preprocessing import MaxAbsScaler\n",
    "from sklearn.preprocessing import RobustScaler\n",
    "from sklearn.preprocessing import QuantileTransformer\n",
    "from sklearn.preprocessing import Normalizer\n",
    "import random\n",
    "%matplotlib inline"
   ]
  },
  {
   "cell_type": "code",
   "execution_count": 89,
   "metadata": {},
   "outputs": [],
   "source": [
    "args = {'lr':0.01,\n",
    "        'train epochs':500,\n",
    "        'hidden layers':15,\n",
    "        'noise':0.01,\n",
    "        'train size':0.7,\n",
    "        'spec scale':10**12,\n",
    "        'train criterion':nn.L1Loss(),\n",
    "        'test criterion':nn.L1Loss(),\n",
    "        'scaler':RobustScaler(),\n",
    "        'big hidden layers':3,\n",
    "        'big epochs': 1000,\n",
    "        'big lr': 0.01\n",
    "        }"
   ]
  },
  {
   "attachments": {},
   "cell_type": "markdown",
   "metadata": {},
   "source": [
    "# Data Prep"
   ]
  },
  {
   "cell_type": "code",
   "execution_count": 90,
   "metadata": {},
   "outputs": [],
   "source": [
    "# define layer dictionary to store per layer info\n",
    "layers = []\n",
    "for i in range(1,12):\n",
    "    layers.append({'layer':i,\n",
    "                   'col': f'layer {i}'})"
   ]
  },
  {
   "cell_type": "code",
   "execution_count": 91,
   "metadata": {},
   "outputs": [],
   "source": [
    "df = pd.read_excel('wide_range.xlsx')"
   ]
  },
  {
   "cell_type": "code",
   "execution_count": 92,
   "metadata": {},
   "outputs": [],
   "source": [
    "# spectrum data\n",
    "X = df.iloc[:,11:]\n",
    "\n",
    "# layer data\n",
    "y = df.iloc[:,:11]"
   ]
  },
  {
   "cell_type": "code",
   "execution_count": 93,
   "metadata": {},
   "outputs": [],
   "source": [
    "# scale by 10^12\n",
    "X = X.apply(lambda x: x*args['spec scale'])"
   ]
  },
  {
   "cell_type": "code",
   "execution_count": 94,
   "metadata": {},
   "outputs": [],
   "source": [
    "# scale for training\n",
    "scaler = args['scaler']\n",
    "scaler.fit(X)\n",
    "X_scaled = scaler.transform(X)\n",
    "\n",
    "\n",
    "X_scaled_df = pd.DataFrame(X_scaled, columns=X.columns)"
   ]
  },
  {
   "cell_type": "code",
   "execution_count": 95,
   "metadata": {},
   "outputs": [],
   "source": [
    "def add_noise(data, percentage):\n",
    "    std_dev = percentage\n",
    "    noise = np.random.normal(0, std_dev, data.shape)\n",
    "    noisy_data = data + noise\n",
    "    return noisy_data"
   ]
  },
  {
   "cell_type": "code",
   "execution_count": 96,
   "metadata": {},
   "outputs": [],
   "source": [
    "# add noise\n",
    "X_noisy = add_noise(X, args['noise'])"
   ]
  },
  {
   "cell_type": "code",
   "execution_count": 97,
   "metadata": {},
   "outputs": [
    {
     "data": {
      "image/png": "[encoded data removed]",
      "text/plain": [
       "<Figure size 640x480 with 1 Axes>"
      ]
     },
     "metadata": {},
     "output_type": "display_data"
    }
   ],
   "source": [
    "entry = random.randint(0, len(X))\n",
    "plt.title(f'Spectrum Input Data (sample {entry})')\n",
    "plt.plot(X.iloc[entry], label='original')\n",
    "plt.plot(X_noisy.iloc[entry], label='noisy')\n",
    "plt.legend()\n",
    "plt.show()"
   ]
  },
  {
   "cell_type": "code",
   "execution_count": 98,
   "metadata": {},
   "outputs": [],
   "source": [
    "scaler = args['scaler']\n",
    "scaler.fit(X_noisy)\n",
    "X_noisy_scaled = scaler.transform(X_noisy)\n",
    "\n",
    "X_noisy_scaled_df = pd.DataFrame(X_noisy_scaled, columns=X.columns)"
   ]
  },
  {
   "cell_type": "code",
   "execution_count": 99,
   "metadata": {},
   "outputs": [],
   "source": [
    "X_train, X_test, y_train, y_test = train_test_split(X_noisy_scaled_df, y, train_size=args['train size'], random_state=101)"
   ]
  },
  {
   "cell_type": "code",
   "execution_count": 100,
   "metadata": {},
   "outputs": [],
   "source": [
    "for layer in layers:\n",
    "    layer['y_train'] = torch.tensor(y_train[layer['col']].values, dtype=torch.float32).reshape(-1,1)\n",
    "    layer['y_test'] = torch.tensor(y_test[layer['col']].values, dtype=torch.float32).reshape(-1,1)"
   ]
  },
  {
   "cell_type": "code",
   "execution_count": 101,
   "metadata": {},
   "outputs": [],
   "source": [
    "X_train_tensor = torch.tensor(X_train.values, dtype=torch.float32)\n",
    "X_test_tensor = torch.tensor(X_test.values, dtype=torch.float32)\n",
    "y_test_tensor = torch.tensor(y_test.values, dtype=torch.float32)"
   ]
  },
  {
   "cell_type": "code",
   "execution_count": 102,
   "metadata": {},
   "outputs": [],
   "source": [
    "class FeedForward(nn.Module):\n",
    "    def __init__(self, input_size, output_size, num_hidden):\n",
    "        super(FeedForward, self).__init__()\n",
    "        \n",
    "        hidden_sizes = [input_size]\n",
    "        step = input_size / (num_hidden+1)\n",
    "\n",
    "        for i in range(num_hidden):\n",
    "            hidden_size = int(input_size - (i+1) * step)\n",
    "            if hidden_size < 1: hidden_size = 1\n",
    "            hidden_sizes.append(hidden_size)\n",
    "        \n",
    "        self.hidden_layers = nn.ModuleList()\n",
    "\n",
    "        for i in range(num_hidden):\n",
    "            self.hidden_layers.append(nn.Linear(hidden_sizes[i], hidden_sizes[i+1]))\n",
    "\n",
    "        self.hidden_sizes = hidden_sizes\n",
    "        self.lin_fin = nn.Linear(hidden_sizes[-1], output_size)\n",
    "\n",
    "    def forward(self, x):\n",
    "        for hidden_layer in self.hidden_layers:\n",
    "            x = F.leaky_relu(hidden_layer(x))\n",
    "        x = self.lin_fin(x)\n",
    "        return x"
   ]
  },
  {
   "cell_type": "code",
   "execution_count": 103,
   "metadata": {},
   "outputs": [],
   "source": [
    "class BigNet(nn.Module):\n",
    "    def __init__(self, input_size, output_size, num_hidden):\n",
    "        super(BigNet, self).__init__()\n",
    "        \n",
    "        hidden_sizes = [input_size]\n",
    "        step = input_size / (num_hidden+1)\n",
    "\n",
    "        for i in range(num_hidden):\n",
    "            hidden_size = int(input_size - (i+1) * step)\n",
    "            if hidden_size < 11: hidden_size = 11\n",
    "            hidden_sizes.append(hidden_size)\n",
    "        \n",
    "        self.hidden_layers = nn.ModuleList()\n",
    "\n",
    "        for i in range(num_hidden):\n",
    "            self.hidden_layers.append(nn.Linear(hidden_sizes[i], hidden_sizes[i+1]))\n",
    "\n",
    "        self.hidden_sizes = hidden_sizes\n",
    "        self.lin_fin = nn.Linear(hidden_sizes[-1], output_size)\n",
    "\n",
    "    def forward(self, x):\n",
    "        for hidden_layer in self.hidden_layers:\n",
    "            x = F.leaky_relu(hidden_layer(x))\n",
    "        x = self.lin_fin(x)\n",
    "        return x"
   ]
  },
  {
   "cell_type": "code",
   "execution_count": 104,
   "metadata": {},
   "outputs": [],
   "source": [
    "criterion = args['train criterion']"
   ]
  },
  {
   "cell_type": "code",
   "execution_count": 105,
   "metadata": {},
   "outputs": [
    {
     "name": "stdout",
     "output_type": "stream",
     "text": [
      "Individual Layer Training\n",
      "layer 1\n",
      "hidden layer sizes: [86, 80, 75, 69, 64, 59, 53, 48, 43, 37, 32, 26, 21, 16, 10, 5]\n"
     ]
    },
    {
     "name": "stdout",
     "output_type": "stream",
     "text": [
      "epoch: 50, loss = 13.247559547424316\n",
      "epoch: 100, loss = 8.227511405944824\n",
      "epoch: 150, loss = 7.534654140472412\n",
      "epoch: 200, loss = 7.283936977386475\n",
      "epoch: 250, loss = 7.086366176605225\n",
      "epoch: 300, loss = 6.957536697387695\n",
      "epoch: 350, loss = 6.880069255828857\n",
      "epoch: 400, loss = 6.839439868927002\n",
      "epoch: 450, loss = 6.817493915557861\n",
      "epoch: 500, loss = 6.807684898376465\n",
      "best loss: 6.807467460632324 in epoch 499\n",
      "\n",
      "layer 2\n",
      "hidden layer sizes: [86, 80, 75, 69, 64, 59, 53, 48, 43, 37, 32, 26, 21, 16, 10, 5]\n",
      "epoch: 50, loss = 11.28546142578125\n",
      "epoch: 100, loss = 8.857767105102539\n",
      "epoch: 150, loss = 8.229203224182129\n",
      "epoch: 200, loss = 7.857202529907227\n",
      "epoch: 250, loss = 7.665477752685547\n",
      "epoch: 300, loss = 7.539552688598633\n",
      "epoch: 350, loss = 7.463317394256592\n",
      "epoch: 400, loss = 7.39234733581543\n",
      "epoch: 450, loss = 7.352141380310059\n",
      "epoch: 500, loss = 7.322809219360352\n",
      "best loss: 7.322809219360352 in epoch 500\n",
      "\n",
      "layer 3\n",
      "hidden layer sizes: [86, 80, 75, 69, 64, 59, 53, 48, 43, 37, 32, 26, 21, 16, 10, 5]\n",
      "epoch: 50, loss = 8.996359825134277\n",
      "epoch: 100, loss = 5.56273889541626\n",
      "epoch: 150, loss = 5.15886116027832\n",
      "epoch: 200, loss = 4.876472473144531\n",
      "epoch: 250, loss = 4.7619242668151855\n",
      "epoch: 300, loss = 4.684854507446289\n",
      "epoch: 350, loss = 4.634372234344482\n",
      "epoch: 400, loss = 4.579888343811035\n",
      "epoch: 450, loss = 4.534476280212402\n",
      "epoch: 500, loss = 4.502999305725098\n",
      "best loss: 4.502999305725098 in epoch 500\n",
      "\n",
      "layer 4\n",
      "hidden layer sizes: [86, 80, 75, 69, 64, 59, 53, 48, 43, 37, 32, 26, 21, 16, 10, 5]\n",
      "epoch: 50, loss = 30.24510955810547\n",
      "epoch: 100, loss = 6.575685977935791\n",
      "epoch: 150, loss = 5.099392414093018\n",
      "epoch: 200, loss = 4.7520833015441895\n",
      "epoch: 250, loss = 4.57128381729126\n",
      "epoch: 300, loss = 4.4455108642578125\n",
      "epoch: 350, loss = 4.346149444580078\n",
      "epoch: 400, loss = 4.263479232788086\n",
      "epoch: 450, loss = 4.230301856994629\n",
      "epoch: 500, loss = 4.204362869262695\n",
      "best loss: 4.204362869262695 in epoch 500\n",
      "\n",
      "layer 5\n",
      "hidden layer sizes: [86, 80, 75, 69, 64, 59, 53, 48, 43, 37, 32, 26, 21, 16, 10, 5]\n",
      "epoch: 50, loss = 8.806805610656738\n",
      "epoch: 100, loss = 5.458081245422363\n",
      "epoch: 150, loss = 5.212764263153076\n",
      "epoch: 200, loss = 5.075852394104004\n",
      "epoch: 250, loss = 5.0059638023376465\n",
      "epoch: 300, loss = 4.973764896392822\n",
      "epoch: 350, loss = 4.932486534118652\n",
      "epoch: 400, loss = 4.904932975769043\n",
      "epoch: 450, loss = 4.890198707580566\n",
      "epoch: 500, loss = 4.880008697509766\n",
      "best loss: 4.880008697509766 in epoch 500\n",
      "\n",
      "layer 6\n",
      "hidden layer sizes: [86, 80, 75, 69, 64, 59, 53, 48, 43, 37, 32, 26, 21, 16, 10, 5]\n",
      "epoch: 50, loss = 10.197264671325684\n",
      "epoch: 100, loss = 5.6724443435668945\n",
      "epoch: 150, loss = 5.086544990539551\n",
      "epoch: 200, loss = 4.841892719268799\n",
      "epoch: 250, loss = 4.659090995788574\n",
      "epoch: 300, loss = 4.5247087478637695\n",
      "epoch: 350, loss = 4.439581394195557\n",
      "epoch: 400, loss = 4.38408088684082\n",
      "epoch: 450, loss = 4.357439041137695\n",
      "epoch: 500, loss = 4.341259956359863\n",
      "best loss: 4.341259956359863 in epoch 500\n",
      "\n",
      "layer 7\n",
      "hidden layer sizes: [86, 80, 75, 69, 64, 59, 53, 48, 43, 37, 32, 26, 21, 16, 10, 5]\n",
      "epoch: 50, loss = 12.591176986694336\n",
      "epoch: 100, loss = 5.936100006103516\n",
      "epoch: 150, loss = 5.463296413421631\n",
      "epoch: 200, loss = 5.1487908363342285\n",
      "epoch: 250, loss = 4.958252429962158\n",
      "epoch: 300, loss = 4.868419170379639\n",
      "epoch: 350, loss = 4.815811634063721\n",
      "epoch: 400, loss = 4.774696350097656\n",
      "epoch: 450, loss = 4.731154918670654\n",
      "epoch: 500, loss = 4.691396713256836\n",
      "best loss: 4.691396713256836 in epoch 500\n",
      "\n",
      "layer 8\n",
      "hidden layer sizes: [86, 80, 75, 69, 64, 59, 53, 48, 43, 37, 32, 26, 21, 16, 10, 5]\n",
      "epoch: 50, loss = 15.805567741394043\n",
      "epoch: 100, loss = 5.161749362945557\n",
      "epoch: 150, loss = 4.397618293762207\n",
      "epoch: 200, loss = 4.081180095672607\n",
      "epoch: 250, loss = 3.9069323539733887\n",
      "epoch: 300, loss = 3.8241121768951416\n",
      "epoch: 350, loss = 3.741502285003662\n",
      "epoch: 400, loss = 3.6719439029693604\n",
      "epoch: 450, loss = 3.649055242538452\n",
      "epoch: 500, loss = 3.628723621368408\n",
      "best loss: 3.628723621368408 in epoch 500\n",
      "\n",
      "layer 9\n",
      "hidden layer sizes: [86, 80, 75, 69, 64, 59, 53, 48, 43, 37, 32, 26, 21, 16, 10, 5]\n",
      "epoch: 50, loss = 9.882140159606934\n",
      "epoch: 100, loss = 4.031790256500244\n",
      "epoch: 150, loss = 3.68701171875\n",
      "epoch: 200, loss = 3.5780625343322754\n",
      "epoch: 250, loss = 3.5300328731536865\n",
      "epoch: 300, loss = 3.4930362701416016\n",
      "epoch: 350, loss = 3.470623016357422\n",
      "epoch: 400, loss = 3.433505058288574\n",
      "epoch: 450, loss = 3.3851699829101562\n",
      "epoch: 500, loss = 3.342815399169922\n",
      "best loss: 3.342815399169922 in epoch 500\n",
      "\n",
      "layer 10\n",
      "hidden layer sizes: [86, 80, 75, 69, 64, 59, 53, 48, 43, 37, 32, 26, 21, 16, 10, 5]\n",
      "epoch: 50, loss = 48.7858772277832\n",
      "epoch: 100, loss = 5.576038837432861\n",
      "epoch: 150, loss = 3.836651563644409\n",
      "epoch: 200, loss = 3.27083158493042\n",
      "epoch: 250, loss = 3.0005033016204834\n",
      "epoch: 300, loss = 2.816286087036133\n",
      "epoch: 350, loss = 2.695589065551758\n",
      "epoch: 400, loss = 2.62796688079834\n",
      "epoch: 450, loss = 2.5862879753112793\n",
      "epoch: 500, loss = 2.534517526626587\n",
      "best loss: 2.534517526626587 in epoch 500\n",
      "\n",
      "layer 11\n",
      "hidden layer sizes: [86, 80, 75, 69, 64, 59, 53, 48, 43, 37, 32, 26, 21, 16, 10, 5]\n",
      "epoch: 50, loss = 28.644987106323242\n",
      "epoch: 100, loss = 2.0550246238708496\n",
      "epoch: 150, loss = 1.1465919017791748\n",
      "epoch: 200, loss = 0.9698961973190308\n",
      "epoch: 250, loss = 0.9028832912445068\n",
      "epoch: 300, loss = 0.869351863861084\n",
      "epoch: 350, loss = 0.8462245464324951\n",
      "epoch: 400, loss = 0.8287997245788574\n",
      "epoch: 450, loss = 0.8212018609046936\n",
      "epoch: 500, loss = 0.8122717142105103\n",
      "best loss: 0.8121785521507263 in epoch 498\n",
      "\n"
     ]
    }
   ],
   "source": [
    "print(\"Individual Layer Training\")\n",
    "for layer in layers:\n",
    "    features = X_train_tensor\n",
    "    target = layer['y_train']\n",
    "\n",
    "    # instantiate model\n",
    "    model = FeedForward(features.size()[1], target.size()[1], args['hidden layers'])\n",
    "\n",
    "    best_loss = np.inf\n",
    "    best_epoch = 0\n",
    "    train_losses = []\n",
    "\n",
    "    optimizer = torch.optim.Rprop(model.parameters(), lr=args['lr'])\n",
    "\n",
    "    print(layer['col'])\n",
    "    print(f'hidden layer sizes: {model.hidden_sizes}')\n",
    "\n",
    "    for epoch in range(args['train epochs']):\n",
    "        # forward pass\n",
    "        outputs = model(features)\n",
    "\n",
    "        # get loss\n",
    "        loss = criterion(outputs, target)\n",
    "\n",
    "        # update and backward pass\n",
    "        optimizer.zero_grad()\n",
    "        loss.backward()\n",
    "        optimizer.step()\n",
    "\n",
    "        train_losses.append(loss.item())\n",
    "        \n",
    "        if loss.item() < best_loss:\n",
    "            best_loss = loss.item()\n",
    "            best_epoch = epoch+1\n",
    "\n",
    "        if (epoch+1) % int(args['train epochs']/10) == 0:\n",
    "            print(f'epoch: {epoch+1}, loss = {loss}')\n",
    "\n",
    "    # store model and losses\n",
    "    layer['model'] = model\n",
    "    layer['train losses'] = train_losses\n",
    "\n",
    "    print(f'best loss: {best_loss} in epoch {best_epoch}\\n')    "
   ]
  },
  {
   "cell_type": "code",
   "execution_count": 106,
   "metadata": {},
   "outputs": [
    {
     "name": "stdout",
     "output_type": "stream",
     "text": [
      "Big Net Training\n",
      "hidden layer sizes: [97, 72, 48, 24]\n",
      "epoch: 50, loss = 10.01709270477295\n",
      "epoch: 100, loss = 6.585143566131592\n",
      "epoch: 150, loss = 5.2859578132629395\n",
      "epoch: 200, loss = 5.136407375335693\n",
      "epoch: 250, loss = 5.1081414222717285\n",
      "epoch: 300, loss = 4.9249348640441895\n",
      "epoch: 350, loss = 4.755094528198242\n",
      "epoch: 400, loss = 4.683568000793457\n",
      "epoch: 450, loss = 4.645798683166504\n",
      "epoch: 500, loss = 4.624943256378174\n",
      "epoch: 550, loss = 4.615044593811035\n",
      "epoch: 600, loss = 4.6057820320129395\n",
      "epoch: 650, loss = 4.5973358154296875\n",
      "epoch: 700, loss = 4.591588497161865\n",
      "epoch: 750, loss = 4.58701753616333\n",
      "epoch: 800, loss = 4.577885150909424\n",
      "epoch: 850, loss = 4.570984840393066\n",
      "epoch: 900, loss = 4.565787315368652\n",
      "epoch: 950, loss = 4.560712814331055\n",
      "epoch: 1000, loss = 4.555746555328369\n"
     ]
    }
   ],
   "source": [
    "big_net = BigNet(len(X.columns)+len(y.columns), len(y.columns), args['big hidden layers'])\n",
    "optimizer = torch.optim.Rprop(big_net.parameters(), lr=args['big lr'])\n",
    "\n",
    "best_loss = np.inf\n",
    "best_epoch = 0\n",
    "train_losses = []\n",
    "\n",
    "features = X_train.copy()\n",
    "features.index = range(len(features))\n",
    "\n",
    "for layer in layers:\n",
    "    pred = layer['model'](X_train_tensor)\n",
    "    pred = pd.DataFrame(pred.detach().numpy(), columns=[f'{layer[\"col\"]} predictions'])\n",
    "    features = pd.concat([features, pred], axis=1)\n",
    "\n",
    "features = torch.tensor(features.values, dtype=torch.float32)\n",
    "target = torch.tensor(y_train.values, dtype=torch.float32)\n",
    "\n",
    "print(\"Big Net Training\")\n",
    "print(f'hidden layer sizes: {big_net.hidden_sizes}')\n",
    "for epoch in range(args['big epochs']):\n",
    "    # forward pass\n",
    "    outputs = big_net(features)\n",
    "\n",
    "    # get loss\n",
    "    loss = criterion(outputs, target)\n",
    "\n",
    "    # update and backward pass\n",
    "    optimizer.zero_grad()\n",
    "    loss.backward()\n",
    "    optimizer.step()\n",
    "\n",
    "    train_losses.append(loss.item())\n",
    "    \n",
    "    if loss.item() < best_loss:\n",
    "        best_loss = loss.item()\n",
    "        best_epoch = epoch+1\n",
    "\n",
    "    if (epoch+1) % int(args['train epochs']/10) == 0:\n",
    "        print(f'epoch: {epoch+1}, loss = {loss}')\n"
   ]
  },
  {
   "cell_type": "code",
   "execution_count": 117,
   "metadata": {},
   "outputs": [
    {
     "name": "stdout",
     "output_type": "stream",
     "text": [
      "Individual Model Test Losses\n",
      "layer 1 loss: 8.34885025024414\n",
      "layer 2 loss: 9.245163917541504\n",
      "layer 3 loss: 5.674470901489258\n",
      "layer 4 loss: 5.7358622550964355\n",
      "layer 5 loss: 5.350661754608154\n",
      "layer 6 loss: 4.922168731689453\n",
      "layer 7 loss: 5.757839679718018\n",
      "layer 8 loss: 4.330636501312256\n",
      "layer 9 loss: 4.299722671508789\n",
      "layer 10 loss: 3.4738285541534424\n",
      "layer 11 loss: 0.978147029876709\n",
      "5.283395658839833\n"
     ]
    }
   ],
   "source": [
    "little_losses = []\n",
    "test_criterion = args['test criterion']\n",
    "\n",
    "print(\"Individual Model Test Losses\")\n",
    "\n",
    "for layer in layers:\n",
    "    features = X_test_tensor\n",
    "    target = layer['y_test']\n",
    "    model = layer['model']\n",
    "\n",
    "    with torch.no_grad():\n",
    "        pred = model(features)\n",
    "        loss = test_criterion(pred, target)\n",
    "        little_losses.append(loss.item())\n",
    "\n",
    "    print(f'{layer[\"col\"]} loss: {loss.item()}')\n",
    "print(sum(little_losses) / len(little_losses))"
   ]
  },
  {
   "cell_type": "code",
   "execution_count": 108,
   "metadata": {},
   "outputs": [],
   "source": [
    "def make_predictions(X):\n",
    "    features = X.copy()\n",
    "    features.index = range(len(features))\n",
    "\n",
    "    features_tensor = torch.tensor(features.values, dtype=torch.float32)\n",
    "\n",
    "    for layer in layers:\n",
    "        pred = layer['model'](features_tensor)\n",
    "        pred = pd.DataFrame(pred.detach().numpy(), columns=[f'{layer[\"col\"]} predictions'])\n",
    "        features = pd.concat([features, pred], axis=1)\n",
    "\n",
    "    features = torch.tensor(features.values, dtype=torch.float32)\n",
    "\n",
    "    return big_net(features)"
   ]
  },
  {
   "cell_type": "code",
   "execution_count": 115,
   "metadata": {},
   "outputs": [
    {
     "name": "stdout",
     "output_type": "stream",
     "text": [
      "Overall Loss for Big Net: 5.330984115600586\n",
      "Per Layer Loss for Big Net\n",
      "layer 1 loss: 5.245874404907227\n",
      "layer 2 loss: 3.9854652881622314\n",
      "layer 3 loss: 4.908366680145264\n",
      "layer 4 loss: 2.747300624847412\n",
      "layer 5 loss: 6.665724277496338\n",
      "layer 6 loss: 4.421750068664551\n",
      "layer 7 loss: 4.523162841796875\n",
      "layer 8 loss: 5.804698467254639\n",
      "layer 9 loss: 3.0704429149627686\n",
      "layer 10 loss: 2.5688560009002686\n",
      "layer 11 loss: 5.659909248352051\n"
     ]
    }
   ],
   "source": [
    "big_losses = []\n",
    "with torch.no_grad():\n",
    "    pred = make_predictions(X_test)\n",
    "    overall_loss = criterion(pred, y_test_tensor)\n",
    "    print(\"Overall Loss for Big Net: {}\".format(overall_loss.item()))\n",
    "\n",
    "    print(\"Per Layer Loss for Big Net\")\n",
    "    for layer in layers:\n",
    "        loss = criterion(pred[layer['layer']-1], y_test_tensor[layer['layer']-1])\n",
    "        print(f'{layer[\"col\"]} loss: {loss.item()}')\n",
    "        big_losses.append(loss.item())"
   ]
  },
  {
   "cell_type": "code",
   "execution_count": 110,
   "metadata": {},
   "outputs": [
    {
     "data": {
      "image/png": "[encoded data removed]",
      "text/plain": [
       "<Figure size 1500x500 with 1 Axes>"
      ]
     },
     "metadata": {},
     "output_type": "display_data"
    }
   ],
   "source": [
    "index = np.arange(11)\n",
    "bar_width = 0.35\n",
    "\n",
    "fig, ax = plt.subplots(figsize=(15,5))\n",
    "summer = ax.bar(index, big_losses, bar_width,\n",
    "                label=\"Big Net Losses\")\n",
    "\n",
    "winter = ax.bar(index+bar_width, little_losses,\n",
    "                 bar_width, label=\"Little Net Losses\")\n",
    "\n",
    "ax.set_xlabel('Layer')\n",
    "ax.set_ylabel('Loss')\n",
    "ax.set_title('Loss Comparison')\n",
    "ax.set_xticks(index + bar_width / 2)\n",
    "ax.set_xticklabels(y.columns)\n",
    "ax.legend()\n",
    "\n",
    "plt.show()"
   ]
  },
  {
   "cell_type": "code",
   "execution_count": 111,
   "metadata": {},
   "outputs": [],
   "source": [
    "def plot_comparison(pred, actual, sample):\n",
    "    plt.figure(figsize=(15, 5))\n",
    "    plt.title(f\"Temperature Across Layers for Sample {sample}\")\n",
    "    plt.xlabel(\"Layer\")\n",
    "    plt.ylabel(\"Temperature (K)\")\n",
    "    plt.plot(pred, 'ro', label='predicted')\n",
    "    plt.plot(actual, 'b', label='actual')\n",
    "    plt.legend()\n",
    "    plt.show()"
   ]
  },
  {
   "cell_type": "code",
   "execution_count": 112,
   "metadata": {},
   "outputs": [],
   "source": [
    "actual_df = y_test\n",
    "pred_df = pd.DataFrame(make_predictions(X_test).detach().numpy())\n",
    "pred_df.columns = actual_df.columns"
   ]
  },
  {
   "cell_type": "code",
   "execution_count": 1,
   "metadata": {},
   "outputs": [
    {
     "ename": "NameError",
     "evalue": "name 'random' is not defined",
     "output_type": "error",
     "traceback": [
      "\u001b[1;31m---------------------------------------------------------------------------\u001b[0m",
      "\u001b[1;31mNameError\u001b[0m                                 Traceback (most recent call last)",
      "Cell \u001b[1;32mIn[1], line 3\u001b[0m\n\u001b[0;32m      1\u001b[0m indices \u001b[39m=\u001b[39m []\n\u001b[0;32m      2\u001b[0m \u001b[39mfor\u001b[39;00m i \u001b[39min\u001b[39;00m \u001b[39mrange\u001b[39m(\u001b[39m0\u001b[39m,\u001b[39m5\u001b[39m):\n\u001b[1;32m----> 3\u001b[0m     n \u001b[39m=\u001b[39m random\u001b[39m.\u001b[39mrandint(\u001b[39m0\u001b[39m, \u001b[39mlen\u001b[39m(y_test))\n\u001b[0;32m      4\u001b[0m     indices\u001b[39m.\u001b[39mappend(n)\n\u001b[0;32m      6\u001b[0m \u001b[39mfor\u001b[39;00m i \u001b[39min\u001b[39;00m indices:\n",
      "\u001b[1;31mNameError\u001b[0m: name 'random' is not defined"
     ]
    }
   ],
   "source": [
    "indices = []\n",
    "for i in range(0,5):\n",
    "    n = random.randint(0, len(y_test))\n",
    "    indices.append(n)\n",
    "\n",
    "for i in indices:\n",
    "    actual = actual_df.iloc[i,:]\n",
    "    pred = pred_df.iloc[i,:]\n",
    "\n",
    "    plot_comparison(pred, actual, i)"
   ]
  },
  {
   "cell_type": "code",
   "execution_count": null,
   "metadata": {},
   "outputs": [],
   "source": []
  }
 ],
 "metadata": {
  "kernelspec": {
   "display_name": "Python 3",
   "language": "python",
   "name": "python3"
  },
  "language_info": {
   "codemirror_mode": {
    "name": "ipython",
    "version": 3
   },
   "file_extension": ".py",
   "mimetype": "text/x-python",
   "name": "python",
   "nbconvert_exporter": "python",
   "pygments_lexer": "ipython3",
   "version": "3.11.3"
  },
  "orig_nbformat": 4
 },
 "nbformat": 4,
 "nbformat_minor": 2
}
