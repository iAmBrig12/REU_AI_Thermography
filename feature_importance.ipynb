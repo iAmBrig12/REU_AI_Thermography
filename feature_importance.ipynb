{
 "cells": [
  {
   "cell_type": "code",
   "execution_count": 110,
   "metadata": {},
   "outputs": [],
   "source": [
    "from sklearn.model_selection import train_test_split\n",
    "from sklearn.ensemble import RandomForestRegressor\n",
    "import pandas as pd\n",
    "import numpy as np"
   ]
  },
  {
   "cell_type": "code",
   "execution_count": 111,
   "metadata": {},
   "outputs": [],
   "source": [
    "df = pd.read_excel('wide_range.xlsx')\n",
    "layer = 11\n",
    "X = df.iloc[:, df.columns != f'layer {layer}']\n",
    "y = df.iloc[:,layer-1]\n",
    "\n",
    "X.columns = X.columns.astype(str)\n",
    "X = X.apply(lambda x: x*(10**12))"
   ]
  },
  {
   "cell_type": "code",
   "execution_count": 112,
   "metadata": {},
   "outputs": [],
   "source": [
    "X_train, X_test, y_train, y_test = train_test_split(X, y, train_size=0.7, random_state=101)"
   ]
  },
  {
   "cell_type": "code",
   "execution_count": 113,
   "metadata": {},
   "outputs": [
    {
     "data": {
      "text/plain": [
       "805     344.660386\n",
       "1798    318.387290\n",
       "193     305.241303\n",
       "162     359.882238\n",
       "1211    301.072836\n",
       "           ...    \n",
       "599     303.811769\n",
       "1599    307.688462\n",
       "1361    369.965830\n",
       "1547    324.166657\n",
       "863     340.244495\n",
       "Name: layer 11, Length: 1540, dtype: float64"
      ]
     },
     "execution_count": 113,
     "metadata": {},
     "output_type": "execute_result"
    }
   ],
   "source": [
    "y_train"
   ]
  },
  {
   "cell_type": "code",
   "execution_count": 114,
   "metadata": {},
   "outputs": [
    {
     "data": {
      "text/html": [
       "<style>#sk-container-id-11 {color: black;background-color: white;}#sk-container-id-11 pre{padding: 0;}#sk-container-id-11 div.sk-toggleable {background-color: white;}#sk-container-id-11 label.sk-toggleable__label {cursor: pointer;display: block;width: 100%;margin-bottom: 0;padding: 0.3em;box-sizing: border-box;text-align: center;}#sk-container-id-11 label.sk-toggleable__label-arrow:before {content: \"▸\";float: left;margin-right: 0.25em;color: #696969;}#sk-container-id-11 label.sk-toggleable__label-arrow:hover:before {color: black;}#sk-container-id-11 div.sk-estimator:hover label.sk-toggleable__label-arrow:before {color: black;}#sk-container-id-11 div.sk-toggleable__content {max-height: 0;max-width: 0;overflow: hidden;text-align: left;background-color: #f0f8ff;}#sk-container-id-11 div.sk-toggleable__content pre {margin: 0.2em;color: black;border-radius: 0.25em;background-color: #f0f8ff;}#sk-container-id-11 input.sk-toggleable__control:checked~div.sk-toggleable__content {max-height: 200px;max-width: 100%;overflow: auto;}#sk-container-id-11 input.sk-toggleable__control:checked~label.sk-toggleable__label-arrow:before {content: \"▾\";}#sk-container-id-11 div.sk-estimator input.sk-toggleable__control:checked~label.sk-toggleable__label {background-color: #d4ebff;}#sk-container-id-11 div.sk-label input.sk-toggleable__control:checked~label.sk-toggleable__label {background-color: #d4ebff;}#sk-container-id-11 input.sk-hidden--visually {border: 0;clip: rect(1px 1px 1px 1px);clip: rect(1px, 1px, 1px, 1px);height: 1px;margin: -1px;overflow: hidden;padding: 0;position: absolute;width: 1px;}#sk-container-id-11 div.sk-estimator {font-family: monospace;background-color: #f0f8ff;border: 1px dotted black;border-radius: 0.25em;box-sizing: border-box;margin-bottom: 0.5em;}#sk-container-id-11 div.sk-estimator:hover {background-color: #d4ebff;}#sk-container-id-11 div.sk-parallel-item::after {content: \"\";width: 100%;border-bottom: 1px solid gray;flex-grow: 1;}#sk-container-id-11 div.sk-label:hover label.sk-toggleable__label {background-color: #d4ebff;}#sk-container-id-11 div.sk-serial::before {content: \"\";position: absolute;border-left: 1px solid gray;box-sizing: border-box;top: 0;bottom: 0;left: 50%;z-index: 0;}#sk-container-id-11 div.sk-serial {display: flex;flex-direction: column;align-items: center;background-color: white;padding-right: 0.2em;padding-left: 0.2em;position: relative;}#sk-container-id-11 div.sk-item {position: relative;z-index: 1;}#sk-container-id-11 div.sk-parallel {display: flex;align-items: stretch;justify-content: center;background-color: white;position: relative;}#sk-container-id-11 div.sk-item::before, #sk-container-id-11 div.sk-parallel-item::before {content: \"\";position: absolute;border-left: 1px solid gray;box-sizing: border-box;top: 0;bottom: 0;left: 50%;z-index: -1;}#sk-container-id-11 div.sk-parallel-item {display: flex;flex-direction: column;z-index: 1;position: relative;background-color: white;}#sk-container-id-11 div.sk-parallel-item:first-child::after {align-self: flex-end;width: 50%;}#sk-container-id-11 div.sk-parallel-item:last-child::after {align-self: flex-start;width: 50%;}#sk-container-id-11 div.sk-parallel-item:only-child::after {width: 0;}#sk-container-id-11 div.sk-dashed-wrapped {border: 1px dashed gray;margin: 0 0.4em 0.5em 0.4em;box-sizing: border-box;padding-bottom: 0.4em;background-color: white;}#sk-container-id-11 div.sk-label label {font-family: monospace;font-weight: bold;display: inline-block;line-height: 1.2em;}#sk-container-id-11 div.sk-label-container {text-align: center;}#sk-container-id-11 div.sk-container {/* jupyter's `normalize.less` sets `[hidden] { display: none; }` but bootstrap.min.css set `[hidden] { display: none !important; }` so we also need the `!important` here to be able to override the default hidden behavior on the sphinx rendered scikit-learn.org. See: https://github.com/scikit-learn/scikit-learn/issues/21755 */display: inline-block !important;position: relative;}#sk-container-id-11 div.sk-text-repr-fallback {display: none;}</style><div id=\"sk-container-id-11\" class=\"sk-top-container\"><div class=\"sk-text-repr-fallback\"><pre>RandomForestRegressor(n_estimators=500, random_state=101)</pre><b>In a Jupyter environment, please rerun this cell to show the HTML representation or trust the notebook. <br />On GitHub, the HTML representation is unable to render, please try loading this page with nbviewer.org.</b></div><div class=\"sk-container\" hidden><div class=\"sk-item\"><div class=\"sk-estimator sk-toggleable\"><input class=\"sk-toggleable__control sk-hidden--visually\" id=\"sk-estimator-id-11\" type=\"checkbox\" checked><label for=\"sk-estimator-id-11\" class=\"sk-toggleable__label sk-toggleable__label-arrow\">RandomForestRegressor</label><div class=\"sk-toggleable__content\"><pre>RandomForestRegressor(n_estimators=500, random_state=101)</pre></div></div></div></div></div>"
      ],
      "text/plain": [
       "RandomForestRegressor(n_estimators=500, random_state=101)"
      ]
     },
     "execution_count": 114,
     "metadata": {},
     "output_type": "execute_result"
    }
   ],
   "source": [
    "forest = RandomForestRegressor(n_estimators=500, random_state=101)\n",
    "\n",
    "forest.fit(X_train, y_train)"
   ]
  },
  {
   "cell_type": "code",
   "execution_count": 115,
   "metadata": {},
   "outputs": [
    {
     "name": "stdout",
     "output_type": "stream",
     "text": [
      " 1) 7.55e-06                       0.110624\n",
      " 2) 7.85e-06                       0.103424\n",
      " 3) 7.65e-06                       0.100765\n",
      " 4) 7.6e-06                        0.100544\n",
      " 5) 7.8e-06                        0.086554\n",
      " 6) 7.7e-06                        0.084467\n",
      " 7) 7.5e-06                        0.080133\n",
      " 8) 7.75e-06                       0.076019\n",
      " 9) 7.95e-06                       0.075918\n",
      "10) 8e-06                          0.075550\n",
      "11) 7.9e-06                        0.069630\n",
      "12) 7.45e-06                       0.030714\n",
      "13) 7.4e-06                        0.004508\n",
      "14) 7.35e-06                       0.000807\n",
      "15) 7.3e-06                        0.000262\n",
      "16) 7.25e-06                       0.000061\n",
      "17) 7.2e-06                        0.000005\n",
      "18) 7.15e-06                       0.000004\n",
      "19) layer 2                        0.000000\n",
      "20) layer 6                        0.000000\n",
      "21) layer 7                        0.000000\n",
      "22) layer 4                        0.000000\n",
      "23) layer 3                        0.000000\n",
      "24) layer 5                        0.000000\n",
      "25) layer 8                        0.000000\n",
      "26) layer 9                        0.000000\n",
      "27) 4e-06                          0.000000\n",
      "28) 3.8e-06                        0.000000\n",
      "29) 4.1e-06                        0.000000\n",
      "30) 3.9e-06                        0.000000\n",
      "31) 3.95e-06                       0.000000\n",
      "32) 4.15e-06                       0.000000\n",
      "33) 4.3e-06                        0.000000\n",
      "34) layer 10                       0.000000\n",
      "35) 4.65e-06                       0.000000\n",
      "36) 4.05e-06                       0.000000\n",
      "37) 4.25e-06                       0.000000\n",
      "38) 4.2e-06                        0.000000\n",
      "39) layer 11                       0.000000\n",
      "40) 7.05e-06                       0.000000\n",
      "41) 7.1e-06                        0.000000\n",
      "42) 3.75e-06                       0.000000\n",
      "43) 4.6e-06                        0.000000\n",
      "44) 3.85e-06                       0.000000\n",
      "45) 4.55e-06                       0.000000\n",
      "46) 4.5e-06                        0.000000\n",
      "47) 4.4e-06                        0.000000\n",
      "48) 4.75e-06                       0.000000\n",
      "49) 4.35e-06                       0.000000\n",
      "50) 4.7e-06                        0.000000\n",
      "51) 4.45e-06                       0.000000\n",
      "52) 4.85e-06                       0.000000\n",
      "53) 4.9e-06                        0.000000\n",
      "54) 4.8e-06                        0.000000\n",
      "55) 6.9e-06                        0.000000\n",
      "56) 6.15e-06                       0.000000\n",
      "57) 6.85e-06                       0.000000\n",
      "58) 6.35e-06                       0.000000\n",
      "59) 7e-06                          0.000000\n",
      "60) 6.75e-06                       0.000000\n",
      "61) 6.95e-06                       0.000000\n",
      "62) 6.65e-06                       0.000000\n",
      "63) 6.25e-06                       0.000000\n",
      "64) 6.8e-06                        0.000000\n",
      "65) 6.7e-06                        0.000000\n",
      "66) 6.6e-06                        0.000000\n",
      "67) 5.05e-06                       0.000000\n",
      "68) 5e-06                          0.000000\n",
      "69) 6.4e-06                        0.000000\n",
      "70) 5.6e-06                        0.000000\n",
      "71) 5.9e-06                        0.000000\n",
      "72) 6.1e-06                        0.000000\n",
      "73) 4.95e-06                       0.000000\n",
      "74) 5.55e-06                       0.000000\n",
      "75) 5.35e-06                       0.000000\n",
      "76) 5.2e-06                        0.000000\n",
      "77) 6.5e-06                        0.000000\n",
      "78) 6.05e-06                       0.000000\n",
      "79) 5.75e-06                       0.000000\n",
      "80) 5.4e-06                        0.000000\n",
      "81) 5.5e-06                        0.000000\n",
      "82) 6.3e-06                        0.000000\n",
      "83) 5.8e-06                        0.000000\n",
      "84) 5.25e-06                       0.000000\n",
      "85) 5.15e-06                       0.000000\n",
      "86) 6.55e-06                       0.000000\n",
      "87) 6.2e-06                        0.000000\n",
      "88) 5.1e-06                        0.000000\n",
      "89) 5.85e-06                       0.000000\n",
      "90) 5.45e-06                       0.000000\n",
      "91) 5.3e-06                        0.000000\n",
      "92) 5.7e-06                        0.000000\n",
      "93) 5.95e-06                       0.000000\n",
      "94) 5.65e-06                       0.000000\n",
      "95) 6.45e-06                       0.000000\n",
      "96) 6e-06                          0.000000\n"
     ]
    }
   ],
   "source": [
    "importances = forest.feature_importances_\n",
    "\n",
    "sorted_indices = np.argsort(importances)[::-1]\n",
    "\n",
    "feat_labels = df.columns[1:]\n",
    "\n",
    "for f in range(X_train.shape[1]):\n",
    "    print(\"%2d) %-*s %f\" % (f + 1, 30,\n",
    "                            feat_labels[sorted_indices[f]],\n",
    "                            importances[sorted_indices[f]]))"
   ]
  },
  {
   "cell_type": "code",
   "execution_count": 116,
   "metadata": {},
   "outputs": [
    {
     "data": {
      "image/png": "[encoded data removed]",
      "text/plain": [
       "<Figure size 640x480 with 1 Axes>"
      ]
     },
     "metadata": {},
     "output_type": "display_data"
    }
   ],
   "source": [
    "import matplotlib.pyplot as plt\n",
    "%matplotlib inline\n",
    "\n",
    "plt.bar(range(X_train.shape[1]), importances[sorted_indices], align='center')\n",
    "plt.xticks(range(X_train.shape[1]), X_train.columns[sorted_indices], rotation=90)\n",
    "plt.tight_layout()\n",
    "plt.show()"
   ]
  },
  {
   "cell_type": "code",
   "execution_count": 117,
   "metadata": {},
   "outputs": [],
   "source": [
    "from sklearn.feature_selection import RFE\n",
    "from sklearn.linear_model import LinearRegression"
   ]
  },
  {
   "cell_type": "code",
   "execution_count": 118,
   "metadata": {},
   "outputs": [],
   "source": [
    "linear_model = LinearRegression()\n",
    "\n",
    "rfe = RFE(estimator=linear_model, n_features_to_select=10)"
   ]
  },
  {
   "cell_type": "code",
   "execution_count": 119,
   "metadata": {},
   "outputs": [],
   "source": [
    "X_selected = rfe.fit_transform(X, y)\n",
    "selected_feature_indices = rfe.get_support(indices=True)"
   ]
  },
  {
   "cell_type": "code",
   "execution_count": 120,
   "metadata": {},
   "outputs": [
    {
     "name": "stdout",
     "output_type": "stream",
     "text": [
      "[ 1  2  5  7  9 28 61 62 89 90]\n"
     ]
    }
   ],
   "source": [
    "print(selected_feature_indices)"
   ]
  },
  {
   "cell_type": "code",
   "execution_count": 121,
   "metadata": {},
   "outputs": [
    {
     "name": "stdout",
     "output_type": "stream",
     "text": [
      "layer 2\n",
      "layer 3\n",
      "layer 6\n",
      "layer 8\n",
      "layer 10 \n",
      "4.65e-06\n",
      "6.3e-06\n",
      "6.35e-06\n",
      "7.7e-06\n",
      "7.75e-06\n"
     ]
    }
   ],
   "source": [
    "for i in selected_feature_indices:\n",
    "    print(X.columns[i])"
   ]
  },
  {
   "cell_type": "code",
   "execution_count": 122,
   "metadata": {},
   "outputs": [
    {
     "data": {
      "text/html": [
       "<style>#sk-container-id-12 {color: black;background-color: white;}#sk-container-id-12 pre{padding: 0;}#sk-container-id-12 div.sk-toggleable {background-color: white;}#sk-container-id-12 label.sk-toggleable__label {cursor: pointer;display: block;width: 100%;margin-bottom: 0;padding: 0.3em;box-sizing: border-box;text-align: center;}#sk-container-id-12 label.sk-toggleable__label-arrow:before {content: \"▸\";float: left;margin-right: 0.25em;color: #696969;}#sk-container-id-12 label.sk-toggleable__label-arrow:hover:before {color: black;}#sk-container-id-12 div.sk-estimator:hover label.sk-toggleable__label-arrow:before {color: black;}#sk-container-id-12 div.sk-toggleable__content {max-height: 0;max-width: 0;overflow: hidden;text-align: left;background-color: #f0f8ff;}#sk-container-id-12 div.sk-toggleable__content pre {margin: 0.2em;color: black;border-radius: 0.25em;background-color: #f0f8ff;}#sk-container-id-12 input.sk-toggleable__control:checked~div.sk-toggleable__content {max-height: 200px;max-width: 100%;overflow: auto;}#sk-container-id-12 input.sk-toggleable__control:checked~label.sk-toggleable__label-arrow:before {content: \"▾\";}#sk-container-id-12 div.sk-estimator input.sk-toggleable__control:checked~label.sk-toggleable__label {background-color: #d4ebff;}#sk-container-id-12 div.sk-label input.sk-toggleable__control:checked~label.sk-toggleable__label {background-color: #d4ebff;}#sk-container-id-12 input.sk-hidden--visually {border: 0;clip: rect(1px 1px 1px 1px);clip: rect(1px, 1px, 1px, 1px);height: 1px;margin: -1px;overflow: hidden;padding: 0;position: absolute;width: 1px;}#sk-container-id-12 div.sk-estimator {font-family: monospace;background-color: #f0f8ff;border: 1px dotted black;border-radius: 0.25em;box-sizing: border-box;margin-bottom: 0.5em;}#sk-container-id-12 div.sk-estimator:hover {background-color: #d4ebff;}#sk-container-id-12 div.sk-parallel-item::after {content: \"\";width: 100%;border-bottom: 1px solid gray;flex-grow: 1;}#sk-container-id-12 div.sk-label:hover label.sk-toggleable__label {background-color: #d4ebff;}#sk-container-id-12 div.sk-serial::before {content: \"\";position: absolute;border-left: 1px solid gray;box-sizing: border-box;top: 0;bottom: 0;left: 50%;z-index: 0;}#sk-container-id-12 div.sk-serial {display: flex;flex-direction: column;align-items: center;background-color: white;padding-right: 0.2em;padding-left: 0.2em;position: relative;}#sk-container-id-12 div.sk-item {position: relative;z-index: 1;}#sk-container-id-12 div.sk-parallel {display: flex;align-items: stretch;justify-content: center;background-color: white;position: relative;}#sk-container-id-12 div.sk-item::before, #sk-container-id-12 div.sk-parallel-item::before {content: \"\";position: absolute;border-left: 1px solid gray;box-sizing: border-box;top: 0;bottom: 0;left: 50%;z-index: -1;}#sk-container-id-12 div.sk-parallel-item {display: flex;flex-direction: column;z-index: 1;position: relative;background-color: white;}#sk-container-id-12 div.sk-parallel-item:first-child::after {align-self: flex-end;width: 50%;}#sk-container-id-12 div.sk-parallel-item:last-child::after {align-self: flex-start;width: 50%;}#sk-container-id-12 div.sk-parallel-item:only-child::after {width: 0;}#sk-container-id-12 div.sk-dashed-wrapped {border: 1px dashed gray;margin: 0 0.4em 0.5em 0.4em;box-sizing: border-box;padding-bottom: 0.4em;background-color: white;}#sk-container-id-12 div.sk-label label {font-family: monospace;font-weight: bold;display: inline-block;line-height: 1.2em;}#sk-container-id-12 div.sk-label-container {text-align: center;}#sk-container-id-12 div.sk-container {/* jupyter's `normalize.less` sets `[hidden] { display: none; }` but bootstrap.min.css set `[hidden] { display: none !important; }` so we also need the `!important` here to be able to override the default hidden behavior on the sphinx rendered scikit-learn.org. See: https://github.com/scikit-learn/scikit-learn/issues/21755 */display: inline-block !important;position: relative;}#sk-container-id-12 div.sk-text-repr-fallback {display: none;}</style><div id=\"sk-container-id-12\" class=\"sk-top-container\"><div class=\"sk-text-repr-fallback\"><pre>LinearRegression()</pre><b>In a Jupyter environment, please rerun this cell to show the HTML representation or trust the notebook. <br />On GitHub, the HTML representation is unable to render, please try loading this page with nbviewer.org.</b></div><div class=\"sk-container\" hidden><div class=\"sk-item\"><div class=\"sk-estimator sk-toggleable\"><input class=\"sk-toggleable__control sk-hidden--visually\" id=\"sk-estimator-id-12\" type=\"checkbox\" checked><label for=\"sk-estimator-id-12\" class=\"sk-toggleable__label sk-toggleable__label-arrow\">LinearRegression</label><div class=\"sk-toggleable__content\"><pre>LinearRegression()</pre></div></div></div></div></div>"
      ],
      "text/plain": [
       "LinearRegression()"
      ]
     },
     "execution_count": 122,
     "metadata": {},
     "output_type": "execute_result"
    }
   ],
   "source": [
    "model = LinearRegression()\n",
    "model.fit(X_train, y_train)"
   ]
  },
  {
   "cell_type": "code",
   "execution_count": 123,
   "metadata": {},
   "outputs": [
    {
     "name": "stdout",
     "output_type": "stream",
     "text": [
      "Feature: 0, Score: 0.00000\n",
      "Feature: 1, Score: 0.00000\n",
      "Feature: 2, Score: -0.00000\n",
      "Feature: 3, Score: 0.00000\n",
      "Feature: 4, Score: -0.00000\n",
      "Feature: 5, Score: 0.00000\n",
      "Feature: 6, Score: -0.00000\n",
      "Feature: 7, Score: -0.00000\n",
      "Feature: 8, Score: 0.00000\n",
      "Feature: 9, Score: 0.00000\n",
      "Feature: 10, Score: -0.00000\n",
      "Feature: 11, Score: -0.00000\n",
      "Feature: 12, Score: -0.00000\n",
      "Feature: 13, Score: -0.00000\n",
      "Feature: 14, Score: -0.00000\n",
      "Feature: 15, Score: -0.00000\n",
      "Feature: 16, Score: -0.00000\n",
      "Feature: 17, Score: -0.00000\n",
      "Feature: 18, Score: -0.00000\n",
      "Feature: 19, Score: -0.00000\n",
      "Feature: 20, Score: -0.00000\n",
      "Feature: 21, Score: -0.00000\n",
      "Feature: 22, Score: 0.00000\n",
      "Feature: 23, Score: 0.00000\n",
      "Feature: 24, Score: 0.00000\n",
      "Feature: 25, Score: 0.00000\n",
      "Feature: 26, Score: -0.00000\n",
      "Feature: 27, Score: 0.00000\n",
      "Feature: 28, Score: 0.00000\n",
      "Feature: 29, Score: 0.00000\n",
      "Feature: 30, Score: 0.00000\n",
      "Feature: 31, Score: 0.00000\n",
      "Feature: 32, Score: 0.00000\n",
      "Feature: 33, Score: 0.00000\n",
      "Feature: 34, Score: 0.00000\n",
      "Feature: 35, Score: 0.00000\n",
      "Feature: 36, Score: 0.00000\n",
      "Feature: 37, Score: 0.00000\n",
      "Feature: 38, Score: 0.00000\n",
      "Feature: 39, Score: 0.00000\n",
      "Feature: 40, Score: 0.00000\n",
      "Feature: 41, Score: 0.00000\n",
      "Feature: 42, Score: 0.00000\n",
      "Feature: 43, Score: 0.00000\n",
      "Feature: 44, Score: 0.00000\n",
      "Feature: 45, Score: 0.00000\n",
      "Feature: 46, Score: 0.00000\n",
      "Feature: 47, Score: 0.00000\n",
      "Feature: 48, Score: 0.00000\n",
      "Feature: 49, Score: 0.00000\n",
      "Feature: 50, Score: 0.00000\n",
      "Feature: 51, Score: 0.00000\n",
      "Feature: 52, Score: -0.00000\n",
      "Feature: 53, Score: -0.00000\n",
      "Feature: 54, Score: -0.00000\n",
      "Feature: 55, Score: -0.00000\n",
      "Feature: 56, Score: -0.00000\n",
      "Feature: 57, Score: -0.00000\n",
      "Feature: 58, Score: -0.00000\n",
      "Feature: 59, Score: -0.00000\n",
      "Feature: 60, Score: -0.00000\n",
      "Feature: 61, Score: -0.00000\n",
      "Feature: 62, Score: -0.00000\n",
      "Feature: 63, Score: -0.00000\n",
      "Feature: 64, Score: -0.00000\n",
      "Feature: 65, Score: -0.00000\n",
      "Feature: 66, Score: -0.00000\n",
      "Feature: 67, Score: -0.00000\n",
      "Feature: 68, Score: -0.00000\n",
      "Feature: 69, Score: -0.00000\n",
      "Feature: 70, Score: -0.00000\n",
      "Feature: 71, Score: -0.00000\n",
      "Feature: 72, Score: -0.00000\n",
      "Feature: 73, Score: -0.00000\n",
      "Feature: 74, Score: -0.00000\n",
      "Feature: 75, Score: -0.00000\n",
      "Feature: 76, Score: -0.00000\n",
      "Feature: 77, Score: -0.00000\n",
      "Feature: 78, Score: -0.00000\n",
      "Feature: 79, Score: -0.00000\n",
      "Feature: 80, Score: -0.00000\n",
      "Feature: 81, Score: -0.00000\n",
      "Feature: 82, Score: 0.00000\n",
      "Feature: 83, Score: 0.00000\n",
      "Feature: 84, Score: 0.00000\n",
      "Feature: 85, Score: 0.00000\n",
      "Feature: 86, Score: 0.00000\n",
      "Feature: 87, Score: 0.00000\n",
      "Feature: 88, Score: 0.00000\n",
      "Feature: 89, Score: 0.00000\n",
      "Feature: 90, Score: 0.00000\n",
      "Feature: 91, Score: 0.00000\n",
      "Feature: 92, Score: 0.00000\n",
      "Feature: 93, Score: 0.00000\n",
      "Feature: 94, Score: 0.00000\n",
      "Feature: 95, Score: 0.00000\n"
     ]
    },
    {
     "data": {
      "image/png": "[encoded data removed]",
      "text/plain": [
       "<Figure size 640x480 with 1 Axes>"
      ]
     },
     "metadata": {},
     "output_type": "display_data"
    }
   ],
   "source": [
    "importance = model.coef_\n",
    "\n",
    "for i, v in enumerate(importance):\n",
    "    print('Feature: %0d, Score: %.5f' % (i,v))\n",
    "# plot feature importance\n",
    "plt.bar([x for x in range(len(importance))], importance)\n",
    "plt.show()"
   ]
  },
  {
   "cell_type": "code",
   "execution_count": 124,
   "metadata": {},
   "outputs": [
    {
     "name": "stdout",
     "output_type": "stream",
     "text": [
      " 1) layer 6                        0.000000\n",
      " 2) layer 4                        0.000000\n",
      " 3) layer 9                        0.000000\n",
      " 4) 4.75e-06                       0.000000\n",
      " 5) layer 10                       0.000000\n",
      " 6) layer 2                        0.000000\n",
      " 7) 4.7e-06                        0.000000\n",
      " 8) 4.8e-06                        0.000000\n",
      " 9) 4.85e-06                       0.000000\n",
      "10) 4.9e-06                        0.000000\n",
      "11) 4.95e-06                       0.000000\n",
      "12) 5e-06                          0.000000\n",
      "13) 4.65e-06                       0.000000\n",
      "14) 5.05e-06                       0.000000\n",
      "15) 5.1e-06                        0.000000\n",
      "16) 7.7e-06                        0.084467\n",
      "17) 7.75e-06                       0.076019\n",
      "18) 7.65e-06                       0.100765\n",
      "19) 7.8e-06                        0.086554\n",
      "20) 7.85e-06                       0.103424\n",
      "21) 7.6e-06                        0.100544\n",
      "22) 7.9e-06                        0.069630\n",
      "23) 5.15e-06                       0.000000\n",
      "24) 7.95e-06                       0.075918\n",
      "25) 7.55e-06                       0.110624\n",
      "26) 8e-06                          0.075550\n",
      "27) layer 1                        0.000000\n",
      "28) 5.2e-06                        0.000000\n",
      "29) 7.5e-06                        0.080133\n",
      "30) 5.25e-06                       0.000000\n",
      "31) 7.45e-06                       0.030714\n",
      "32) 5.3e-06                        0.000000\n",
      "33) 4.4e-06                        0.000000\n",
      "34) 5.35e-06                       0.000000\n",
      "35) 7.4e-06                        0.004508\n",
      "36) 5.4e-06                        0.000000\n",
      "37) 4.35e-06                       0.000000\n",
      "38) 4.45e-06                       0.000000\n",
      "39) 5.45e-06                       0.000000\n",
      "40) 5.5e-06                        0.000000\n",
      "41) 7.35e-06                       0.000807\n",
      "42) 5.55e-06                       0.000000\n",
      "43) 5.6e-06                        0.000000\n",
      "44) 4.5e-06                        0.000000\n",
      "45) 5.65e-06                       0.000000\n",
      "46) 5.7e-06                        0.000000\n",
      "47) 4.6e-06                        0.000000\n",
      "48) 5.75e-06                       0.000000\n",
      "49) 5.8e-06                        0.000000\n",
      "50) layer 7                        0.000000\n",
      "51) layer 5                        0.000000\n",
      "52) 7.3e-06                        0.000262\n",
      "53) 5.85e-06                       0.000000\n",
      "54) 5.9e-06                        0.000000\n",
      "55) 5.95e-06                       0.000000\n",
      "56) 6e-06                          0.000000\n",
      "57) 6.05e-06                       0.000000\n",
      "58) 7.25e-06                       0.000061\n",
      "59) 6.1e-06                        0.000000\n",
      "60) 6.15e-06                       0.000000\n",
      "61) 4.55e-06                       0.000000\n",
      "62) 6.2e-06                        0.000000\n",
      "63) 7.2e-06                        0.000005\n",
      "64) 6.25e-06                       0.000000\n",
      "65) 4.3e-06                        0.000000\n",
      "66) 6.3e-06                        0.000000\n",
      "67) 7.15e-06                       0.000004\n",
      "68) 6.35e-06                       0.000000\n",
      "69) 6.4e-06                        0.000000\n",
      "70) 7.1e-06                        0.000000\n",
      "71) 6.45e-06                       0.000000\n",
      "72) 6.5e-06                        0.000000\n",
      "73) 7.05e-06                       0.000000\n",
      "74) 6.55e-06                       0.000000\n",
      "75) 6.6e-06                        0.000000\n",
      "76) 7e-06                          0.000000\n",
      "77) 6.65e-06                       0.000000\n",
      "78) 6.7e-06                        0.000000\n",
      "79) 4.25e-06                       0.000000\n",
      "80) 3.75e-06                       0.000000\n",
      "81) 6.95e-06                       0.000000\n",
      "82) 6.75e-06                       0.000000\n",
      "83) 6.8e-06                        0.000000\n",
      "84) 6.9e-06                        0.000000\n",
      "85) 6.85e-06                       0.000000\n",
      "86) 3.8e-06                        0.000000\n",
      "87) 3.9e-06                        0.000000\n",
      "88) 4.1e-06                        0.000000\n",
      "89) 4.2e-06                        0.000000\n",
      "90) 4.15e-06                       0.000000\n",
      "91) 3.85e-06                       0.000000\n",
      "92) 4e-06                          0.000000\n",
      "93) 3.95e-06                       0.000000\n",
      "94) 4.05e-06                       0.000000\n",
      "95) layer 3                        0.000000\n",
      "96) layer 8                        0.000000\n"
     ]
    }
   ],
   "source": [
    "sorted_indices = np.argsort(importance)[::-1]\n",
    "\n",
    "feat_labels = X.columns\n",
    "\n",
    "for f in range(X_train.shape[1]):\n",
    "    print(\"%2d) %-*s %f\" % (f + 1, 30,\n",
    "                            feat_labels[sorted_indices[f]],\n",
    "                            importances[sorted_indices[f]]))"
   ]
  },
  {
   "cell_type": "code",
   "execution_count": null,
   "metadata": {},
   "outputs": [],
   "source": []
  }
 ],
 "metadata": {
  "kernelspec": {
   "display_name": "Python 3",
   "language": "python",
   "name": "python3"
  },
  "language_info": {
   "codemirror_mode": {
    "name": "ipython",
    "version": 3
   },
   "file_extension": ".py",
   "mimetype": "text/x-python",
   "name": "python",
   "nbconvert_exporter": "python",
   "pygments_lexer": "ipython3",
   "version": "3.11.3"
  },
  "orig_nbformat": 4
 },
 "nbformat": 4,
 "nbformat_minor": 2
}
