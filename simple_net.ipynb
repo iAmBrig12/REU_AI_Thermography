{
 "cells": [
  {
   "cell_type": "code",
   "execution_count": 97,
   "metadata": {},
   "outputs": [],
   "source": [
    "import torch\n",
    "import torch.nn as nn\n",
    "import torch.nn.functional as F\n",
    "import numpy as np\n",
    "import matplotlib.pyplot as plt\n",
    "import pandas as pd\n",
    "from sklearn.model_selection import train_test_split\n",
    "from datetime import datetime\n",
    "from sklearn.preprocessing import StandardScaler\n",
    "from sklearn.preprocessing import MinMaxScaler\n",
    "from sklearn.preprocessing import MaxAbsScaler\n",
    "from sklearn.preprocessing import RobustScaler\n",
    "from sklearn.preprocessing import QuantileTransformer\n",
    "from sklearn.preprocessing import Normalizer\n",
    "from sklearn.feature_selection import RFE\n",
    "from sklearn.linear_model import LinearRegression\n",
    "from sklearn.ensemble import GradientBoostingRegressor\n",
    "import random\n",
    "%matplotlib inline"
   ]
  },
  {
   "cell_type": "code",
   "execution_count": 98,
   "metadata": {},
   "outputs": [],
   "source": [
    "args = {'lr':0.01,\n",
    "        'train epochs':10000,\n",
    "        'hidden layers':6,\n",
    "        'noise':0.01,\n",
    "        'train size':0.7,\n",
    "        'spec scale':10**12,\n",
    "        'train criterion':nn.L1Loss(),\n",
    "        'test criterion':nn.L1Loss(),\n",
    "        'scaler':RobustScaler(),\n",
    "        'dropout':0.2\n",
    "        }"
   ]
  },
  {
   "cell_type": "code",
   "execution_count": 99,
   "metadata": {},
   "outputs": [],
   "source": [
    "df = pd.read_excel('data_3nm.xlsx')"
   ]
  },
  {
   "cell_type": "code",
   "execution_count": 100,
   "metadata": {},
   "outputs": [],
   "source": [
    "# spectrum data\n",
    "X = df.iloc[:,11:]\n",
    "\n",
    "# layer data\n",
    "y = df.iloc[:,:11]"
   ]
  },
  {
   "cell_type": "code",
   "execution_count": 101,
   "metadata": {},
   "outputs": [],
   "source": [
    "# scale by 10^12\n",
    "X = X.apply(lambda x: x*args['spec scale'])"
   ]
  },
  {
   "cell_type": "code",
   "execution_count": 102,
   "metadata": {},
   "outputs": [],
   "source": [
    "def add_noise(data, percentage):\n",
    "    std_dev = percentage\n",
    "    noise = np.random.normal(0, std_dev, data.shape)\n",
    "    noisy_data = data + noise\n",
    "    return noisy_data"
   ]
  },
  {
   "cell_type": "code",
   "execution_count": 103,
   "metadata": {},
   "outputs": [],
   "source": [
    "# add noise\n",
    "X_noisy = add_noise(X, args['noise'])"
   ]
  },
  {
   "cell_type": "code",
   "execution_count": 104,
   "metadata": {},
   "outputs": [],
   "source": [
    "scaler = args['scaler']\n",
    "scaler.fit(X_noisy)\n",
    "X_noisy_scaled = scaler.transform(X_noisy)\n",
    "\n",
    "X_noisy_scaled_df = pd.DataFrame(X_noisy_scaled, columns=X.columns)"
   ]
  },
  {
   "cell_type": "code",
   "execution_count": 105,
   "metadata": {},
   "outputs": [],
   "source": [
    "X_train, X_test, y_train, y_test = train_test_split(X_noisy_scaled_df, y, train_size=args['train size'], random_state=101)"
   ]
  },
  {
   "cell_type": "code",
   "execution_count": 106,
   "metadata": {},
   "outputs": [],
   "source": [
    "X_train_tensor = torch.tensor(X_train.values, dtype=torch.float32)\n",
    "X_test_tensor = torch.tensor(X_test.values, dtype=torch.float32)\n",
    "y_train_tensor = torch.tensor(y_train.values, dtype=torch.float32)\n",
    "y_test_tensor = torch.tensor(y_test.values, dtype=torch.float32)"
   ]
  },
  {
   "cell_type": "code",
   "execution_count": 107,
   "metadata": {},
   "outputs": [],
   "source": [
    "class Net(nn.Module):\n",
    "    def __init__(self, input_size, output_size, num_hidden):\n",
    "        super(Net, self).__init__()\n",
    "        \n",
    "        start_size = 60\n",
    "        hidden_sizes = [input_size]\n",
    "        step = input_size / (num_hidden+1)\n",
    "\n",
    "        for i in range(num_hidden):\n",
    "            hidden_size = int(start_size - (i+1) * step)\n",
    "            if hidden_size < 11: hidden_size = 11\n",
    "            hidden_sizes.append(hidden_size)\n",
    "        \n",
    "        self.hidden_layers = nn.ModuleList()\n",
    "\n",
    "        for i in range(num_hidden):\n",
    "            self.hidden_layers.append(nn.Linear(hidden_sizes[i], hidden_sizes[i+1]))\n",
    "\n",
    "        self.hidden_sizes = hidden_sizes\n",
    "        self.lin_fin = nn.Linear(hidden_sizes[-1], output_size)\n",
    "        self.dropout = nn.Dropout(args['dropout'])\n",
    "\n",
    "    def forward(self, x):\n",
    "        for hidden_layer in self.hidden_layers:\n",
    "            x = F.leaky_relu(hidden_layer(x))\n",
    "        #x = self.dropout(x)\n",
    "        x = self.lin_fin(x)\n",
    "        return x"
   ]
  },
  {
   "cell_type": "code",
   "execution_count": 108,
   "metadata": {},
   "outputs": [],
   "source": [
    "criterion = args['train criterion']\n",
    "model = Net(X_train_tensor.size()[1], y_train_tensor.size()[1], args['hidden layers'])\n",
    "optimizer = torch.optim.Rprop(model.parameters(), lr=args['lr'])"
   ]
  },
  {
   "cell_type": "code",
   "execution_count": 109,
   "metadata": {},
   "outputs": [
    {
     "name": "stdout",
     "output_type": "stream",
     "text": [
      "epoch: 1000, loss = 6.443\n",
      "epoch: 2000, loss = 6.439\n",
      "epoch: 3000, loss = 6.436\n",
      "epoch: 4000, loss = 6.434\n",
      "epoch: 5000, loss = 6.433\n",
      "epoch: 6000, loss = 6.432\n",
      "epoch: 7000, loss = 6.431\n",
      "epoch: 8000, loss = 6.430\n",
      "epoch: 9000, loss = 6.429\n",
      "epoch: 10000, loss = 6.429\n",
      "best loss: 6.429 in epoch 10000\n",
      "\n"
     ]
    }
   ],
   "source": [
    "best_loss = np.inf\n",
    "best_epoch = 0\n",
    "train_losses = []\n",
    "\n",
    "for epoch in range(args['train epochs']):\n",
    "    # forward pass\n",
    "    outputs = model(X_train_tensor)\n",
    "\n",
    "    # get loss\n",
    "    loss = criterion(outputs, y_train_tensor)\n",
    "\n",
    "    # update and backward pass\n",
    "    optimizer.zero_grad()\n",
    "    loss.backward()\n",
    "    optimizer.step()\n",
    "\n",
    "    train_losses.append(loss.item())\n",
    "    \n",
    "    if loss.item() < best_loss:\n",
    "        best_loss = loss.item()\n",
    "        best_epoch = epoch+1\n",
    "\n",
    "    if (epoch+1) % int(args['train epochs']/10) == 0:\n",
    "        print(f'epoch: {epoch+1}, loss = {loss:.3f}')\n",
    "\n",
    "print(f'best loss: {best_loss:.3f} in epoch {best_epoch}\\n')  "
   ]
  },
  {
   "cell_type": "code",
   "execution_count": 110,
   "metadata": {},
   "outputs": [
    {
     "name": "stdout",
     "output_type": "stream",
     "text": [
      "6.725154399871826\n"
     ]
    }
   ],
   "source": [
    "with torch.no_grad():\n",
    "    pred = model(X_test_tensor)\n",
    "    loss = criterion(pred, y_test_tensor)\n",
    "\n",
    "    print(loss.item())"
   ]
  },
  {
   "cell_type": "code",
   "execution_count": null,
   "metadata": {},
   "outputs": [],
   "source": []
  }
 ],
 "metadata": {
  "kernelspec": {
   "display_name": "Python 3",
   "language": "python",
   "name": "python3"
  },
  "language_info": {
   "codemirror_mode": {
    "name": "ipython",
    "version": 3
   },
   "file_extension": ".py",
   "mimetype": "text/x-python",
   "name": "python",
   "nbconvert_exporter": "python",
   "pygments_lexer": "ipython3",
   "version": "3.11.3"
  },
  "orig_nbformat": 4
 },
 "nbformat": 4,
 "nbformat_minor": 2
}
