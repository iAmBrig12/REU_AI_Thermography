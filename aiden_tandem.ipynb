{
 "cells": [
  {
   "cell_type": "code",
   "execution_count": 197,
   "metadata": {},
   "outputs": [],
   "source": [
    "import torch\n",
    "import torch.nn as nn\n",
    "import torch.nn.functional as F\n",
    "import numpy as np\n",
    "import matplotlib.pyplot as plt\n",
    "import pandas as pd\n",
    "%matplotlib inline"
   ]
  },
  {
   "attachments": {},
   "cell_type": "markdown",
   "metadata": {},
   "source": [
    "# Helper Functions"
   ]
  },
  {
   "cell_type": "code",
   "execution_count": 198,
   "metadata": {},
   "outputs": [],
   "source": [
    "def add_noise(df, scale):\n",
    "    noise = pd.DataFrame(np.random.normal(loc=0, scale=scale, size=df.shape), columns=df.columns)\n",
    "\n",
    "    df_noisy = noise.add(df)\n",
    "\n",
    "    return df_noisy"
   ]
  },
  {
   "cell_type": "code",
   "execution_count": 199,
   "metadata": {},
   "outputs": [],
   "source": [
    "# determine the supported device\n",
    "def get_device():\n",
    "    if torch.cuda.is_available():\n",
    "        device = torch.device('cuda:0')\n",
    "    else:\n",
    "        device = torch.device('cpu') # don't have GPU \n",
    "    return device\n",
    "\n",
    "# convert a df to tensor\n",
    "def df_to_tensor(df):\n",
    "    device = get_device()\n",
    "    return torch.from_numpy(df.values.astype(np.float32)).to(device)"
   ]
  },
  {
   "attachments": {},
   "cell_type": "markdown",
   "metadata": {},
   "source": [
    "# Prepare Data"
   ]
  },
  {
   "cell_type": "code",
   "execution_count": 200,
   "metadata": {},
   "outputs": [],
   "source": [
    "# read data\n",
    "spectrum_train = pd.read_excel('spectrum_train.xlsx')\n",
    "spectrum_test = pd.read_excel('spectrum_valid.xlsx')\n",
    "temp_train = pd.read_excel('temp_train.xlsx')\n",
    "temp_test = pd.read_excel('temp_valid.xlsx')"
   ]
  },
  {
   "cell_type": "code",
   "execution_count": 201,
   "metadata": {},
   "outputs": [],
   "source": [
    "# scale spectrum data\n",
    "data_scale = 10**12\n",
    "spectrum_train = spectrum_train.multiply(data_scale)\n",
    "spectrum_test = spectrum_test.multiply(data_scale)"
   ]
  },
  {
   "cell_type": "code",
   "execution_count": 202,
   "metadata": {},
   "outputs": [],
   "source": [
    "# set train and test data\n",
    "\n",
    "# 1 - noise added to training data\n",
    "# 0 - no noise added\n",
    "noise_scale = 10\n",
    "noise = 0\n",
    "\n",
    "if noise:\n",
    "    temp_train = add_noise(temp_train, noise_scale)\n",
    "\n",
    "x_train = temp_train\n",
    "x_test = temp_test\n",
    "y_train = spectrum_train\n",
    "y_test = spectrum_test"
   ]
  },
  {
   "cell_type": "code",
   "execution_count": 203,
   "metadata": {},
   "outputs": [],
   "source": [
    "# create input and output tensors for the forward model\n",
    "x = df_to_tensor(x_train)\n",
    "y = df_to_tensor(y_train)"
   ]
  },
  {
   "cell_type": "code",
   "execution_count": 204,
   "metadata": {},
   "outputs": [
    {
     "name": "stdout",
     "output_type": "stream",
     "text": [
      "x shape: torch.Size([2000, 11])\n",
      "y shape: torch.Size([2000, 66])\n"
     ]
    }
   ],
   "source": [
    "n_samples, middle_size = x.shape\n",
    "_, io_size = y.shape\n",
    "# middle_size = 66, io_size = 11\n",
    "print(f'x shape: {x.shape}')\n",
    "print(f'y shape: {y.shape}')"
   ]
  },
  {
   "attachments": {},
   "cell_type": "markdown",
   "metadata": {},
   "source": [
    "# Design Model "
   ]
  },
  {
   "attachments": {},
   "cell_type": "markdown",
   "metadata": {},
   "source": [
    "### Forward Model — middle_size to i/o_size"
   ]
  },
  {
   "cell_type": "code",
   "execution_count": 205,
   "metadata": {},
   "outputs": [],
   "source": [
    "class ForwardNet(nn.Module):\n",
    "    def __init__(self, middle_size, io_size):\n",
    "        super(ForwardNet, self).__init__()\n",
    "        self.lin1 = nn.Linear(middle_size, 30)\n",
    "        self.lin2 = nn.Linear(30, 30)\n",
    "        self.lin_fin = nn.Linear(30, io_size)\n",
    "\n",
    "    def forward(self, x):\n",
    "        output = F.leaky_relu(self.lin1(x))\n",
    "        output = F.leaky_relu(self.lin2(output))\n",
    "        output = self.lin_fin(output)\n",
    "        return output"
   ]
  },
  {
   "cell_type": "code",
   "execution_count": 206,
   "metadata": {},
   "outputs": [],
   "source": [
    "class InverseNet(nn.Module):\n",
    "    def __init__(self, io_size, middle_size, out_transform=nn.Sigmoid()):\n",
    "        super(InverseNet, self).__init__()\n",
    "        self.lin1 = nn.Linear(io_size, 30)\n",
    "        self.lin2 = nn.Linear(30, 30)\n",
    "        self.out = nn.Linear(30, middle_size)\n",
    "        self.out_transform = out_transform\n",
    "\n",
    "    def forward(self, y):\n",
    "        h = F.leaky_relu(self.lin1(y))\n",
    "        h = F.leaky_relu(self.lin2(h))\n",
    "        o = self.out(h)\n",
    "        if self.out_transform:\n",
    "            o = self.out_transform(o)\n",
    "        return o"
   ]
  },
  {
   "cell_type": "code",
   "execution_count": 207,
   "metadata": {},
   "outputs": [],
   "source": [
    "class TandemNet(nn.Module):\n",
    "\n",
    "    def __init__(self, forward_model, inverse_model):\n",
    "        super(TandemNet, self).__init__()\n",
    "        self.forward_model = forward_model\n",
    "        self.inverse_model = inverse_model\n",
    "\n",
    "    def forward(self, y):\n",
    "        '''\n",
    "        Args:\n",
    "            y: true CIE coordinates\n",
    "        \n",
    "        Returns:\n",
    "            x_: predicted structural parameters\n",
    "            y_: predicted CIE coordinates for the inversely-designed structure\n",
    "\n",
    "        '''\n",
    "        pred_temp = self.inverse_model(y)\n",
    "        pred_spec = self.forward_model(pred_temp)\n",
    "        return pred_temp, pred_spec"
   ]
  },
  {
   "cell_type": "code",
   "execution_count": 208,
   "metadata": {},
   "outputs": [
    {
     "name": "stdout",
     "output_type": "stream",
     "text": [
      "tensor([[ 0.0381,  0.0457, -0.1788,  ...,  0.1872, -0.1246,  0.0981],\n",
      "        [ 0.0382,  0.0455, -0.1788,  ...,  0.1870, -0.1246,  0.0982],\n",
      "        [ 0.0374,  0.0462, -0.1783,  ...,  0.1880, -0.1245,  0.0970],\n",
      "        ...,\n",
      "        [ 0.0378,  0.0458, -0.1785,  ...,  0.1874, -0.1245,  0.0977],\n",
      "        [ 0.0381,  0.0456, -0.1787,  ...,  0.1871, -0.1245,  0.0980],\n",
      "        [ 0.0382,  0.0457, -0.1789,  ...,  0.1871, -0.1246,  0.0982]],\n",
      "       grad_fn=<AddmmBackward0>)\n",
      "(tensor([[0.5326, 0.5215, 0.4690,  ..., 0.4688, 0.5588, 0.5243],\n",
      "        [0.5299, 0.5207, 0.4710,  ..., 0.4688, 0.5567, 0.5256],\n",
      "        [0.5435, 0.5214, 0.4631,  ..., 0.4642, 0.5779, 0.5165],\n",
      "        ...,\n",
      "        [0.5362, 0.5216, 0.4666,  ..., 0.4675, 0.5645, 0.5220],\n",
      "        [0.5316, 0.5208, 0.4705,  ..., 0.4683, 0.5594, 0.5245],\n",
      "        [0.5319, 0.5217, 0.4697,  ..., 0.4699, 0.5566, 0.5250]],\n",
      "       grad_fn=<SigmoidBackward0>), tensor([[ 0.0381,  0.0457, -0.1788,  ...,  0.1872, -0.1246,  0.0981],\n",
      "        [ 0.0382,  0.0455, -0.1788,  ...,  0.1870, -0.1246,  0.0982],\n",
      "        [ 0.0374,  0.0462, -0.1783,  ...,  0.1880, -0.1245,  0.0970],\n",
      "        ...,\n",
      "        [ 0.0378,  0.0458, -0.1785,  ...,  0.1874, -0.1245,  0.0977],\n",
      "        [ 0.0381,  0.0456, -0.1787,  ...,  0.1871, -0.1245,  0.0980],\n",
      "        [ 0.0382,  0.0457, -0.1789,  ...,  0.1871, -0.1246,  0.0982]],\n",
      "       grad_fn=<AddmmBackward0>))\n"
     ]
    }
   ],
   "source": [
    "forward_model = ForwardNet(middle_size, io_size)\n",
    "inverse_model = InverseNet(io_size, middle_size)\n",
    "tandem_net = TandemNet(forward_model, inverse_model)\n",
    "# print(type(inverse_model(x)))\n",
    "print(forward_model(inverse_model(y)))\n",
    "print(tandem_net(y))"
   ]
  },
  {
   "attachments": {},
   "cell_type": "markdown",
   "metadata": {},
   "source": [
    "# Construct Loss and Optimizer"
   ]
  },
  {
   "cell_type": "code",
   "execution_count": 209,
   "metadata": {},
   "outputs": [],
   "source": [
    "learning_rate = 0.01\n",
    "criterion = nn.MSELoss()\n",
    "optimizer_forward = torch.optim.Rprop(forward_model.parameters(), lr=learning_rate)\n",
    "optimizer_tandem = torch.optim.Rprop(inverse_model.parameters(), lr=learning_rate)"
   ]
  },
  {
   "attachments": {},
   "cell_type": "markdown",
   "metadata": {},
   "source": [
    "# Training Loop"
   ]
  },
  {
   "cell_type": "code",
   "execution_count": 210,
   "metadata": {},
   "outputs": [],
   "source": [
    "def train_forward_model(forward_model, x, y):\n",
    "\n",
    "    forward_loss_list = []\n",
    "    num_forward_epochs = 10000\n",
    "\n",
    "    for epoch in range(num_forward_epochs):\n",
    "        # forward pass and loss\n",
    "        y_predicted = forward_model(x)\n",
    "        loss = criterion(y_predicted, y)\n",
    "        forward_loss_list.append(loss.item())\n",
    "\n",
    "        # backward pass\n",
    "        loss.backward()\n",
    "\n",
    "        # update\n",
    "        optimizer_forward.step()\n",
    "\n",
    "        # empty gradients\n",
    "        optimizer_forward.zero_grad()\n",
    "\n",
    "        if (epoch+1) % int(num_forward_epochs/10) == 0:\n",
    "            print(f'forward epoch: {epoch+1}, forward loss = {loss:.4f}')\n",
    "\n",
    "    return num_forward_epochs, forward_loss_list"
   ]
  },
  {
   "cell_type": "code",
   "execution_count": 211,
   "metadata": {},
   "outputs": [],
   "source": [
    "def train_tandem_model(inverse_model, forward_model, x, y):\n",
    "\n",
    "    tandem_loss_list = []\n",
    "    inverse_loss_list = []\n",
    "    num_tandem_epochs = 10000\n",
    "\n",
    "    for epoch in range(num_tandem_epochs):\n",
    "        # forward pass and loss\n",
    "        x_predicted = inverse_model(y)\n",
    "        y_predicted = forward_model(x_predicted)\n",
    "        loss = criterion(y_predicted, y)\n",
    "        tandem_loss_list.append(loss.item())\n",
    "\n",
    "        # calculate the inverse loss (what we care about)\n",
    "        inverse_loss = criterion(x_predicted, x)\n",
    "        inverse_loss_list.append(inverse_loss.item())\n",
    "\n",
    "\n",
    "        # backward pass\n",
    "        loss.backward()\n",
    "\n",
    "        # update\n",
    "        optimizer_tandem.step()\n",
    "\n",
    "        # empty gradients\n",
    "        optimizer_tandem.zero_grad()\n",
    "\n",
    "        if (epoch+1) % int(num_tandem_epochs/10) == 0:\n",
    "            print(f'tandem epoch: {epoch+1}, INVERSE LOSS = {inverse_loss:.4f}')\n",
    "            print(f'tandem epoch: {epoch+1}, tandem loss = {loss:.4f}')\n",
    "\n",
    "    return num_tandem_epochs, tandem_loss_list, inverse_loss_list"
   ]
  },
  {
   "cell_type": "code",
   "execution_count": 212,
   "metadata": {},
   "outputs": [
    {
     "name": "stdout",
     "output_type": "stream",
     "text": [
      "forward epoch: 10, forward loss = 2.0118\n",
      "forward epoch: 20, forward loss = 0.7305\n",
      "forward epoch: 30, forward loss = 0.2927\n",
      "forward epoch: 40, forward loss = 0.2015\n",
      "forward epoch: 50, forward loss = 0.1605\n",
      "forward epoch: 60, forward loss = 0.1461\n",
      "forward epoch: 70, forward loss = 0.1366\n",
      "forward epoch: 80, forward loss = 0.1305\n",
      "forward epoch: 90, forward loss = 0.1270\n",
      "forward epoch: 100, forward loss = 0.1242\n",
      "tandem epoch: 1000, INVERSE LOSS = 104226.1641\n",
      "tandem epoch: 1000, tandem loss = 3.8300\n",
      "tandem epoch: 2000, INVERSE LOSS = 104225.8359\n",
      "tandem epoch: 2000, tandem loss = 3.8300\n",
      "tandem epoch: 3000, INVERSE LOSS = 104225.9062\n",
      "tandem epoch: 3000, tandem loss = 3.8300\n",
      "tandem epoch: 4000, INVERSE LOSS = 104225.9297\n",
      "tandem epoch: 4000, tandem loss = 3.8300\n",
      "tandem epoch: 5000, INVERSE LOSS = 104225.9531\n",
      "tandem epoch: 5000, tandem loss = 3.8300\n",
      "tandem epoch: 6000, INVERSE LOSS = 104225.9688\n",
      "tandem epoch: 6000, tandem loss = 3.8300\n",
      "tandem epoch: 7000, INVERSE LOSS = 104225.9688\n",
      "tandem epoch: 7000, tandem loss = 3.8300\n",
      "tandem epoch: 8000, INVERSE LOSS = 104225.9922\n",
      "tandem epoch: 8000, tandem loss = 3.8300\n",
      "tandem epoch: 9000, INVERSE LOSS = 104225.9922\n",
      "tandem epoch: 9000, tandem loss = 3.8300\n",
      "tandem epoch: 10000, INVERSE LOSS = 104226.0000\n",
      "tandem epoch: 10000, tandem loss = 3.8300\n"
     ]
    }
   ],
   "source": [
    "num_forward_epochs, forward_loss_list = train_forward_model(forward_model, x, y)\n",
    "num_tandem_epochs, tandem_loss_list, inverse_loss_list = train_tandem_model(inverse_model, forward_model, x, y)"
   ]
  },
  {
   "cell_type": "code",
   "execution_count": 213,
   "metadata": {},
   "outputs": [
    {
     "data": {
      "text/plain": [
       "[<matplotlib.lines.Line2D at 0x15d369450>]"
      ]
     },
     "execution_count": 213,
     "metadata": {},
     "output_type": "execute_result"
    },
    {
     "data": {
      "image/png": "[encoded data removed]",
      "text/plain": [
       "<Figure size 640x480 with 1 Axes>"
      ]
     },
     "metadata": {},
     "output_type": "display_data"
    }
   ],
   "source": [
    "# plot forward and inverse loss\n",
    "plt.plot(forward_loss_list[100:num_forward_epochs])\n",
    "plt.plot(tandem_loss_list[100:num_tandem_epochs])"
   ]
  },
  {
   "attachments": {},
   "cell_type": "markdown",
   "metadata": {},
   "source": [
    "# Plots"
   ]
  },
  {
   "attachments": {},
   "cell_type": "markdown",
   "metadata": {},
   "source": [
    "### Clean"
   ]
  },
  {
   "cell_type": "code",
   "execution_count": 214,
   "metadata": {},
   "outputs": [],
   "source": [
    "# pred = tandem_net(df_to_tensor(y_test))\n",
    "# pred = pd.DataFrame(pred.numpy())\n",
    "# actual = y_test"
   ]
  },
  {
   "cell_type": "code",
   "execution_count": 215,
   "metadata": {},
   "outputs": [],
   "source": [
    "# import matplotlib.pyplot as plt\n",
    "# import random\n",
    "\n",
    "# def plot_actual_vs_pred(index):\n",
    "#     actual_np = actual.values[index]\n",
    "#     pred_np = pred.values[index]\n",
    "\n",
    "\n",
    "#     plt.plot(y_train.columns, actual_np, label='actual')\n",
    "#     plt.plot(y_train.columns, pred_np, 'r+', label='predicted')\n",
    "\n",
    "#     if direction:\n",
    "#         plt.title(\"Temperature to Spectrum\")\n",
    "#         plt.xlabel(\"Wavlength\")\n",
    "#         plt.ylabel(\"Intensity\")\n",
    "#     else:\n",
    "#         plt.title(\"Spectrum to Temperature\")\n",
    "#         plt.xlabel(\"Layer\")\n",
    "#         plt.ylabel(\"Temperature (K)\")\n",
    "\n",
    "#     plt.legend()\n",
    "#     plt.show()"
   ]
  },
  {
   "cell_type": "code",
   "execution_count": 216,
   "metadata": {},
   "outputs": [],
   "source": [
    "# for index in range(10):\n",
    "#     plot_actual_vs_pred(index*10)"
   ]
  }
 ],
 "metadata": {
  "kernelspec": {
   "display_name": "Python 3",
   "language": "python",
   "name": "python3"
  },
  "language_info": {
   "codemirror_mode": {
    "name": "ipython",
    "version": 3
   },
   "file_extension": ".py",
   "mimetype": "text/x-python",
   "name": "python",
   "nbconvert_exporter": "python",
   "pygments_lexer": "ipython3",
   "version": "3.10.6"
  },
  "orig_nbformat": 4
 },
 "nbformat": 4,
 "nbformat_minor": 2
}
