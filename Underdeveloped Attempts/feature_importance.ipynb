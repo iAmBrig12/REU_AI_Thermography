{
 "cells": [
  {
   "cell_type": "code",
   "execution_count": 1,
   "metadata": {},
   "outputs": [],
   "source": [
    "from sklearn.model_selection import train_test_split\n",
    "from sklearn.ensemble import RandomForestRegressor\n",
    "import pandas as pd\n",
    "import numpy as np"
   ]
  },
  {
   "cell_type": "code",
   "execution_count": 2,
   "metadata": {},
   "outputs": [],
   "source": [
    "df = pd.read_excel('wide_range.xlsx')\n",
    "layer = 11\n",
    "X = df.iloc[:, 11:]\n",
    "y = df.iloc[:, :11]\n",
    "\n",
    "X.columns = X.columns.astype(str)\n",
    "X = X.apply(lambda x: x*(10**12))"
   ]
  },
  {
   "cell_type": "code",
   "execution_count": 3,
   "metadata": {},
   "outputs": [],
   "source": [
    "X_train, X_test, y_train, y_test = train_test_split(X, y, train_size=0.7, random_state=101)"
   ]
  },
  {
   "cell_type": "code",
   "execution_count": 16,
   "metadata": {},
   "outputs": [
    {
     "data": {
      "text/plain": [
       "Index(['3.75e-06', '3.8e-06', '3.85e-06', '3.9e-06', '3.95e-06', '4e-06',\n",
       "       '4.05e-06', '4.1e-06', '4.15e-06', '4.2e-06', '4.25e-06', '4.3e-06',\n",
       "       '4.35e-06', '4.4e-06', '4.45e-06', '4.5e-06', '4.55e-06', '4.6e-06',\n",
       "       '4.65e-06', '4.7e-06', '4.75e-06', '4.8e-06', '4.85e-06', '4.9e-06',\n",
       "       '4.95e-06', '5e-06', '5.05e-06', '5.1e-06', '5.15e-06', '5.2e-06',\n",
       "       '5.25e-06', '5.3e-06', '5.35e-06', '5.4e-06', '5.45e-06', '5.5e-06',\n",
       "       '5.55e-06', '5.6e-06', '5.65e-06', '5.7e-06', '5.75e-06', '5.8e-06',\n",
       "       '5.85e-06', '5.9e-06', '5.95e-06', '6e-06', '6.05e-06', '6.1e-06',\n",
       "       '6.15e-06', '6.2e-06', '6.25e-06', '6.3e-06', '6.35e-06', '6.4e-06',\n",
       "       '6.45e-06', '6.5e-06', '6.55e-06', '6.6e-06', '6.65e-06', '6.7e-06',\n",
       "       '6.75e-06', '6.8e-06', '6.85e-06', '6.9e-06', '6.95e-06', '7e-06',\n",
       "       '7.05e-06', '7.1e-06', '7.15e-06', '7.2e-06', '7.25e-06', '7.3e-06',\n",
       "       '7.35e-06', '7.4e-06', '7.45e-06', '7.5e-06', '7.55e-06', '7.6e-06',\n",
       "       '7.65e-06', '7.7e-06', '7.75e-06', '7.8e-06', '7.85e-06', '7.9e-06',\n",
       "       '7.95e-06', '8e-06'],\n",
       "      dtype='object')"
      ]
     },
     "execution_count": 16,
     "metadata": {},
     "output_type": "execute_result"
    }
   ],
   "source": [
    "X_train.columns"
   ]
  },
  {
   "cell_type": "code",
   "execution_count": 5,
   "metadata": {},
   "outputs": [
    {
     "data": {
      "text/html": [
       "<style>#sk-container-id-1 {color: black;background-color: white;}#sk-container-id-1 pre{padding: 0;}#sk-container-id-1 div.sk-toggleable {background-color: white;}#sk-container-id-1 label.sk-toggleable__label {cursor: pointer;display: block;width: 100%;margin-bottom: 0;padding: 0.3em;box-sizing: border-box;text-align: center;}#sk-container-id-1 label.sk-toggleable__label-arrow:before {content: \"▸\";float: left;margin-right: 0.25em;color: #696969;}#sk-container-id-1 label.sk-toggleable__label-arrow:hover:before {color: black;}#sk-container-id-1 div.sk-estimator:hover label.sk-toggleable__label-arrow:before {color: black;}#sk-container-id-1 div.sk-toggleable__content {max-height: 0;max-width: 0;overflow: hidden;text-align: left;background-color: #f0f8ff;}#sk-container-id-1 div.sk-toggleable__content pre {margin: 0.2em;color: black;border-radius: 0.25em;background-color: #f0f8ff;}#sk-container-id-1 input.sk-toggleable__control:checked~div.sk-toggleable__content {max-height: 200px;max-width: 100%;overflow: auto;}#sk-container-id-1 input.sk-toggleable__control:checked~label.sk-toggleable__label-arrow:before {content: \"▾\";}#sk-container-id-1 div.sk-estimator input.sk-toggleable__control:checked~label.sk-toggleable__label {background-color: #d4ebff;}#sk-container-id-1 div.sk-label input.sk-toggleable__control:checked~label.sk-toggleable__label {background-color: #d4ebff;}#sk-container-id-1 input.sk-hidden--visually {border: 0;clip: rect(1px 1px 1px 1px);clip: rect(1px, 1px, 1px, 1px);height: 1px;margin: -1px;overflow: hidden;padding: 0;position: absolute;width: 1px;}#sk-container-id-1 div.sk-estimator {font-family: monospace;background-color: #f0f8ff;border: 1px dotted black;border-radius: 0.25em;box-sizing: border-box;margin-bottom: 0.5em;}#sk-container-id-1 div.sk-estimator:hover {background-color: #d4ebff;}#sk-container-id-1 div.sk-parallel-item::after {content: \"\";width: 100%;border-bottom: 1px solid gray;flex-grow: 1;}#sk-container-id-1 div.sk-label:hover label.sk-toggleable__label {background-color: #d4ebff;}#sk-container-id-1 div.sk-serial::before {content: \"\";position: absolute;border-left: 1px solid gray;box-sizing: border-box;top: 0;bottom: 0;left: 50%;z-index: 0;}#sk-container-id-1 div.sk-serial {display: flex;flex-direction: column;align-items: center;background-color: white;padding-right: 0.2em;padding-left: 0.2em;position: relative;}#sk-container-id-1 div.sk-item {position: relative;z-index: 1;}#sk-container-id-1 div.sk-parallel {display: flex;align-items: stretch;justify-content: center;background-color: white;position: relative;}#sk-container-id-1 div.sk-item::before, #sk-container-id-1 div.sk-parallel-item::before {content: \"\";position: absolute;border-left: 1px solid gray;box-sizing: border-box;top: 0;bottom: 0;left: 50%;z-index: -1;}#sk-container-id-1 div.sk-parallel-item {display: flex;flex-direction: column;z-index: 1;position: relative;background-color: white;}#sk-container-id-1 div.sk-parallel-item:first-child::after {align-self: flex-end;width: 50%;}#sk-container-id-1 div.sk-parallel-item:last-child::after {align-self: flex-start;width: 50%;}#sk-container-id-1 div.sk-parallel-item:only-child::after {width: 0;}#sk-container-id-1 div.sk-dashed-wrapped {border: 1px dashed gray;margin: 0 0.4em 0.5em 0.4em;box-sizing: border-box;padding-bottom: 0.4em;background-color: white;}#sk-container-id-1 div.sk-label label {font-family: monospace;font-weight: bold;display: inline-block;line-height: 1.2em;}#sk-container-id-1 div.sk-label-container {text-align: center;}#sk-container-id-1 div.sk-container {/* jupyter's `normalize.less` sets `[hidden] { display: none; }` but bootstrap.min.css set `[hidden] { display: none !important; }` so we also need the `!important` here to be able to override the default hidden behavior on the sphinx rendered scikit-learn.org. See: https://github.com/scikit-learn/scikit-learn/issues/21755 */display: inline-block !important;position: relative;}#sk-container-id-1 div.sk-text-repr-fallback {display: none;}</style><div id=\"sk-container-id-1\" class=\"sk-top-container\"><div class=\"sk-text-repr-fallback\"><pre>RandomForestRegressor(n_estimators=500, random_state=101)</pre><b>In a Jupyter environment, please rerun this cell to show the HTML representation or trust the notebook. <br />On GitHub, the HTML representation is unable to render, please try loading this page with nbviewer.org.</b></div><div class=\"sk-container\" hidden><div class=\"sk-item\"><div class=\"sk-estimator sk-toggleable\"><input class=\"sk-toggleable__control sk-hidden--visually\" id=\"sk-estimator-id-1\" type=\"checkbox\" checked><label for=\"sk-estimator-id-1\" class=\"sk-toggleable__label sk-toggleable__label-arrow\">RandomForestRegressor</label><div class=\"sk-toggleable__content\"><pre>RandomForestRegressor(n_estimators=500, random_state=101)</pre></div></div></div></div></div>"
      ],
      "text/plain": [
       "RandomForestRegressor(n_estimators=500, random_state=101)"
      ]
     },
     "execution_count": 5,
     "metadata": {},
     "output_type": "execute_result"
    }
   ],
   "source": [
    "forest = RandomForestRegressor(n_estimators=500, random_state=101)\n",
    "\n",
    "forest.fit(X_train, y_train)"
   ]
  },
  {
   "cell_type": "code",
   "execution_count": 17,
   "metadata": {},
   "outputs": [
    {
     "name": "stdout",
     "output_type": "stream",
     "text": [
      " 1) 3.95e-06                       0.145655\n",
      " 2) 4e-06                          0.116734\n",
      " 3) 4.65e-06                       0.067398\n",
      " 4) 4.7e-06                        0.051155\n",
      " 5) 5.1e-06                        0.024191\n",
      " 6) 4.75e-06                       0.022417\n",
      " 7) 4.8e-06                        0.018299\n",
      " 8) 6.2e-06                        0.016327\n",
      " 9) 4.35e-06                       0.015603\n",
      "10) 4.6e-06                        0.015344\n",
      "11) 3.9e-06                        0.015332\n",
      "12) 5.2e-06                        0.014843\n",
      "13) 5.95e-06                       0.014526\n",
      "14) 4.4e-06                        0.014522\n",
      "15) 5.25e-06                       0.014402\n",
      "16) 6.15e-06                       0.014303\n",
      "17) 6.05e-06                       0.012569\n",
      "18) 4.5e-06                        0.012083\n",
      "19) 6.25e-06                       0.011665\n",
      "20) 6.1e-06                        0.011163\n",
      "21) 4.85e-06                       0.011159\n",
      "22) 4.55e-06                       0.011004\n",
      "23) 5.4e-06                        0.010578\n",
      "24) 6e-06                          0.010474\n",
      "25) 4.3e-06                        0.010370\n",
      "26) 4.05e-06                       0.010178\n",
      "27) 6.3e-06                        0.009781\n",
      "28) 5.05e-06                       0.009464\n",
      "29) 5.15e-06                       0.009403\n",
      "30) 5.35e-06                       0.009248\n",
      "31) 5.3e-06                        0.009116\n",
      "32) 4.45e-06                       0.008373\n",
      "33) 4.9e-06                        0.008291\n",
      "34) 4.25e-06                       0.008268\n",
      "35) 5.9e-06                        0.008139\n",
      "36) 3.85e-06                       0.007929\n",
      "37) 4.95e-06                       0.007896\n",
      "38) 5.5e-06                        0.007453\n",
      "39) 5.7e-06                        0.007137\n",
      "40) 5.45e-06                       0.006960\n",
      "41) 5.85e-06                       0.006926\n",
      "42) 4.2e-06                        0.006497\n",
      "43) 5.65e-06                       0.006227\n",
      "44) 6.35e-06                       0.006057\n",
      "45) 6.45e-06                       0.006026\n",
      "46) 4.1e-06                        0.005738\n",
      "47) 5e-06                          0.005532\n",
      "48) 3.8e-06                        0.005189\n",
      "49) 3.75e-06                       0.005170\n",
      "50) 6.4e-06                        0.005158\n",
      "51) 4.15e-06                       0.005111\n",
      "52) 5.8e-06                        0.005094\n",
      "53) 5.75e-06                       0.004953\n",
      "54) 7.55e-06                       0.004326\n",
      "55) 5.55e-06                       0.004289\n",
      "56) 7.65e-06                       0.004122\n",
      "57) 7.9e-06                        0.004119\n",
      "58) 7.5e-06                        0.004095\n",
      "59) 8e-06                          0.004082\n",
      "60) 7.75e-06                       0.004036\n",
      "61) 7.45e-06                       0.004000\n",
      "62) 7.4e-06                        0.003998\n",
      "63) 7.7e-06                        0.003965\n",
      "64) 7.6e-06                        0.003950\n",
      "65) 7e-06                          0.003948\n",
      "66) 7.8e-06                        0.003946\n",
      "67) 7.95e-06                       0.003921\n",
      "68) 7.85e-06                       0.003762\n",
      "69) 7.1e-06                        0.003600\n",
      "70) 7.05e-06                       0.003548\n",
      "71) 6.95e-06                       0.003472\n",
      "72) 7.2e-06                        0.003412\n",
      "73) 7.35e-06                       0.003411\n",
      "74) 7.25e-06                       0.003367\n",
      "75) 7.15e-06                       0.003293\n",
      "76) 7.3e-06                        0.003256\n",
      "77) 6.55e-06                       0.003241\n",
      "78) 6.5e-06                        0.003012\n",
      "79) 6.9e-06                        0.003006\n",
      "80) 5.6e-06                        0.002979\n",
      "81) 6.85e-06                       0.002940\n",
      "82) 6.6e-06                        0.002891\n",
      "83) 6.65e-06                       0.002889\n",
      "84) 6.8e-06                        0.002703\n",
      "85) 6.7e-06                        0.002581\n",
      "86) 6.75e-06                       0.002411\n"
     ]
    }
   ],
   "source": [
    "importances = forest.feature_importances_\n",
    "\n",
    "sorted_indices = np.argsort(importances)[::-1]\n",
    "\n",
    "feat_labels = df.columns[11:]\n",
    "\n",
    "for f in range(X_train.shape[1]):\n",
    "    print(\"%2d) %-*s %f\" % (f + 1, 30,\n",
    "                            feat_labels[sorted_indices[f]],\n",
    "                            importances[sorted_indices[f]]))"
   ]
  },
  {
   "cell_type": "code",
   "execution_count": 18,
   "metadata": {},
   "outputs": [
    {
     "data": {
      "image/png": "[encoded data removed]",
      "text/plain": [
       "<Figure size 640x480 with 1 Axes>"
      ]
     },
     "metadata": {},
     "output_type": "display_data"
    }
   ],
   "source": [
    "import matplotlib.pyplot as plt\n",
    "%matplotlib inline\n",
    "\n",
    "plt.bar(range(X_train.shape[1]), importances[sorted_indices], align='center')\n",
    "plt.xticks(range(X_train.shape[1]), X_train.columns[sorted_indices], rotation=90)\n",
    "plt.tight_layout()\n",
    "plt.show()"
   ]
  },
  {
   "cell_type": "code",
   "execution_count": 19,
   "metadata": {},
   "outputs": [],
   "source": [
    "from sklearn.feature_selection import RFE\n",
    "from sklearn.linear_model import LinearRegression"
   ]
  },
  {
   "cell_type": "code",
   "execution_count": 25,
   "metadata": {},
   "outputs": [],
   "source": [
    "linear_model = LinearRegression()\n",
    "\n",
    "rfe = RFE(estimator=linear_model, n_features_to_select=30)"
   ]
  },
  {
   "cell_type": "code",
   "execution_count": 26,
   "metadata": {},
   "outputs": [],
   "source": [
    "X_selected = rfe.fit_transform(X, y)\n",
    "selected_feature_indices = rfe.get_support(indices=True)"
   ]
  },
  {
   "cell_type": "code",
   "execution_count": 27,
   "metadata": {},
   "outputs": [
    {
     "name": "stdout",
     "output_type": "stream",
     "text": [
      "[56 57 58 59 60 61 62 63 64 65 66 67 68 69 70 71 72 73 74 75 76 77 78 79\n",
      " 80 81 82 83 84 85]\n"
     ]
    }
   ],
   "source": [
    "print(selected_feature_indices)"
   ]
  },
  {
   "cell_type": "code",
   "execution_count": 28,
   "metadata": {},
   "outputs": [
    {
     "name": "stdout",
     "output_type": "stream",
     "text": [
      "6.55e-06\n",
      "6.6e-06\n",
      "6.65e-06\n",
      "6.7e-06\n",
      "6.75e-06\n",
      "6.8e-06\n",
      "6.85e-06\n",
      "6.9e-06\n",
      "6.95e-06\n",
      "7e-06\n",
      "7.05e-06\n",
      "7.1e-06\n",
      "7.15e-06\n",
      "7.2e-06\n",
      "7.25e-06\n",
      "7.3e-06\n",
      "7.35e-06\n",
      "7.4e-06\n",
      "7.45e-06\n",
      "7.5e-06\n",
      "7.55e-06\n",
      "7.6e-06\n",
      "7.65e-06\n",
      "7.7e-06\n",
      "7.75e-06\n",
      "7.8e-06\n",
      "7.85e-06\n",
      "7.9e-06\n",
      "7.95e-06\n",
      "8e-06\n"
     ]
    }
   ],
   "source": [
    "for i in selected_feature_indices:\n",
    "    print(X.columns[i])"
   ]
  },
  {
   "cell_type": "code",
   "execution_count": 24,
   "metadata": {},
   "outputs": [
    {
     "data": {
      "text/html": [
       "<style>#sk-container-id-3 {color: black;background-color: white;}#sk-container-id-3 pre{padding: 0;}#sk-container-id-3 div.sk-toggleable {background-color: white;}#sk-container-id-3 label.sk-toggleable__label {cursor: pointer;display: block;width: 100%;margin-bottom: 0;padding: 0.3em;box-sizing: border-box;text-align: center;}#sk-container-id-3 label.sk-toggleable__label-arrow:before {content: \"▸\";float: left;margin-right: 0.25em;color: #696969;}#sk-container-id-3 label.sk-toggleable__label-arrow:hover:before {color: black;}#sk-container-id-3 div.sk-estimator:hover label.sk-toggleable__label-arrow:before {color: black;}#sk-container-id-3 div.sk-toggleable__content {max-height: 0;max-width: 0;overflow: hidden;text-align: left;background-color: #f0f8ff;}#sk-container-id-3 div.sk-toggleable__content pre {margin: 0.2em;color: black;border-radius: 0.25em;background-color: #f0f8ff;}#sk-container-id-3 input.sk-toggleable__control:checked~div.sk-toggleable__content {max-height: 200px;max-width: 100%;overflow: auto;}#sk-container-id-3 input.sk-toggleable__control:checked~label.sk-toggleable__label-arrow:before {content: \"▾\";}#sk-container-id-3 div.sk-estimator input.sk-toggleable__control:checked~label.sk-toggleable__label {background-color: #d4ebff;}#sk-container-id-3 div.sk-label input.sk-toggleable__control:checked~label.sk-toggleable__label {background-color: #d4ebff;}#sk-container-id-3 input.sk-hidden--visually {border: 0;clip: rect(1px 1px 1px 1px);clip: rect(1px, 1px, 1px, 1px);height: 1px;margin: -1px;overflow: hidden;padding: 0;position: absolute;width: 1px;}#sk-container-id-3 div.sk-estimator {font-family: monospace;background-color: #f0f8ff;border: 1px dotted black;border-radius: 0.25em;box-sizing: border-box;margin-bottom: 0.5em;}#sk-container-id-3 div.sk-estimator:hover {background-color: #d4ebff;}#sk-container-id-3 div.sk-parallel-item::after {content: \"\";width: 100%;border-bottom: 1px solid gray;flex-grow: 1;}#sk-container-id-3 div.sk-label:hover label.sk-toggleable__label {background-color: #d4ebff;}#sk-container-id-3 div.sk-serial::before {content: \"\";position: absolute;border-left: 1px solid gray;box-sizing: border-box;top: 0;bottom: 0;left: 50%;z-index: 0;}#sk-container-id-3 div.sk-serial {display: flex;flex-direction: column;align-items: center;background-color: white;padding-right: 0.2em;padding-left: 0.2em;position: relative;}#sk-container-id-3 div.sk-item {position: relative;z-index: 1;}#sk-container-id-3 div.sk-parallel {display: flex;align-items: stretch;justify-content: center;background-color: white;position: relative;}#sk-container-id-3 div.sk-item::before, #sk-container-id-3 div.sk-parallel-item::before {content: \"\";position: absolute;border-left: 1px solid gray;box-sizing: border-box;top: 0;bottom: 0;left: 50%;z-index: -1;}#sk-container-id-3 div.sk-parallel-item {display: flex;flex-direction: column;z-index: 1;position: relative;background-color: white;}#sk-container-id-3 div.sk-parallel-item:first-child::after {align-self: flex-end;width: 50%;}#sk-container-id-3 div.sk-parallel-item:last-child::after {align-self: flex-start;width: 50%;}#sk-container-id-3 div.sk-parallel-item:only-child::after {width: 0;}#sk-container-id-3 div.sk-dashed-wrapped {border: 1px dashed gray;margin: 0 0.4em 0.5em 0.4em;box-sizing: border-box;padding-bottom: 0.4em;background-color: white;}#sk-container-id-3 div.sk-label label {font-family: monospace;font-weight: bold;display: inline-block;line-height: 1.2em;}#sk-container-id-3 div.sk-label-container {text-align: center;}#sk-container-id-3 div.sk-container {/* jupyter's `normalize.less` sets `[hidden] { display: none; }` but bootstrap.min.css set `[hidden] { display: none !important; }` so we also need the `!important` here to be able to override the default hidden behavior on the sphinx rendered scikit-learn.org. See: https://github.com/scikit-learn/scikit-learn/issues/21755 */display: inline-block !important;position: relative;}#sk-container-id-3 div.sk-text-repr-fallback {display: none;}</style><div id=\"sk-container-id-3\" class=\"sk-top-container\"><div class=\"sk-text-repr-fallback\"><pre>LinearRegression()</pre><b>In a Jupyter environment, please rerun this cell to show the HTML representation or trust the notebook. <br />On GitHub, the HTML representation is unable to render, please try loading this page with nbviewer.org.</b></div><div class=\"sk-container\" hidden><div class=\"sk-item\"><div class=\"sk-estimator sk-toggleable\"><input class=\"sk-toggleable__control sk-hidden--visually\" id=\"sk-estimator-id-3\" type=\"checkbox\" checked><label for=\"sk-estimator-id-3\" class=\"sk-toggleable__label sk-toggleable__label-arrow\">LinearRegression</label><div class=\"sk-toggleable__content\"><pre>LinearRegression()</pre></div></div></div></div></div>"
      ],
      "text/plain": [
       "LinearRegression()"
      ]
     },
     "execution_count": 24,
     "metadata": {},
     "output_type": "execute_result"
    }
   ],
   "source": [
    "model = LinearRegression()\n",
    "model.fit(X_train, y_train)"
   ]
  },
  {
   "cell_type": "code",
   "execution_count": 14,
   "metadata": {},
   "outputs": [
    {
     "ename": "TypeError",
     "evalue": "only size-1 arrays can be converted to Python scalars",
     "output_type": "error",
     "traceback": [
      "\u001b[1;31m---------------------------------------------------------------------------\u001b[0m",
      "\u001b[1;31mTypeError\u001b[0m                                 Traceback (most recent call last)",
      "Cell \u001b[1;32mIn[14], line 4\u001b[0m\n\u001b[0;32m      1\u001b[0m importance \u001b[39m=\u001b[39m model\u001b[39m.\u001b[39mcoef_\n\u001b[0;32m      3\u001b[0m \u001b[39mfor\u001b[39;00m i, v \u001b[39min\u001b[39;00m \u001b[39menumerate\u001b[39m(importance):\n\u001b[1;32m----> 4\u001b[0m     \u001b[39mprint\u001b[39m(\u001b[39m'\u001b[39;49m\u001b[39mFeature: \u001b[39;49m\u001b[39m%0d\u001b[39;49;00m\u001b[39m, Score: \u001b[39;49m\u001b[39m%.5f\u001b[39;49;00m\u001b[39m'\u001b[39;49m \u001b[39m%\u001b[39;49m (i,v))\n\u001b[0;32m      5\u001b[0m \u001b[39m# plot feature importance\u001b[39;00m\n\u001b[0;32m      6\u001b[0m plt\u001b[39m.\u001b[39mbar([x \u001b[39mfor\u001b[39;00m x \u001b[39min\u001b[39;00m \u001b[39mrange\u001b[39m(\u001b[39mlen\u001b[39m(importance))], importance)\n",
      "\u001b[1;31mTypeError\u001b[0m: only size-1 arrays can be converted to Python scalars"
     ]
    }
   ],
   "source": [
    "importance = model.coef_\n",
    "\n",
    "for i, v in enumerate(importance):\n",
    "    print('Feature: %0d, Score: %.5f' % (i,v))\n",
    "# plot feature importance\n",
    "plt.bar([x for x in range(len(importance))], importance)\n",
    "plt.show()"
   ]
  },
  {
   "cell_type": "code",
   "execution_count": null,
   "metadata": {},
   "outputs": [
    {
     "name": "stdout",
     "output_type": "stream",
     "text": [
      " 1) layer 6                        0.000000\n",
      " 2) layer 4                        0.000000\n",
      " 3) layer 9                        0.000000\n",
      " 4) 4.75e-06                       0.000000\n",
      " 5) layer 10                       0.000000\n",
      " 6) layer 2                        0.000000\n",
      " 7) 4.7e-06                        0.000000\n",
      " 8) 4.8e-06                        0.000000\n",
      " 9) 4.85e-06                       0.000000\n",
      "10) 4.9e-06                        0.000000\n",
      "11) 4.95e-06                       0.000000\n",
      "12) 5e-06                          0.000000\n",
      "13) 4.65e-06                       0.000000\n",
      "14) 5.05e-06                       0.000000\n",
      "15) 5.1e-06                        0.000000\n",
      "16) 7.7e-06                        0.084467\n",
      "17) 7.75e-06                       0.076019\n",
      "18) 7.65e-06                       0.100765\n",
      "19) 7.8e-06                        0.086554\n",
      "20) 7.85e-06                       0.103424\n",
      "21) 7.6e-06                        0.100544\n",
      "22) 7.9e-06                        0.069630\n",
      "23) 5.15e-06                       0.000000\n",
      "24) 7.95e-06                       0.075918\n",
      "25) 7.55e-06                       0.110624\n",
      "26) 8e-06                          0.075550\n",
      "27) layer 1                        0.000000\n",
      "28) 5.2e-06                        0.000000\n",
      "29) 7.5e-06                        0.080133\n",
      "30) 5.25e-06                       0.000000\n",
      "31) 7.45e-06                       0.030714\n",
      "32) 5.3e-06                        0.000000\n",
      "33) 4.4e-06                        0.000000\n",
      "34) 5.35e-06                       0.000000\n",
      "35) 7.4e-06                        0.004508\n",
      "36) 5.4e-06                        0.000000\n",
      "37) 4.35e-06                       0.000000\n",
      "38) 4.45e-06                       0.000000\n",
      "39) 5.45e-06                       0.000000\n",
      "40) 5.5e-06                        0.000000\n",
      "41) 7.35e-06                       0.000807\n",
      "42) 5.55e-06                       0.000000\n",
      "43) 5.6e-06                        0.000000\n",
      "44) 4.5e-06                        0.000000\n",
      "45) 5.65e-06                       0.000000\n",
      "46) 5.7e-06                        0.000000\n",
      "47) 4.6e-06                        0.000000\n",
      "48) 5.75e-06                       0.000000\n",
      "49) 5.8e-06                        0.000000\n",
      "50) layer 7                        0.000000\n",
      "51) layer 5                        0.000000\n",
      "52) 7.3e-06                        0.000262\n",
      "53) 5.85e-06                       0.000000\n",
      "54) 5.9e-06                        0.000000\n",
      "55) 5.95e-06                       0.000000\n",
      "56) 6e-06                          0.000000\n",
      "57) 6.05e-06                       0.000000\n",
      "58) 7.25e-06                       0.000061\n",
      "59) 6.1e-06                        0.000000\n",
      "60) 6.15e-06                       0.000000\n",
      "61) 4.55e-06                       0.000000\n",
      "62) 6.2e-06                        0.000000\n",
      "63) 7.2e-06                        0.000005\n",
      "64) 6.25e-06                       0.000000\n",
      "65) 4.3e-06                        0.000000\n",
      "66) 6.3e-06                        0.000000\n",
      "67) 7.15e-06                       0.000004\n",
      "68) 6.35e-06                       0.000000\n",
      "69) 6.4e-06                        0.000000\n",
      "70) 7.1e-06                        0.000000\n",
      "71) 6.45e-06                       0.000000\n",
      "72) 6.5e-06                        0.000000\n",
      "73) 7.05e-06                       0.000000\n",
      "74) 6.55e-06                       0.000000\n",
      "75) 6.6e-06                        0.000000\n",
      "76) 7e-06                          0.000000\n",
      "77) 6.65e-06                       0.000000\n",
      "78) 6.7e-06                        0.000000\n",
      "79) 4.25e-06                       0.000000\n",
      "80) 3.75e-06                       0.000000\n",
      "81) 6.95e-06                       0.000000\n",
      "82) 6.75e-06                       0.000000\n",
      "83) 6.8e-06                        0.000000\n",
      "84) 6.9e-06                        0.000000\n",
      "85) 6.85e-06                       0.000000\n",
      "86) 3.8e-06                        0.000000\n",
      "87) 3.9e-06                        0.000000\n",
      "88) 4.1e-06                        0.000000\n",
      "89) 4.2e-06                        0.000000\n",
      "90) 4.15e-06                       0.000000\n",
      "91) 3.85e-06                       0.000000\n",
      "92) 4e-06                          0.000000\n",
      "93) 3.95e-06                       0.000000\n",
      "94) 4.05e-06                       0.000000\n",
      "95) layer 3                        0.000000\n",
      "96) layer 8                        0.000000\n"
     ]
    }
   ],
   "source": [
    "sorted_indices = np.argsort(importance)[::-1]\n",
    "\n",
    "feat_labels = X.columns\n",
    "\n",
    "for f in range(X_train.shape[1]):\n",
    "    print(\"%2d) %-*s %f\" % (f + 1, 30,\n",
    "                            feat_labels[sorted_indices[f]],\n",
    "                            importances[sorted_indices[f]]))"
   ]
  },
  {
   "cell_type": "code",
   "execution_count": null,
   "metadata": {},
   "outputs": [],
   "source": []
  }
 ],
 "metadata": {
  "kernelspec": {
   "display_name": "Python 3",
   "language": "python",
   "name": "python3"
  },
  "language_info": {
   "codemirror_mode": {
    "name": "ipython",
    "version": 3
   },
   "file_extension": ".py",
   "mimetype": "text/x-python",
   "name": "python",
   "nbconvert_exporter": "python",
   "pygments_lexer": "ipython3",
   "version": "3.11.3"
  },
  "orig_nbformat": 4
 },
 "nbformat": 4,
 "nbformat_minor": 2
}
