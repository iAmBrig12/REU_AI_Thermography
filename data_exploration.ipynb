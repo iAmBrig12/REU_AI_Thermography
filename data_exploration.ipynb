{
 "cells": [
  {
   "cell_type": "code",
   "execution_count": 1,
   "metadata": {},
   "outputs": [],
   "source": [
    "import pandas as pd\n",
    "import matplotlib.pyplot as plt\n",
    "%matplotlib inline\n",
    "import numpy as np\n",
    "import pandas as pd\n",
    "import torch\n",
    "import torchvision\n",
    "import math\n",
    "from sklearn.preprocessing import StandardScaler\n",
    "from thermography_dataset import ThermDataset\n",
    "from torch.utils.data import DataLoader"
   ]
  },
  {
   "cell_type": "code",
   "execution_count": 2,
   "metadata": {},
   "outputs": [],
   "source": [
    "dataset = ThermDataset(fp='combined_data.xlsx', noise_scale=0.001)"
   ]
  },
  {
   "cell_type": "code",
   "execution_count": 3,
   "metadata": {},
   "outputs": [
    {
     "data": {
      "text/plain": [
       "Index([4.75e-06,  4.8e-06, 4.85e-06,  4.9e-06, 4.95e-06,    5e-06, 5.05e-06,\n",
       "        5.1e-06, 5.15e-06,  5.2e-06, 5.25e-06,  5.3e-06, 5.35e-06,  5.4e-06,\n",
       "       5.45e-06,  5.5e-06, 5.55e-06,  5.6e-06, 5.65e-06,  5.7e-06, 5.75e-06,\n",
       "        5.8e-06, 5.85e-06,  5.9e-06, 5.95e-06,    6e-06, 6.05e-06,  6.1e-06,\n",
       "       6.15e-06,  6.2e-06, 6.25e-06,  6.3e-06, 6.35e-06,  6.4e-06, 6.45e-06,\n",
       "        6.5e-06, 6.55e-06,  6.6e-06, 6.65e-06,  6.7e-06, 6.75e-06,  6.8e-06,\n",
       "       6.85e-06,  6.9e-06, 6.95e-06,    7e-06, 7.05e-06,  7.1e-06, 7.15e-06,\n",
       "        7.2e-06, 7.25e-06,  7.3e-06, 7.35e-06,  7.4e-06, 7.45e-06,  7.5e-06,\n",
       "       7.55e-06,  7.6e-06, 7.65e-06,  7.7e-06, 7.75e-06,  7.8e-06, 7.85e-06,\n",
       "        7.9e-06, 7.95e-06,    8e-06],\n",
       "      dtype='object')"
      ]
     },
     "execution_count": 3,
     "metadata": {},
     "output_type": "execute_result"
    }
   ],
   "source": [
    "dataset.wavelengths"
   ]
  },
  {
   "cell_type": "code",
   "execution_count": 4,
   "metadata": {},
   "outputs": [],
   "source": [
    "dataloader = DataLoader(dataset=dataset, batch_size=4, shuffle=True, num_workers=2)"
   ]
  },
  {
   "cell_type": "code",
   "execution_count": 5,
   "metadata": {},
   "outputs": [
    {
     "name": "stdout",
     "output_type": "stream",
     "text": [
      "tensor([[355.0373, 314.4801, 323.0569, 311.7884, 317.3070, 326.9681, 329.5618,\n",
      "         322.2959, 331.5455, 331.1420, 344.9434],\n",
      "        [351.1057, 318.8794, 330.9963, 326.2987, 340.7686, 350.9916, 349.4833,\n",
      "         351.1031, 358.0569, 353.7625, 362.3861],\n",
      "        [339.6719, 325.2686, 321.9301, 327.3522, 327.8385, 330.2975, 349.8128,\n",
      "         340.6671, 326.3076, 326.8924, 294.9841],\n",
      "        [344.0456, 326.4657, 328.9952, 316.9877, 319.2746, 325.1846, 337.8809,\n",
      "         324.3984, 336.4857, 335.3642, 344.4449]]) tensor([[0.3920, 0.4481, 0.4947, 0.5372, 0.5777, 0.6165, 0.6579, 0.7011, 0.7447,\n",
      "         0.7866, 0.8306, 0.8787, 0.9211, 0.9670, 1.0158, 1.0572, 1.1070, 1.1562,\n",
      "         1.2077, 1.2560, 1.3090, 1.3578, 1.4135, 1.4690, 1.5196, 1.5702, 1.6296,\n",
      "         1.6833, 1.7419, 1.8029, 1.8612, 1.9236, 1.9865, 2.0554, 2.1181, 2.1848,\n",
      "         2.2513, 2.3186, 2.3870, 2.4562, 2.5228, 2.5904, 2.6646, 2.7359, 2.8131,\n",
      "         2.8912, 2.9725, 3.0489, 3.1267, 3.1999, 3.2661, 3.3396, 3.4057, 3.4769,\n",
      "         3.5449, 3.6077, 3.6672, 3.7204, 3.7728, 3.8065, 3.8361, 3.8383, 3.8012,\n",
      "         3.7087, 3.5730, 3.4514],\n",
      "        [0.6701, 0.7607, 0.8287, 0.8909, 0.9444, 1.0032, 1.0614, 1.1194, 1.1774,\n",
      "         1.2372, 1.2987, 1.3614, 1.4244, 1.4858, 1.5470, 1.6136, 1.6827, 1.7481,\n",
      "         1.8124, 1.8786, 1.9467, 2.0188, 2.0889, 2.1636, 2.2309, 2.3040, 2.3799,\n",
      "         2.4528, 2.5246, 2.6030, 2.6774, 2.7552, 2.8347, 2.9171, 2.9967, 3.0794,\n",
      "         3.1579, 3.2396, 3.3218, 3.4044, 3.4863, 3.5704, 3.6521, 3.7365, 3.8227,\n",
      "         3.9120, 4.0010, 4.0907, 4.1773, 4.2590, 4.3402, 4.4205, 4.5003, 4.5765,\n",
      "         4.6565, 4.7284, 4.7964, 4.8564, 4.9102, 4.9488, 4.9782, 4.9722, 4.9149,\n",
      "         4.7895, 4.6057, 4.4399],\n",
      "        [0.3207, 0.3233, 0.3189, 0.3293, 0.3382, 0.3475, 0.3618, 0.3760, 0.3869,\n",
      "         0.4008, 0.4196, 0.4329, 0.4527, 0.4745, 0.4941, 0.5150, 0.5370, 0.5625,\n",
      "         0.5896, 0.6118, 0.6386, 0.6656, 0.6909, 0.7239, 0.7513, 0.7786, 0.8075,\n",
      "         0.8337, 0.8614, 0.8896, 0.9158, 0.9406, 0.9683, 0.9893, 1.0109, 1.0372,\n",
      "         1.0589, 1.0830, 1.1040, 1.1292, 1.1560, 1.1760, 1.1943, 1.2132, 1.2242,\n",
      "         1.2380, 1.2443, 1.2562, 1.2715, 1.2895, 1.3125, 1.3344, 1.3602, 1.3762,\n",
      "         1.4026, 1.4200, 1.4424, 1.4703, 1.4960, 1.5126, 1.5371, 1.5448, 1.5407,\n",
      "         1.5126, 1.4655, 1.4178],\n",
      "        [0.4237, 0.4749, 0.5191, 0.5643, 0.5999, 0.6450, 0.6838, 0.7282, 0.7671,\n",
      "         0.8116, 0.8583, 0.9008, 0.9487, 0.9895, 1.0421, 1.0882, 1.1373, 1.1850,\n",
      "         1.2355, 1.2863, 1.3377, 1.3877, 1.4388, 1.4942, 1.5489, 1.6053, 1.6621,\n",
      "         1.7179, 1.7756, 1.8371, 1.8930, 1.9558, 2.0205, 2.0857, 2.1491, 2.2118,\n",
      "         2.2778, 2.3411, 2.4104, 2.4770, 2.5432, 2.6136, 2.6808, 2.7512, 2.8242,\n",
      "         2.8973, 2.9741, 3.0454, 3.1135, 3.1853, 3.2546, 3.3202, 3.3895, 3.4554,\n",
      "         3.5200, 3.5847, 3.6418, 3.6918, 3.7425, 3.7779, 3.8032, 3.8064, 3.7690,\n",
      "         3.6778, 3.5470, 3.4229]])\n"
     ]
    }
   ],
   "source": [
    "dataiter = iter(dataloader)\n",
    "data = next(dataiter)\n",
    "features, labels = data\n",
    "print(features, labels)"
   ]
  },
  {
   "cell_type": "code",
   "execution_count": 6,
   "metadata": {},
   "outputs": [],
   "source": [
    "num_epochs = 2\n",
    "total_samples = len(dataset)\n",
    "n_iterations = math.ceil(total_samples/4)"
   ]
  },
  {
   "cell_type": "code",
   "execution_count": 7,
   "metadata": {},
   "outputs": [
    {
     "name": "stdout",
     "output_type": "stream",
     "text": [
      "torch.Size([4, 66])\n",
      "torch.Size([4, 66])\n",
      "torch.Size([4, 66])\n",
      "torch.Size([4, 66])\n"
     ]
    }
   ],
   "source": [
    "for epoch in range(num_epochs):\n",
    "    for i, (inputs, labels) in enumerate(dataloader):\n",
    "        if i+1 == 5:\n",
    "            print(labels.shape)\n",
    "            scaler = StandardScaler()\n",
    "            scaled = torch.tensor(scaler.fit_transform(labels), dtype=torch.float32)\n",
    "            print(scaled.shape)\n"
   ]
  },
  {
   "cell_type": "code",
   "execution_count": 9,
   "metadata": {},
   "outputs": [
    {
     "data": {
      "text/plain": [
       "[range(1, 11)]"
      ]
     },
     "execution_count": 9,
     "metadata": {},
     "output_type": "execute_result"
    }
   ],
   "source": [
    "[range(1,11)]"
   ]
  },
  {
   "cell_type": "code",
   "execution_count": null,
   "metadata": {},
   "outputs": [],
   "source": []
  }
 ],
 "metadata": {
  "kernelspec": {
   "display_name": "Python 3",
   "language": "python",
   "name": "python3"
  },
  "language_info": {
   "codemirror_mode": {
    "name": "ipython",
    "version": 3
   },
   "file_extension": ".py",
   "mimetype": "text/x-python",
   "name": "python",
   "nbconvert_exporter": "python",
   "pygments_lexer": "ipython3",
   "version": "3.11.3"
  },
  "orig_nbformat": 4
 },
 "nbformat": 4,
 "nbformat_minor": 2
}
