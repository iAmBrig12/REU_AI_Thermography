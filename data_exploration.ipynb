{
 "cells": [
  {
   "cell_type": "code",
   "execution_count": 39,
   "metadata": {},
   "outputs": [],
   "source": [
    "import pandas as pd\n",
    "import matplotlib.pyplot as plt\n",
    "%matplotlib inline\n",
    "import numpy as np\n",
    "import pandas as pd\n",
    "import torch\n",
    "import torchvision\n",
    "import math\n",
    "from sklearn.preprocessing import StandardScaler\n",
    "from thermography_dataset import ThermDataset\n",
    "from torch.utils.data import DataLoader"
   ]
  },
  {
   "cell_type": "code",
   "execution_count": 40,
   "metadata": {},
   "outputs": [],
   "source": [
    "dataset = ThermDataset(fp='combined_data.xlsx', noise_scale=0.001)"
   ]
  },
  {
   "cell_type": "code",
   "execution_count": 41,
   "metadata": {},
   "outputs": [
    {
     "ename": "AttributeError",
     "evalue": "'ThermDataset' object has no attribute 'wavelengths'",
     "output_type": "error",
     "traceback": [
      "\u001b[1;31m---------------------------------------------------------------------------\u001b[0m",
      "\u001b[1;31mAttributeError\u001b[0m                            Traceback (most recent call last)",
      "Cell \u001b[1;32mIn[41], line 1\u001b[0m\n\u001b[1;32m----> 1\u001b[0m dataset\u001b[39m.\u001b[39;49mwavelengths\n",
      "\u001b[1;31mAttributeError\u001b[0m: 'ThermDataset' object has no attribute 'wavelengths'"
     ]
    }
   ],
   "source": [
    "dataset.wavelengths"
   ]
  },
  {
   "cell_type": "code",
   "execution_count": null,
   "metadata": {},
   "outputs": [],
   "source": [
    "dataloader = DataLoader(dataset=dataset, batch_size=4, shuffle=True, num_workers=2)"
   ]
  },
  {
   "cell_type": "code",
   "execution_count": null,
   "metadata": {},
   "outputs": [
    {
     "name": "stdout",
     "output_type": "stream",
     "text": [
      "tensor([[290.7933, 314.5182, 329.7332, 344.3266, 336.8625, 336.9954, 333.1449,\n",
      "         320.5451, 316.8239, 322.6713, 345.1540],\n",
      "        [298.7110, 316.7064, 314.5043, 327.4719, 321.1247, 315.4374, 305.2183,\n",
      "         313.3135, 313.9437, 326.1609, 366.6997],\n",
      "        [323.6279, 313.8770, 325.7810, 322.6772, 317.1850, 320.0135, 307.7722,\n",
      "         301.4362, 311.0751, 316.8970, 356.3034],\n",
      "        [301.9107, 336.4261, 335.3131, 332.6181, 326.0174, 312.2128, 293.8401,\n",
      "         292.1022, 293.8920, 288.0397, 297.3849]]) tensor([[0.3854, 0.4293, 0.4648, 0.5042, 0.5375, 0.5771, 0.6167, 0.6555, 0.6983,\n",
      "         0.7377, 0.7820, 0.8268, 0.8718, 0.9131, 0.9594, 1.0061, 1.0503, 1.0991,\n",
      "         1.1446, 1.1963, 1.2439, 1.2927, 1.3402, 1.3917, 1.4486, 1.5010, 1.5546,\n",
      "         1.6059, 1.6621, 1.7213, 1.7826, 1.8445, 1.9096, 1.9758, 2.0403, 2.1086,\n",
      "         2.1774, 2.2428, 2.3143, 2.3848, 2.4553, 2.5254, 2.6026, 2.6790, 2.7612,\n",
      "         2.8509, 2.9346, 3.0218, 3.1065, 3.1844, 3.2583, 3.3316, 3.4021, 3.4785,\n",
      "         3.5503, 3.6144, 3.6767, 3.7362, 3.7836, 3.8204, 3.8462, 3.8486, 3.8142,\n",
      "         3.7221, 3.5864, 3.4578],\n",
      "        [0.4329, 0.5214, 0.6011, 0.6667, 0.7293, 0.7928, 0.8553, 0.9172, 0.9815,\n",
      "         1.0433, 1.1076, 1.1713, 1.2296, 1.2958, 1.3604, 1.4224, 1.4855, 1.5467,\n",
      "         1.6121, 1.6736, 1.7362, 1.8007, 1.8670, 1.9326, 2.0033, 2.0716, 2.1394,\n",
      "         2.2142, 2.2865, 2.3680, 2.4442, 2.5285, 2.6195, 2.7112, 2.8070, 2.9011,\n",
      "         2.9968, 3.0893, 3.1812, 3.2766, 3.3783, 3.4758, 3.5861, 3.6983, 3.8188,\n",
      "         3.9484, 4.0769, 4.2026, 4.3216, 4.4280, 4.5332, 4.6303, 4.7285, 4.8247,\n",
      "         4.9177, 5.0090, 5.0918, 5.1644, 5.2197, 5.2602, 5.2849, 5.2812, 5.2176,\n",
      "         5.0846, 4.8905, 4.7064],\n",
      "        [0.3557, 0.4227, 0.4848, 0.5378, 0.5854, 0.6371, 0.6867, 0.7369, 0.7891,\n",
      "         0.8428, 0.8958, 0.9476, 0.9967, 1.0502, 1.1017, 1.1581, 1.2107, 1.2635,\n",
      "         1.3185, 1.3712, 1.4249, 1.4809, 1.5366, 1.5950, 1.6559, 1.7145, 1.7764,\n",
      "         1.8383, 1.9044, 1.9696, 2.0354, 2.1103, 2.1857, 2.2667, 2.3463, 2.4309,\n",
      "         2.5131, 2.5965, 2.6768, 2.7607, 2.8477, 2.9338, 3.0295, 3.1252, 3.2351,\n",
      "         3.3465, 3.4588, 3.5728, 3.6723, 3.7717, 3.8616, 3.9493, 4.0400, 4.1262,\n",
      "         4.2127, 4.2983, 4.3746, 4.4329, 4.4886, 4.5319, 4.5520, 4.5547, 4.5061,\n",
      "         4.3938, 4.2292, 4.0742],\n",
      "        [0.1671, 0.1532, 0.1559, 0.1603, 0.1716, 0.1854, 0.1962, 0.2035, 0.2209,\n",
      "         0.2349, 0.2506, 0.2603, 0.2778, 0.2939, 0.3093, 0.3285, 0.3502, 0.3670,\n",
      "         0.3863, 0.4057, 0.4231, 0.4478, 0.4688, 0.4907, 0.5139, 0.5357, 0.5601,\n",
      "         0.5816, 0.6091, 0.6319, 0.6576, 0.6828, 0.7122, 0.7397, 0.7667, 0.8005,\n",
      "         0.8264, 0.8557, 0.8842, 0.9187, 0.9476, 0.9838, 1.0144, 1.0477, 1.0816,\n",
      "         1.1173, 1.1567, 1.1941, 1.2327, 1.2648, 1.3028, 1.3394, 1.3708, 1.4097,\n",
      "         1.4455, 1.4801, 1.5112, 1.5442, 1.5748, 1.5968, 1.6175, 1.6262, 1.6164,\n",
      "         1.5889, 1.5374, 1.4912]])\n"
     ]
    }
   ],
   "source": [
    "dataiter = iter(dataloader)\n",
    "data = next(dataiter)\n",
    "features, labels = data\n",
    "print(features, labels)"
   ]
  },
  {
   "cell_type": "code",
   "execution_count": null,
   "metadata": {},
   "outputs": [],
   "source": [
    "num_epochs = 2\n",
    "total_samples = len(dataset)\n",
    "n_iterations = math.ceil(total_samples/4)"
   ]
  },
  {
   "cell_type": "code",
   "execution_count": null,
   "metadata": {},
   "outputs": [
    {
     "name": "stdout",
     "output_type": "stream",
     "text": [
      "torch.Size([4, 66])\n",
      "torch.Size([4, 66])\n",
      "torch.Size([4, 66])\n",
      "torch.Size([4, 66])\n"
     ]
    }
   ],
   "source": [
    "for epoch in range(num_epochs):\n",
    "    for i, (inputs, labels) in enumerate(dataloader):\n",
    "        if i+1 == 5:\n",
    "            print(labels.shape)\n",
    "            scaler = StandardScaler()\n",
    "            scaled = torch.tensor(scaler.fit_transform(labels), dtype=torch.float32)\n",
    "            print(scaled.shape)\n"
   ]
  },
  {
   "cell_type": "code",
   "execution_count": null,
   "metadata": {},
   "outputs": [],
   "source": []
  }
 ],
 "metadata": {
  "kernelspec": {
   "display_name": "Python 3",
   "language": "python",
   "name": "python3"
  },
  "language_info": {
   "codemirror_mode": {
    "name": "ipython",
    "version": 3
   },
   "file_extension": ".py",
   "mimetype": "text/x-python",
   "name": "python",
   "nbconvert_exporter": "python",
   "pygments_lexer": "ipython3",
   "version": "3.11.3"
  },
  "orig_nbformat": 4
 },
 "nbformat": 4,
 "nbformat_minor": 2
}
