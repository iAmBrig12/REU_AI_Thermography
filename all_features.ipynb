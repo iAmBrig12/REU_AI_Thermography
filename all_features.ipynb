{
 "cells": [
  {
   "cell_type": "code",
   "execution_count": 338,
   "metadata": {},
   "outputs": [],
   "source": [
    "import torch\n",
    "from torch import nn\n",
    "import torch.optim as optim\n",
    "from torch.utils.data import DataLoader\n",
    "import pandas as pd"
   ]
  },
  {
   "cell_type": "code",
   "execution_count": 339,
   "metadata": {},
   "outputs": [],
   "source": [
    "# Read Data\n",
    "spectrum_train = pd.read_excel('spectrum_train.xlsx')\n",
    "spectrum_test = pd.read_excel('spectrum_valid.xlsx')\n",
    "temp_train = pd.read_excel('temp_train.xlsx')\n",
    "temp_test = pd.read_excel('temp_valid.xlsx')"
   ]
  },
  {
   "cell_type": "code",
   "execution_count": 340,
   "metadata": {},
   "outputs": [],
   "source": [
    "spectrum_train_scaled = spectrum_train.multiply(10**12)\n",
    "spectrum_test_scaled = spectrum_test.multiply(10**12)"
   ]
  },
  {
   "cell_type": "code",
   "execution_count": 341,
   "metadata": {},
   "outputs": [],
   "source": [
    "# determine the supported device\n",
    "def get_device():\n",
    "    if torch.cuda.is_available():\n",
    "        device = torch.device('cuda:0')\n",
    "    else:\n",
    "        device = torch.device('cpu') # don't have GPU \n",
    "    return device\n",
    "\n",
    "# convert a df to tensor to be used in pytorch\n",
    "def df_to_tensor(df):\n",
    "    device = get_device()\n",
    "    return torch.from_numpy(df.values).float().to(device)"
   ]
  },
  {
   "cell_type": "code",
   "execution_count": 342,
   "metadata": {},
   "outputs": [],
   "source": [
    "input_data = df_to_tensor(temp_train)\n",
    "output_data = df_to_tensor(spectrum_train_scaled)"
   ]
  },
  {
   "cell_type": "code",
   "execution_count": 343,
   "metadata": {},
   "outputs": [
    {
     "data": {
      "text/plain": [
       "tensor([[350.6424, 357.4240, 338.0000,  ..., 267.9975, 252.9999, 238.0000],\n",
       "        [352.1875, 360.3629, 342.0451,  ..., 269.5426, 252.9999, 236.4549],\n",
       "        [350.6424, 357.4240, 338.0000,  ..., 267.9975, 252.9999, 238.0000],\n",
       "        ...,\n",
       "        [597.3622, 585.6775, 574.4026,  ..., 493.7609, 505.0429, 515.4084],\n",
       "        [595.8171, 582.7385, 570.3576,  ..., 492.2158, 505.0429, 516.9536],\n",
       "        [601.9975, 594.4943, 586.5379,  ..., 498.3961, 505.0429, 510.7732]])"
      ]
     },
     "execution_count": 343,
     "metadata": {},
     "output_type": "execute_result"
    }
   ],
   "source": [
    "input_data"
   ]
  },
  {
   "cell_type": "code",
   "execution_count": 344,
   "metadata": {},
   "outputs": [
    {
     "data": {
      "text/plain": [
       "tensor([[ 0.1119,  0.0821,  0.0643,  ...,  0.3437,  0.3360,  0.3290],\n",
       "        [ 0.1240,  0.0904,  0.0701,  ...,  0.3269,  0.3197,  0.3131],\n",
       "        [ 0.1119,  0.0821,  0.0643,  ...,  0.3437,  0.3360,  0.3290],\n",
       "        ...,\n",
       "        [10.8134, 10.6301, 10.5865,  ..., 21.8142, 20.7956, 19.8604],\n",
       "        [10.6221, 10.5147, 10.5277,  ..., 22.0530, 21.0220, 20.0754],\n",
       "        [11.4288, 11.0081, 10.7881,  ..., 21.1053, 20.1236, 19.2221]])"
      ]
     },
     "execution_count": 344,
     "metadata": {},
     "output_type": "execute_result"
    }
   ],
   "source": [
    "output_data"
   ]
  },
  {
   "cell_type": "code",
   "execution_count": 345,
   "metadata": {},
   "outputs": [],
   "source": [
    "class Net(nn.Module):\n",
    "    def __init__(self, input_size, output_size):\n",
    "        super(Net, self).__init__()\n",
    "        self.fc1 = nn.Linear(input_size, 128)\n",
    "        self.fc2 = nn.Linear(128, 256)\n",
    "        self.fc3 = nn.Linear(256, 512)\n",
    "        self.fc4 = nn.Linear(512, 256)\n",
    "        self.fc5 = nn.Linear(256, 128)\n",
    "        self.fc6 = nn.Linear(128, output_size)\n",
    "\n",
    "    def forward(self, x):\n",
    "        x = torch.relu(self.fc1(x))\n",
    "        x = torch.relu(self.fc2(x))\n",
    "        x = torch.relu(self.fc3(x))\n",
    "        x = torch.relu(self.fc4(x))\n",
    "        x = torch.relu(self.fc5(x))\n",
    "        x = self.fc6(x)\n",
    "        return x"
   ]
  },
  {
   "cell_type": "code",
   "execution_count": 346,
   "metadata": {},
   "outputs": [],
   "source": [
    "input_size = 11\n",
    "output_size = 66\n",
    "model = Net(input_size=input_size, output_size=output_size)"
   ]
  },
  {
   "cell_type": "code",
   "execution_count": 347,
   "metadata": {},
   "outputs": [],
   "source": [
    "criterion = nn.MSELoss()  # Mean Squared Error loss for regression\n",
    "optimizer = optim.Adam(model.parameters(), lr=0.00001)  # Adam optimizer"
   ]
  },
  {
   "cell_type": "code",
   "execution_count": 348,
   "metadata": {},
   "outputs": [
    {
     "name": "stdout",
     "output_type": "stream",
     "text": [
      "Epoch 1/15, Loss: 1.227836\n",
      "Epoch 2/15, Loss: 1.090207\n",
      "Epoch 3/15, Loss: 0.696722\n",
      "Epoch 4/15, Loss: 0.454796\n",
      "Epoch 5/15, Loss: 0.273489\n",
      "Epoch 6/15, Loss: 0.237316\n",
      "Epoch 7/15, Loss: 0.241296\n",
      "Epoch 8/15, Loss: 0.252911\n",
      "Epoch 9/15, Loss: 0.257222\n",
      "Epoch 10/15, Loss: 0.254695\n",
      "Epoch 11/15, Loss: 0.261782\n",
      "Epoch 12/15, Loss: 0.263810\n",
      "Epoch 13/15, Loss: 0.251714\n",
      "Epoch 14/15, Loss: 0.279464\n",
      "Epoch 15/15, Loss: 0.279204\n"
     ]
    }
   ],
   "source": [
    "num_epochs = 15\n",
    "batch_size = 1\n",
    "num_batches = len(input_data) // batch_size\n",
    "\n",
    "for epoch in range(num_epochs):\n",
    "    for batch in range(num_batches):\n",
    "        start = batch * batch_size\n",
    "        end = start + batch_size\n",
    "\n",
    "        inputs = input_data[start:end]\n",
    "        targets = output_data[start:end]\n",
    "\n",
    "        optimizer.zero_grad()\n",
    "\n",
    "        # Forward pass\n",
    "        outputs = model(inputs)\n",
    "\n",
    "        # Compute loss\n",
    "        loss = criterion(outputs, targets)\n",
    "\n",
    "        # Backpropagation and optimization\n",
    "        loss.backward()\n",
    "        optimizer.step()\n",
    "\n",
    "    # Print the loss for this epoch\n",
    "    print(f\"Epoch {epoch+1}/{num_epochs}, Loss: {loss.item():.6f}\")"
   ]
  },
  {
   "cell_type": "code",
   "execution_count": 349,
   "metadata": {},
   "outputs": [],
   "source": [
    "predictions = model(df_to_tensor(temp_train))"
   ]
  },
  {
   "cell_type": "code",
   "execution_count": 356,
   "metadata": {},
   "outputs": [],
   "source": [
    "pred = pd.DataFrame(predictions.detach().numpy(), columns=spectrum_test.columns)"
   ]
  },
  {
   "cell_type": "code",
   "execution_count": 357,
   "metadata": {},
   "outputs": [],
   "source": [
    "actual = spectrum_test_scaled"
   ]
  },
  {
   "cell_type": "code",
   "execution_count": 360,
   "metadata": {},
   "outputs": [
    {
     "data": {
      "text/plain": [
       "83.17654160235867"
      ]
     },
     "execution_count": 360,
     "metadata": {},
     "output_type": "execute_result"
    }
   ],
   "source": [
    "100 + actual.subtract(pred).divide(pred).multiply(100).mean().mean()"
   ]
  },
  {
   "cell_type": "code",
   "execution_count": null,
   "metadata": {},
   "outputs": [],
   "source": []
  }
 ],
 "metadata": {
  "kernelspec": {
   "display_name": "Python 3",
   "language": "python",
   "name": "python3"
  },
  "language_info": {
   "codemirror_mode": {
    "name": "ipython",
    "version": 3
   },
   "file_extension": ".py",
   "mimetype": "text/x-python",
   "name": "python",
   "nbconvert_exporter": "python",
   "pygments_lexer": "ipython3",
   "version": "3.11.3"
  },
  "orig_nbformat": 4
 },
 "nbformat": 4,
 "nbformat_minor": 2
}
