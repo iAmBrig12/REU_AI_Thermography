{
 "cells": [
  {
   "cell_type": "code",
   "execution_count": 71,
   "metadata": {},
   "outputs": [],
   "source": [
    "import torch\n",
    "from torch import nn\n",
    "import torch.optim as optim\n",
    "from torch.utils.data import DataLoader\n",
    "import pandas as pd"
   ]
  },
  {
   "cell_type": "code",
   "execution_count": 72,
   "metadata": {},
   "outputs": [],
   "source": [
    "# Read Data\n",
    "spectrum_train = pd.read_excel('spectrum_train.xlsx')\n",
    "spectrum_test = pd.read_excel('spectrum_valid.xlsx')\n",
    "temp_train = pd.read_excel('temp_train.xlsx')\n",
    "temp_test = pd.read_excel('temp_valid.xlsx')"
   ]
  },
  {
   "cell_type": "code",
   "execution_count": 74,
   "metadata": {},
   "outputs": [],
   "source": [
    "# determine the supported device\n",
    "def get_device():\n",
    "    if torch.cuda.is_available():\n",
    "        device = torch.device('cuda:0')\n",
    "    else:\n",
    "        device = torch.device('cpu') # don't have GPU \n",
    "    return device\n",
    "\n",
    "# convert a df to tensor to be used in pytorch\n",
    "def df_to_tensor(df):\n",
    "    device = get_device()\n",
    "    return torch.from_numpy(df.values).float().to(device)"
   ]
  },
  {
   "cell_type": "code",
   "execution_count": 75,
   "metadata": {},
   "outputs": [],
   "source": [
    "input_data = df_to_tensor(spectrum_train)\n",
    "output_data = df_to_tensor(temp_train)"
   ]
  },
  {
   "cell_type": "code",
   "execution_count": 76,
   "metadata": {},
   "outputs": [],
   "source": [
    "class Net(nn.Module):\n",
    "    def __init__(self, input_size, output_size):\n",
    "        super(Net, self).__init__()\n",
    "        self.fc1 = nn.Linear(input_size, 128)\n",
    "        self.fc2 = nn.Linear(128, output_size)\n",
    "\n",
    "    def forward(self, x):\n",
    "        x = torch.relu(self.fc1(x))\n",
    "        x = self.fc2(x)\n",
    "        return x"
   ]
  },
  {
   "cell_type": "code",
   "execution_count": 77,
   "metadata": {},
   "outputs": [],
   "source": [
    "input_size = 66\n",
    "output_size = 11\n",
    "model = Net(input_size=input_size, output_size=output_size)"
   ]
  },
  {
   "cell_type": "code",
   "execution_count": 78,
   "metadata": {},
   "outputs": [],
   "source": [
    "criterion = nn.MSELoss()  # Mean Squared Error loss for regression\n",
    "optimizer = optim.Adam(model.parameters(), lr=0.001)  # Adam optimizer"
   ]
  },
  {
   "cell_type": "code",
   "execution_count": 79,
   "metadata": {},
   "outputs": [
    {
     "name": "stdout",
     "output_type": "stream",
     "text": [
      "Epoch 1/100, Loss: 286210.187500\n",
      "Epoch 2/100, Loss: 285488.781250\n",
      "Epoch 3/100, Loss: 284196.781250\n",
      "Epoch 4/100, Loss: 282300.406250\n",
      "Epoch 5/100, Loss: 279803.875000\n",
      "Epoch 6/100, Loss: 276724.625000\n",
      "Epoch 7/100, Loss: 273086.562500\n",
      "Epoch 8/100, Loss: 268917.531250\n",
      "Epoch 9/100, Loss: 264248.468750\n",
      "Epoch 10/100, Loss: 259112.265625\n",
      "Epoch 11/100, Loss: 253543.593750\n",
      "Epoch 12/100, Loss: 247578.343750\n",
      "Epoch 13/100, Loss: 241253.609375\n",
      "Epoch 14/100, Loss: 234606.953125\n",
      "Epoch 15/100, Loss: 227676.562500\n",
      "Epoch 16/100, Loss: 220500.656250\n",
      "Epoch 17/100, Loss: 213117.500000\n",
      "Epoch 18/100, Loss: 205565.000000\n",
      "Epoch 19/100, Loss: 197880.687500\n",
      "Epoch 20/100, Loss: 190101.265625\n",
      "Epoch 21/100, Loss: 182262.625000\n",
      "Epoch 22/100, Loss: 174399.562500\n",
      "Epoch 23/100, Loss: 166545.609375\n",
      "Epoch 24/100, Loss: 158732.890625\n",
      "Epoch 25/100, Loss: 150991.984375\n",
      "Epoch 26/100, Loss: 143351.687500\n",
      "Epoch 27/100, Loss: 135839.046875\n",
      "Epoch 28/100, Loss: 128479.156250\n",
      "Epoch 29/100, Loss: 121295.023438\n",
      "Epoch 30/100, Loss: 114307.531250\n",
      "Epoch 31/100, Loss: 107535.328125\n",
      "Epoch 32/100, Loss: 100994.898438\n",
      "Epoch 33/100, Loss: 94700.335938\n",
      "Epoch 34/100, Loss: 88663.460938\n",
      "Epoch 35/100, Loss: 82893.742188\n",
      "Epoch 36/100, Loss: 77398.429688\n",
      "Epoch 37/100, Loss: 72182.453125\n",
      "Epoch 38/100, Loss: 67248.601562\n",
      "Epoch 39/100, Loss: 62597.546875\n",
      "Epoch 40/100, Loss: 58227.933594\n",
      "Epoch 41/100, Loss: 54136.585938\n",
      "Epoch 42/100, Loss: 50318.550781\n",
      "Epoch 43/100, Loss: 46767.289062\n",
      "Epoch 44/100, Loss: 43474.925781\n",
      "Epoch 45/100, Loss: 40432.304688\n",
      "Epoch 46/100, Loss: 37629.265625\n",
      "Epoch 47/100, Loss: 35054.773438\n",
      "Epoch 48/100, Loss: 32697.212891\n",
      "Epoch 49/100, Loss: 30544.476562\n",
      "Epoch 50/100, Loss: 28584.201172\n",
      "Epoch 51/100, Loss: 26803.912109\n",
      "Epoch 52/100, Loss: 25191.175781\n",
      "Epoch 53/100, Loss: 23733.777344\n",
      "Epoch 54/100, Loss: 22419.796875\n",
      "Epoch 55/100, Loss: 21237.726562\n",
      "Epoch 56/100, Loss: 20176.542969\n",
      "Epoch 57/100, Loss: 19225.787109\n",
      "Epoch 58/100, Loss: 18375.582031\n",
      "Epoch 59/100, Loss: 17616.681641\n",
      "Epoch 60/100, Loss: 16940.449219\n",
      "Epoch 61/100, Loss: 16338.896484\n",
      "Epoch 62/100, Loss: 15804.655273\n",
      "Epoch 63/100, Loss: 15330.938477\n",
      "Epoch 64/100, Loss: 14911.541016\n",
      "Epoch 65/100, Loss: 14540.811523\n",
      "Epoch 66/100, Loss: 14213.596680\n",
      "Epoch 67/100, Loss: 13925.207031\n",
      "Epoch 68/100, Loss: 13671.437500\n",
      "Epoch 69/100, Loss: 13448.462891\n",
      "Epoch 70/100, Loss: 13252.832031\n",
      "Epoch 71/100, Loss: 13081.454102\n",
      "Epoch 72/100, Loss: 12931.556641\n",
      "Epoch 73/100, Loss: 12800.627930\n",
      "Epoch 74/100, Loss: 12686.464844\n",
      "Epoch 75/100, Loss: 12587.038086\n",
      "Epoch 76/100, Loss: 12500.589844\n",
      "Epoch 77/100, Loss: 12425.540039\n",
      "Epoch 78/100, Loss: 12360.480469\n",
      "Epoch 79/100, Loss: 12304.152344\n",
      "Epoch 80/100, Loss: 12255.461914\n",
      "Epoch 81/100, Loss: 12213.425781\n",
      "Epoch 82/100, Loss: 12177.184570\n",
      "Epoch 83/100, Loss: 12145.977539\n",
      "Epoch 84/100, Loss: 12119.134766\n",
      "Epoch 85/100, Loss: 12096.075195\n",
      "Epoch 86/100, Loss: 12076.290039\n",
      "Epoch 87/100, Loss: 12059.318359\n",
      "Epoch 88/100, Loss: 12044.777344\n",
      "Epoch 89/100, Loss: 12032.325195\n",
      "Epoch 90/100, Loss: 12021.675781\n",
      "Epoch 91/100, Loss: 12012.566406\n",
      "Epoch 92/100, Loss: 12004.778320\n",
      "Epoch 93/100, Loss: 11998.113281\n",
      "Epoch 94/100, Loss: 11992.409180\n",
      "Epoch 95/100, Loss: 11987.524414\n",
      "Epoch 96/100, Loss: 11983.337891\n",
      "Epoch 97/100, Loss: 11979.746094\n",
      "Epoch 98/100, Loss: 11976.656250\n",
      "Epoch 99/100, Loss: 11973.994141\n",
      "Epoch 100/100, Loss: 11971.694336\n"
     ]
    }
   ],
   "source": [
    "num_epochs = 100\n",
    "batch_size = 32\n",
    "num_batches = len(input_data) // batch_size\n",
    "\n",
    "for epoch in range(num_epochs):\n",
    "    for batch in range(num_batches):\n",
    "        start = batch * batch_size\n",
    "        end = start + batch_size\n",
    "\n",
    "        inputs = input_data[start:end]\n",
    "        targets = output_data[start:end]\n",
    "\n",
    "        optimizer.zero_grad()\n",
    "\n",
    "        # Forward pass\n",
    "        outputs = model(inputs)\n",
    "\n",
    "        # Compute loss\n",
    "        loss = criterion(outputs, targets)\n",
    "\n",
    "        # Backpropagation and optimization\n",
    "        loss.backward()\n",
    "        optimizer.step()\n",
    "\n",
    "    # Print the loss for this epoch\n",
    "    print(f\"Epoch {epoch+1}/{num_epochs}, Loss: {loss.item():.6f}\")"
   ]
  },
  {
   "cell_type": "code",
   "execution_count": 80,
   "metadata": {},
   "outputs": [],
   "source": [
    "predictions = model(df_to_tensor(spectrum_test))"
   ]
  },
  {
   "cell_type": "code",
   "execution_count": 81,
   "metadata": {},
   "outputs": [
    {
     "data": {
      "text/plain": [
       "tensor([[431.1968, 431.7384, 432.9923,  ..., 431.8170, 431.0523, 430.2775],\n",
       "        [431.1968, 431.7384, 432.9923,  ..., 431.8170, 431.0523, 430.2775],\n",
       "        [431.1968, 431.7384, 432.9923,  ..., 431.8170, 431.0523, 430.2775],\n",
       "        ...,\n",
       "        [431.1968, 431.7384, 432.9923,  ..., 431.8170, 431.0523, 430.2775],\n",
       "        [431.1968, 431.7384, 432.9923,  ..., 431.8170, 431.0523, 430.2775],\n",
       "        [431.1968, 431.7384, 432.9923,  ..., 431.8170, 431.0523, 430.2775]],\n",
       "       grad_fn=<AddmmBackward0>)"
      ]
     },
     "execution_count": 81,
     "metadata": {},
     "output_type": "execute_result"
    }
   ],
   "source": [
    "predictions"
   ]
  },
  {
   "cell_type": "code",
   "execution_count": null,
   "metadata": {},
   "outputs": [],
   "source": []
  }
 ],
 "metadata": {
  "kernelspec": {
   "display_name": "Python 3",
   "language": "python",
   "name": "python3"
  },
  "language_info": {
   "codemirror_mode": {
    "name": "ipython",
    "version": 3
   },
   "file_extension": ".py",
   "mimetype": "text/x-python",
   "name": "python",
   "nbconvert_exporter": "python",
   "pygments_lexer": "ipython3",
   "version": "3.11.3"
  },
  "orig_nbformat": 4
 },
 "nbformat": 4,
 "nbformat_minor": 2
}
