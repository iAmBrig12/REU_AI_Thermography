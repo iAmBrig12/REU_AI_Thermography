{
 "cells": [
  {
   "cell_type": "code",
<<<<<<< HEAD
   "execution_count": 243,
=======
   "execution_count": 4,
>>>>>>> c8ec0e81ec198e6c6f4188f7c79205e487ea4dc1
   "metadata": {},
   "outputs": [],
   "source": [
    "import torch\n",
    "import torch.nn as nn\n",
    "import torch.nn.functional as F\n",
    "import numpy as np\n",
    "from sklearn import datasets\n",
    "import matplotlib.pyplot as plt\n",
    "import pandas as pd\n",
    "%matplotlib inline"
   ]
  },
  {
   "attachments": {},
   "cell_type": "markdown",
   "metadata": {},
   "source": [
    "# Prepare Data"
   ]
  },
  {
   "cell_type": "code",
<<<<<<< HEAD
   "execution_count": 244,
=======
   "execution_count": 5,
>>>>>>> c8ec0e81ec198e6c6f4188f7c79205e487ea4dc1
   "metadata": {},
   "outputs": [],
   "source": [
    "# read data\n",
    "spectrum_train = pd.read_excel('spectrum_train.xlsx')\n",
    "spectrum_test = pd.read_excel('spectrum_valid.xlsx')\n",
    "temp_train = pd.read_excel('temp_train.xlsx')\n",
    "temp_test = pd.read_excel('temp_valid.xlsx')"
   ]
  },
  {
   "cell_type": "code",
<<<<<<< HEAD
   "execution_count": 245,
=======
   "execution_count": 6,
>>>>>>> c8ec0e81ec198e6c6f4188f7c79205e487ea4dc1
   "metadata": {},
   "outputs": [],
   "source": [
    "# save spectrum labels for later\n",
    "spectrum_labels = spectrum_test.columns"
   ]
  },
  {
   "cell_type": "code",
<<<<<<< HEAD
   "execution_count": 246,
=======
   "execution_count": 7,
>>>>>>> c8ec0e81ec198e6c6f4188f7c79205e487ea4dc1
   "metadata": {},
   "outputs": [],
   "source": [
    "# scale spectrum data\n",
    "scale = 10**12\n",
    "spectrum_train = spectrum_train.multiply(scale)\n",
    "spectrum_test = spectrum_test.multiply(scale)"
   ]
  },
  {
   "cell_type": "code",
<<<<<<< HEAD
   "execution_count": 247,
=======
   "execution_count": 8,
>>>>>>> c8ec0e81ec198e6c6f4188f7c79205e487ea4dc1
   "metadata": {},
   "outputs": [],
   "source": [
    "# determine direction and set train and test data\n",
    "# 1 - temp to spectrum\n",
    "# 0 - spectrum to temp\n",
    "direction = 1\n",
    "\n",
    "if direction:\n",
    "    X_train = temp_train\n",
    "    X_test = temp_test\n",
    "    y_train = spectrum_train\n",
    "    y_test = spectrum_test\n",
    "else:\n",
    "    X_train = spectrum_train\n",
    "    X_test = spectrum_test\n",
    "    y_train = temp_train\n",
    "    y_test = temp_test"
   ]
  },
  {
   "cell_type": "code",
<<<<<<< HEAD
   "execution_count": 248,
=======
   "execution_count": 9,
>>>>>>> c8ec0e81ec198e6c6f4188f7c79205e487ea4dc1
   "metadata": {},
   "outputs": [],
   "source": [
    "# determine the supported device\n",
    "def get_device():\n",
    "    if torch.cuda.is_available():\n",
    "        device = torch.device('cuda:0')\n",
    "    else:\n",
    "        device = torch.device('cpu') # don't have GPU \n",
    "    return device\n",
    "\n",
    "# convert a df to tensor\n",
    "def df_to_tensor(df):\n",
    "    device = get_device()\n",
    "    return torch.from_numpy(df.values.astype(np.float32)).to(device)"
   ]
  },
  {
   "cell_type": "code",
<<<<<<< HEAD
   "execution_count": 249,
=======
   "execution_count": 10,
>>>>>>> c8ec0e81ec198e6c6f4188f7c79205e487ea4dc1
   "metadata": {},
   "outputs": [],
   "source": [
    "# create input and output tensors\n",
    "X = df_to_tensor(X_train)\n",
    "y = df_to_tensor(y_train)"
   ]
  },
  {
   "cell_type": "code",
<<<<<<< HEAD
   "execution_count": 250,
=======
   "execution_count": 11,
>>>>>>> c8ec0e81ec198e6c6f4188f7c79205e487ea4dc1
   "metadata": {},
   "outputs": [],
   "source": [
    "n_samples, input_size = X.shape\n",
    "_, output_size = y.shape"
   ]
  },
  {
   "attachments": {},
   "cell_type": "markdown",
   "metadata": {},
   "source": [
    "# Design Model \n",
    "(input size, output size, forward pass)"
   ]
  },
  {
   "cell_type": "code",
<<<<<<< HEAD
   "execution_count": 251,
=======
   "execution_count": 12,
>>>>>>> c8ec0e81ec198e6c6f4188f7c79205e487ea4dc1
   "metadata": {},
   "outputs": [],
   "source": [
    "class Net(nn.Module):\n",
    "    def __init__(self, input_size, output_size):\n",
    "        super(Net, self).__init__()\n",
    "        self.lin1 = nn.Linear(input_size, 128)\n",
    "        self.lin2 = nn.Linear(128, 128)\n",
    "        self.lin3 = nn.Linear(128, 128)\n",
    "        self.lin4 = nn.Linear(128, output_size)\n",
    "\n",
    "    def forward(self, x):\n",
    "        output = F.leaky_relu(self.lin1(x))\n",
    "        output = F.leaky_relu(self.lin2(output))\n",
    "        output = F.leaky_relu(self.lin3(output))\n",
    "        output = self.lin4(output)\n",
    "        return output"
   ]
  },
  {
   "cell_type": "code",
<<<<<<< HEAD
   "execution_count": 252,
=======
   "execution_count": 13,
>>>>>>> c8ec0e81ec198e6c6f4188f7c79205e487ea4dc1
   "metadata": {},
   "outputs": [],
   "source": [
    "model = Net(input_size=input_size, output_size=output_size)"
   ]
  },
  {
   "attachments": {},
   "cell_type": "markdown",
   "metadata": {},
   "source": [
    "# Construct Loss and Optimizer"
   ]
  },
  {
   "cell_type": "code",
<<<<<<< HEAD
   "execution_count": 253,
=======
   "execution_count": 14,
>>>>>>> c8ec0e81ec198e6c6f4188f7c79205e487ea4dc1
   "metadata": {},
   "outputs": [],
   "source": [
    "learning_rate = 0.01\n",
    "criterion = nn.MSELoss()\n",
    "optimizer = torch.optim.Rprop(model.parameters(), lr=learning_rate)"
   ]
  },
  {
   "attachments": {},
   "cell_type": "markdown",
   "metadata": {},
   "source": [
    "# Training Loop"
   ]
  },
  {
   "cell_type": "code",
<<<<<<< HEAD
   "execution_count": 254,
=======
   "execution_count": 15,
>>>>>>> c8ec0e81ec198e6c6f4188f7c79205e487ea4dc1
   "metadata": {},
   "outputs": [
    {
     "name": "stdout",
     "output_type": "stream",
     "text": [
<<<<<<< HEAD
      "epoch: 200, loss = 0.3090\n",
      "epoch: 400, loss = 0.1701\n",
      "epoch: 600, loss = 0.1316\n",
      "epoch: 800, loss = 0.1140\n",
      "epoch: 1000, loss = 0.0986\n",
      "epoch: 1200, loss = 0.0900\n",
      "epoch: 1400, loss = 0.0869\n",
      "epoch: 1600, loss = 0.0840\n",
      "epoch: 1800, loss = 0.0808\n",
      "epoch: 2000, loss = 0.0790\n"
=======
      "epoch: 10, w = -9034925080576.000, loss = 591813692283095544555167023104.0000\n",
      "epoch: 20, w = -439651655472377315851239424.000, loss = inf\n",
      "epoch: 30, w = nan, loss = nan\n",
      "epoch: 40, w = nan, loss = nan\n",
      "epoch: 50, w = nan, loss = nan\n",
      "epoch: 60, w = nan, loss = nan\n",
      "epoch: 70, w = nan, loss = nan\n",
      "epoch: 80, w = nan, loss = nan\n",
      "epoch: 90, w = nan, loss = nan\n",
      "epoch: 100, w = nan, loss = nan\n"
>>>>>>> c8ec0e81ec198e6c6f4188f7c79205e487ea4dc1
     ]
    }
   ],
   "source": [
    "num_epochs = 2000\n",
    "for epoch in range(num_epochs):\n",
    "    # forward pass and loss\n",
    "    y_predicted = model(X)\n",
    "    loss = criterion(y_predicted, y)\n",
    "\n",
    "    # backward pass\n",
    "    loss.backward()\n",
    "\n",
    "    # update\n",
    "    optimizer.step()\n",
    "\n",
    "    # empty gradients\n",
    "    optimizer.zero_grad()\n",
    "\n",
    "    if (epoch+1) % 200 == 0:\n",
    "        print(f'epoch: {epoch+1}, loss = {loss:.4f}')"
   ]
  },
  {
   "attachments": {},
   "cell_type": "markdown",
   "metadata": {},
   "source": [
    "# Plots"
   ]
  },
  {
   "cell_type": "code",
   "execution_count": 255,
   "metadata": {},
   "outputs": [],
   "source": [
    "pred = model(df_to_tensor(X_test))\n",
    "pred = pd.DataFrame(pred.detach().numpy())\n",
    "\n",
    "actual = y_test"
   ]
  },
  {
   "cell_type": "code",
   "execution_count": 259,
   "metadata": {},
   "outputs": [
    {
     "data": {
      "image/png": "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",
      "text/plain": [
       "<Figure size 640x480 with 1 Axes>"
      ]
     },
     "metadata": {},
     "output_type": "display_data"
    }
   ],
   "source": [
    "import matplotlib.pyplot as plt\n",
    "import random\n",
    "\n",
    "index = random.randint(0, len(actual))\n",
    "plt.plot(y_train.columns, actual.values[index], label='actual')\n",
    "plt.plot(y_train.columns, pred.values[index],  label='predicted')\n",
    "\n",
    "if direction:\n",
    "    plt.title(\"Wavelength from Temperature\")\n",
    "    plt.xlabel(\"Wavlength\")\n",
    "    plt.ylabel(\"Intensity\")\n",
    "else:\n",
    "    plt.title(\"Temperature from Wavelength\")\n",
    "    plt.xlabel(\"Layer\")\n",
    "    plt.ylabel(\"Temperature (K)\")\n",
    "\n",
    "plt.legend()\n",
    "plt.show()"
   ]
  },
  {
   "cell_type": "code",
   "execution_count": null,
   "metadata": {},
   "outputs": [],
   "source": []
  }
 ],
 "metadata": {
  "kernelspec": {
   "display_name": "Python 3",
   "language": "python",
   "name": "python3"
  },
  "language_info": {
   "codemirror_mode": {
    "name": "ipython",
    "version": 3
   },
   "file_extension": ".py",
   "mimetype": "text/x-python",
   "name": "python",
   "nbconvert_exporter": "python",
   "pygments_lexer": "ipython3",
   "version": "3.10.11"
  },
  "orig_nbformat": 4
 },
 "nbformat": 4,
 "nbformat_minor": 2
}
