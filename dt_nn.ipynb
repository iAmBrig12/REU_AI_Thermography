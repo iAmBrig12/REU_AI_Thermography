{
 "cells": [
  {
   "cell_type": "code",
   "execution_count": 274,
   "metadata": {},
   "outputs": [],
   "source": [
    "import torch\n",
    "import torch.nn as nn\n",
    "import torch.nn.functional as F\n",
    "import numpy as np\n",
    "from sklearn import datasets\n",
    "import matplotlib.pyplot as plt\n",
    "import pandas as pd\n",
    "%matplotlib inline"
   ]
  },
  {
   "attachments": {},
   "cell_type": "markdown",
   "metadata": {},
   "source": [
    "# Prepare Data"
   ]
  },
  {
   "cell_type": "code",
   "execution_count": 275,
   "metadata": {},
   "outputs": [],
   "source": [
    "# read data\n",
    "spectrum_train = pd.read_excel('spectrum_train.xlsx')\n",
    "spectrum_test = pd.read_excel('spectrum_valid.xlsx')\n",
    "temp_train = pd.read_excel('temp_train.xlsx')\n",
    "temp_test = pd.read_excel('temp_valid.xlsx')"
   ]
  },
  {
   "cell_type": "code",
   "execution_count": 276,
   "metadata": {},
   "outputs": [],
   "source": [
    "# save spectrum labels for later\n",
    "spectrum_labels = spectrum_test.columns"
   ]
  },
  {
   "cell_type": "code",
   "execution_count": 277,
   "metadata": {},
   "outputs": [],
   "source": [
    "# scale spectrum data\n",
    "scale = 10**12\n",
    "spectrum_train = spectrum_train.multiply(scale)\n",
    "spectrum_test = spectrum_test.multiply(scale)"
   ]
  },
  {
   "cell_type": "code",
   "execution_count": 278,
   "metadata": {},
   "outputs": [],
   "source": [
    "# determine direction and set train and test data\n",
    "# 1 - temp to spectrum\n",
    "# 0 - spectrum to temp\n",
    "direction = 0\n",
    "\n",
    "if direction:\n",
    "    X_train = temp_train\n",
    "    X_test = temp_test\n",
    "    y_train = spectrum_train\n",
    "    y_test = spectrum_test\n",
    "else:\n",
    "    X_train = spectrum_train\n",
    "    X_test = spectrum_test\n",
    "    y_train = temp_train\n",
    "    y_test = temp_test"
   ]
  },
  {
   "cell_type": "code",
   "execution_count": 279,
   "metadata": {},
   "outputs": [],
   "source": [
    "# determine the supported device\n",
    "def get_device():\n",
    "    if torch.cuda.is_available():\n",
    "        device = torch.device('cuda:0')\n",
    "    else:\n",
    "        device = torch.device('cpu') # don't have GPU \n",
    "    return device\n",
    "\n",
    "# convert a df to tensor\n",
    "def df_to_tensor(df):\n",
    "    device = get_device()\n",
    "    return torch.from_numpy(df.values.astype(np.float32)).to(device)"
   ]
  },
  {
   "cell_type": "code",
   "execution_count": 280,
   "metadata": {},
   "outputs": [],
   "source": [
    "# create input and output tensors\n",
    "X = df_to_tensor(X_train)\n",
    "y = df_to_tensor(y_train)"
   ]
  },
  {
   "cell_type": "code",
   "execution_count": 281,
   "metadata": {},
   "outputs": [],
   "source": [
    "n_samples, input_size = X.shape\n",
    "_, output_size = y.shape"
   ]
  },
  {
   "attachments": {},
   "cell_type": "markdown",
   "metadata": {},
   "source": [
    "# Design Model \n",
    "(input size, output size, forward pass)"
   ]
  },
  {
   "cell_type": "code",
   "execution_count": 282,
   "metadata": {},
   "outputs": [],
   "source": [
    "class Net(nn.Module):\n",
    "    def __init__(self, input_size, output_size):\n",
    "        super(Net, self).__init__()\n",
    "        self.lin1 = nn.Linear(input_size, 128)\n",
    "        self.lin2 = nn.Linear(128, 128)\n",
    "        self.lin3 = nn.Linear(128, 128)\n",
    "        self.lin4 = nn.Linear(128, output_size)\n",
    "\n",
    "    def forward(self, x):\n",
    "        output = F.leaky_relu(self.lin1(x))\n",
    "        output = F.leaky_relu(self.lin2(output))\n",
    "        output = F.leaky_relu(self.lin3(output))\n",
    "        output = self.lin4(output)\n",
    "        return output"
   ]
  },
  {
   "cell_type": "code",
   "execution_count": 283,
   "metadata": {},
   "outputs": [],
   "source": [
    "model = Net(input_size=input_size, output_size=output_size)"
   ]
  },
  {
   "attachments": {},
   "cell_type": "markdown",
   "metadata": {},
   "source": [
    "# Construct Loss and Optimizer"
   ]
  },
  {
   "cell_type": "code",
   "execution_count": 284,
   "metadata": {},
   "outputs": [],
   "source": [
    "learning_rate = 0.01\n",
    "criterion = nn.MSELoss()\n",
    "optimizer = torch.optim.Rprop(model.parameters(), lr=learning_rate)"
   ]
  },
  {
   "attachments": {},
   "cell_type": "markdown",
   "metadata": {},
   "source": [
    "# Training Loop"
   ]
  },
  {
   "cell_type": "code",
   "execution_count": 285,
   "metadata": {},
   "outputs": [
    {
     "name": "stdout",
     "output_type": "stream",
     "text": [
      "epoch: 200, loss = 86.7968\n",
      "epoch: 400, loss = 31.2058\n",
      "epoch: 600, loss = 26.0915\n",
      "epoch: 800, loss = 24.3845\n",
      "epoch: 1000, loss = 23.5901\n",
      "epoch: 1200, loss = 22.8646\n",
      "epoch: 1400, loss = 22.7748\n",
      "epoch: 1600, loss = 22.5944\n",
      "epoch: 1800, loss = 22.5326\n",
      "epoch: 2000, loss = 22.5086\n"
     ]
    }
   ],
   "source": [
    "num_epochs = 2000\n",
    "for epoch in range(num_epochs):\n",
    "    # forward pass and loss\n",
    "    y_predicted = model(X)\n",
    "    loss = criterion(y_predicted, y)\n",
    "\n",
    "    # backward pass\n",
    "    loss.backward()\n",
    "\n",
    "    # update\n",
    "    optimizer.step()\n",
    "\n",
    "    # empty gradients\n",
    "    optimizer.zero_grad()\n",
    "\n",
    "    if (epoch+1) % 200 == 0:\n",
    "        print(f'epoch: {epoch+1}, loss = {loss:.4f}')"
   ]
  },
  {
   "attachments": {},
   "cell_type": "markdown",
   "metadata": {},
   "source": [
    "# Plots"
   ]
  },
  {
   "cell_type": "code",
   "execution_count": 286,
   "metadata": {},
   "outputs": [],
   "source": [
    "pred = model(df_to_tensor(X_test))\n",
    "pred = pd.DataFrame(pred.detach().numpy())\n",
    "\n",
    "actual = y_test"
   ]
  },
  {
   "cell_type": "code",
   "execution_count": 287,
   "metadata": {},
   "outputs": [
    {
     "data": {
      "image/png": "[encoded data removed]",
      "text/plain": [
       "<Figure size 640x480 with 1 Axes>"
      ]
     },
     "metadata": {},
     "output_type": "display_data"
    }
   ],
   "source": [
    "import matplotlib.pyplot as plt\n",
    "import random\n",
    "\n",
    "index = random.randint(0, len(actual))\n",
    "plt.plot(y_train.columns, actual.values[index], label='actual')\n",
    "plt.plot(y_train.columns, pred.values[index],  label='predicted')\n",
    "\n",
    "if direction:\n",
    "    plt.title(\"Wavelength from Temperature\")\n",
    "    plt.xlabel(\"Wavlength\")\n",
    "    plt.ylabel(\"Intensity\")\n",
    "else:\n",
    "    plt.title(\"Temperature from Wavelength\")\n",
    "    plt.xlabel(\"Layer\")\n",
    "    plt.ylabel(\"Temperature (K)\")\n",
    "\n",
    "plt.legend()\n",
    "plt.show()"
   ]
  },
  {
   "cell_type": "code",
   "execution_count": null,
   "metadata": {},
   "outputs": [],
   "source": []
  }
 ],
 "metadata": {
  "kernelspec": {
   "display_name": "Python 3",
   "language": "python",
   "name": "python3"
  },
  "language_info": {
   "codemirror_mode": {
    "name": "ipython",
    "version": 3
   },
   "file_extension": ".py",
   "mimetype": "text/x-python",
   "name": "python",
   "nbconvert_exporter": "python",
   "pygments_lexer": "ipython3",
   "version": "3.11.3"
  },
  "orig_nbformat": 4
 },
 "nbformat": 4,
 "nbformat_minor": 2
}
