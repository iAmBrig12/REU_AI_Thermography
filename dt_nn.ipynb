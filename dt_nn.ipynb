{
 "cells": [
  {
   "cell_type": "code",
   "execution_count": 9,
   "metadata": {},
   "outputs": [],
   "source": [
    "import torch\n",
    "import torch.nn as nn\n",
    "import torch.nn.functional as F\n",
    "import numpy as np\n",
    "import matplotlib.pyplot as plt\n",
    "import pandas as pd\n",
    "from torch.utils.data import DataLoader\n",
    "from thermography_dataset_one_layer import ThermDataset\n",
    "%matplotlib inline"
   ]
  },
  {
   "cell_type": "code",
   "execution_count": 10,
   "metadata": {},
   "outputs": [],
   "source": [
    "args = {'lr':0.01,\n",
    "        'batch_size':32,\n",
    "        'epochs':350,\n",
    "        'noise':0.1,\n",
    "        'train_size':0.7\n",
    "        }"
   ]
  },
  {
   "attachments": {},
   "cell_type": "markdown",
   "metadata": {},
   "source": [
    "# Prepare Data"
   ]
  },
  {
   "cell_type": "code",
   "execution_count": 11,
   "metadata": {},
   "outputs": [],
   "source": [
    "dataset = ThermDataset(fp='combined_data.xlsx', noise_scale=args['noise'])\n",
    "train_size = int(args['train_size'] * len(dataset))\n",
    "test_size = len(dataset) - train_size\n",
    "train_dataset, test_dataset = torch.utils.data.random_split(dataset, [train_size, test_size])\n",
    "train_loader = DataLoader(train_dataset, shuffle=True, batch_size=args['batch_size'])\n",
    "test_loader = DataLoader(test_dataset, shuffle=True, batch_size=args['batch_size'])"
   ]
  },
  {
   "cell_type": "code",
   "execution_count": 12,
   "metadata": {},
   "outputs": [
    {
     "data": {
      "text/plain": [
       "\"layers = []\\nfor layer in range(1,12):\\n    train_loader, test_loader, train_dataset, test_dataset, dataset = get_dataloaders(layer)\\n    layers.append({'layer' : layer,\\n                 'train loader' : train_loader, \\n                 'test loader' : test_loader,\\n                 'train data' : train_dataset,\\n                 'test data' : test_dataset, \\n                 'data' : dataset\\n                 })\""
      ]
     },
     "execution_count": 12,
     "metadata": {},
     "output_type": "execute_result"
    }
   ],
   "source": [
    "\"\"\"layers = []\n",
    "for layer in range(1,12):\n",
    "    train_loader, test_loader, train_dataset, test_dataset, dataset = get_dataloaders(layer)\n",
    "    layers.append({'layer' : layer,\n",
    "                 'train loader' : train_loader, \n",
    "                 'test loader' : test_loader,\n",
    "                 'train data' : train_dataset,\n",
    "                 'test data' : test_dataset, \n",
    "                 'data' : dataset\n",
    "                 })\"\"\""
   ]
  },
  {
   "attachments": {},
   "cell_type": "markdown",
   "metadata": {},
   "source": [
    "# Design Models\n",
    "(input size, output size, forward pass)"
   ]
  },
  {
   "cell_type": "code",
   "execution_count": 13,
   "metadata": {},
   "outputs": [],
   "source": [
    "class Net(nn.Module):\n",
    "    def __init__(self, input_size, output_size):\n",
    "        super(Net, self).__init__()\n",
    "        self.lin1 = nn.Linear(input_size, 30)\n",
    "        self.lin2 = nn.Linear(30, 45)\n",
    "        self.lin3 = nn.Linear(45, 60)\n",
    "        self.lin_fin = nn.Linear(60, output_size)\n",
    "\n",
    "\n",
    "    def forward(self, x):\n",
    "        output = F.relu(self.lin1(x))\n",
    "        output = F.relu(self.lin2(output))\n",
    "        output = F.relu(self.lin3(output))\n",
    "        output = self.lin_fin(output)\n",
    "        return output"
   ]
  },
  {
   "cell_type": "code",
   "execution_count": 14,
   "metadata": {},
   "outputs": [],
   "source": [
    "n_samples = len(train_dataset)\n",
    "sepc_size = 66\n",
    "temp_size = 1\n",
    "\n",
    "layers = []\n",
    "for layer in range(1,12):\n",
    "    layers.append({'layer': layer,\n",
    "                   'model' : Net(input_size=sepc_size, output_size=temp_size)\n",
    "                   })"
   ]
  },
  {
   "attachments": {},
   "cell_type": "markdown",
   "metadata": {},
   "source": [
    "# Training Loops"
   ]
  },
  {
   "cell_type": "code",
   "execution_count": 15,
   "metadata": {},
   "outputs": [],
   "source": [
    "learning_rate = args['lr']\n",
    "criterion = nn.MSELoss()\n",
    "num_epochs = args['epochs']"
   ]
  },
  {
   "cell_type": "code",
   "execution_count": 16,
   "metadata": {},
   "outputs": [
    {
     "name": "stdout",
     "output_type": "stream",
     "text": [
      "Layer 1\n",
      "epoch: 35, loss = 654.13427734375\n",
      "epoch: 70, loss = 572.1259155273438\n",
      "epoch: 105, loss = 497.06298828125\n",
      "epoch: 140, loss = 490.2137451171875\n",
      "epoch: 175, loss = 232.50160217285156\n",
      "epoch: 210, loss = 1005.023681640625\n",
      "epoch: 245, loss = 955.675048828125\n",
      "epoch: 280, loss = 1171.810791015625\n",
      "epoch: 315, loss = 1002.825927734375\n",
      "epoch: 350, loss = 1903.35009765625\n",
      "best loss: 56.36175537109375 in epoch 87\n",
      "\n",
      "Layer 2\n",
      "epoch: 35, loss = 249.6133575439453\n",
      "epoch: 70, loss = 335.7270202636719\n",
      "epoch: 105, loss = 469.462158203125\n",
      "epoch: 140, loss = 293.76458740234375\n",
      "epoch: 175, loss = 613.5176391601562\n",
      "epoch: 210, loss = 341.6160888671875\n",
      "epoch: 245, loss = 436.9432678222656\n",
      "epoch: 280, loss = 522.3596801757812\n",
      "epoch: 315, loss = 128.80435180664062\n",
      "epoch: 350, loss = 274.19427490234375\n",
      "best loss: 11.223978996276855 in epoch 53\n",
      "\n",
      "Layer 3\n",
      "epoch: 35, loss = 167.58021545410156\n",
      "epoch: 70, loss = 200.39138793945312\n",
      "epoch: 105, loss = 246.64349365234375\n",
      "epoch: 140, loss = 187.62478637695312\n",
      "epoch: 175, loss = 52.4726448059082\n",
      "epoch: 210, loss = 250.7926788330078\n",
      "epoch: 245, loss = 42.046817779541016\n",
      "epoch: 280, loss = 307.7860107421875\n",
      "epoch: 315, loss = 108.11380004882812\n",
      "epoch: 350, loss = 442.1749267578125\n",
      "best loss: 3.602327585220337 in epoch 88\n",
      "\n",
      "Layer 4\n",
      "epoch: 35, loss = 381.9259338378906\n",
      "epoch: 70, loss = 407.73614501953125\n",
      "epoch: 105, loss = 36.19805145263672\n",
      "epoch: 140, loss = 389.4295654296875\n",
      "epoch: 175, loss = 39.3489875793457\n",
      "epoch: 210, loss = 181.6331787109375\n",
      "epoch: 245, loss = 155.38397216796875\n",
      "epoch: 280, loss = 72.80294799804688\n",
      "epoch: 315, loss = 136.88491821289062\n",
      "epoch: 350, loss = 155.09715270996094\n",
      "best loss: 8.124199867248535 in epoch 234\n",
      "\n",
      "Layer 5\n",
      "epoch: 35, loss = 192.2825469970703\n",
      "epoch: 70, loss = 184.84703063964844\n",
      "epoch: 105, loss = 85.50109100341797\n",
      "epoch: 140, loss = 70.02388000488281\n",
      "epoch: 175, loss = 113.35050964355469\n",
      "epoch: 210, loss = 113.10794067382812\n",
      "epoch: 245, loss = 36.58757400512695\n",
      "epoch: 280, loss = 123.1583251953125\n",
      "epoch: 315, loss = 84.42108917236328\n",
      "epoch: 350, loss = 36.96622085571289\n",
      "best loss: 4.137612342834473 in epoch 94\n",
      "\n",
      "Layer 6\n",
      "epoch: 35, loss = 27.46662712097168\n",
      "epoch: 70, loss = 155.46397399902344\n",
      "epoch: 105, loss = 275.88128662109375\n",
      "epoch: 140, loss = 116.76499938964844\n",
      "epoch: 175, loss = 163.74244689941406\n",
      "epoch: 210, loss = 142.79612731933594\n",
      "epoch: 245, loss = 42.68816375732422\n",
      "epoch: 280, loss = 34.481849670410156\n",
      "epoch: 315, loss = 65.90885925292969\n",
      "epoch: 350, loss = 98.61753845214844\n",
      "best loss: 10.535795211791992 in epoch 99\n",
      "\n",
      "Layer 7\n",
      "epoch: 35, loss = 52.816505432128906\n",
      "epoch: 70, loss = 252.51132202148438\n",
      "epoch: 105, loss = 135.0856475830078\n",
      "epoch: 140, loss = 124.903564453125\n",
      "epoch: 175, loss = 66.37737274169922\n",
      "epoch: 210, loss = 309.9478454589844\n",
      "epoch: 245, loss = 247.85061645507812\n",
      "epoch: 280, loss = 261.5108337402344\n",
      "epoch: 315, loss = 119.83224487304688\n",
      "epoch: 350, loss = 175.464111328125\n",
      "best loss: 6.178035736083984 in epoch 56\n",
      "\n",
      "Layer 8\n",
      "epoch: 35, loss = 101.7479019165039\n",
      "epoch: 70, loss = 53.31138610839844\n",
      "epoch: 105, loss = 282.1609802246094\n",
      "epoch: 140, loss = 73.67290496826172\n",
      "epoch: 175, loss = 63.48189926147461\n",
      "epoch: 210, loss = 48.30061721801758\n",
      "epoch: 245, loss = 68.73457336425781\n",
      "epoch: 280, loss = 49.800079345703125\n",
      "epoch: 315, loss = 28.571273803710938\n",
      "epoch: 350, loss = 10.885445594787598\n",
      "best loss: 2.963663339614868 in epoch 263\n",
      "\n",
      "Layer 9\n",
      "epoch: 35, loss = 42.854087829589844\n",
      "epoch: 70, loss = 60.492733001708984\n",
      "epoch: 105, loss = 27.407201766967773\n",
      "epoch: 140, loss = 29.029281616210938\n",
      "epoch: 175, loss = 75.32499694824219\n",
      "epoch: 210, loss = 98.15593719482422\n",
      "epoch: 245, loss = 41.45146560668945\n",
      "epoch: 280, loss = 36.09654235839844\n",
      "epoch: 315, loss = 15.552748680114746\n",
      "epoch: 350, loss = 29.99258804321289\n",
      "best loss: 0.7535257339477539 in epoch 340\n",
      "\n",
      "Layer 10\n",
      "epoch: 35, loss = 63.54171371459961\n",
      "epoch: 70, loss = 42.62232971191406\n",
      "epoch: 105, loss = 58.65581512451172\n",
      "epoch: 140, loss = 64.62905883789062\n",
      "epoch: 175, loss = 96.8271255493164\n",
      "epoch: 210, loss = 37.311485290527344\n",
      "epoch: 245, loss = 19.99199867248535\n",
      "epoch: 280, loss = 24.965818405151367\n",
      "epoch: 315, loss = 48.913822174072266\n",
      "epoch: 350, loss = 13.631561279296875\n",
      "best loss: 0.39930474758148193 in epoch 197\n",
      "\n",
      "Layer 11\n",
      "epoch: 35, loss = 2.728757858276367\n",
      "epoch: 70, loss = 3.2937800884246826\n",
      "epoch: 105, loss = 2.8828606605529785\n",
      "epoch: 140, loss = 3.605862855911255\n",
      "epoch: 175, loss = 0.6799843311309814\n",
      "epoch: 210, loss = 1.1707757711410522\n",
      "epoch: 245, loss = 0.37380048632621765\n",
      "epoch: 280, loss = 0.5253722667694092\n",
      "epoch: 315, loss = 1.2447969913482666\n",
      "epoch: 350, loss = 3.86635684967041\n",
      "best loss: 0.04165789484977722 in epoch 222\n",
      "\n"
     ]
    }
   ],
   "source": [
    "best_losses = []\n",
    "for layer in layers:\n",
    "    best_loss = np.inf\n",
    "    best_epoch = 0\n",
    "\n",
    "    print(f'Layer {layer[\"layer\"]}')\n",
    "    optimizer = torch.optim.Adam(layer['model'].parameters(), lr=learning_rate)\n",
    "\n",
    "    for epoch in range(num_epochs):\n",
    "        for temp_batch, spec_batch in train_loader:\n",
    "            spec_train = spec_batch\n",
    "            temp_train = temp_batch[:,layer['layer']-1].reshape(-1,1)\n",
    "\n",
    "            # forward pass and loss\n",
    "            temp_pred = layer['model'](spec_train)\n",
    "            loss = criterion(temp_pred, temp_train)\n",
    "\n",
    "            # backward pass\n",
    "            loss.backward()\n",
    "\n",
    "            # update\n",
    "            optimizer.step()\n",
    "\n",
    "            # empty gradients\n",
    "            optimizer.zero_grad()\n",
    "\n",
    "        if (epoch+1) % int(num_epochs/10) == 0:\n",
    "            print(f'epoch: {epoch+1}, loss = {loss}')\n",
    "\n",
    "        if loss < best_loss:\n",
    "            best_loss = loss\n",
    "            best_epoch = epoch+1\n",
    "\n",
    "    best_losses.append(best_loss.item())\n",
    "    print(f'best loss: {best_loss} in epoch {best_epoch}\\n')"
   ]
  },
  {
   "cell_type": "code",
   "execution_count": 17,
   "metadata": {},
   "outputs": [
    {
     "data": {
      "image/png": "[encoded data removed]",
      "text/plain": [
       "<Figure size 640x480 with 1 Axes>"
      ]
     },
     "metadata": {},
     "output_type": "display_data"
    }
   ],
   "source": [
    "plt.plot(best_losses)\n",
    "\n",
    "plt.title(\"Best Loss over Layers\")\n",
    "plt.xlabel(\"Epoch\")\n",
    "plt.ylabel(\"Loss\")\n",
    "\n",
    "plt.show()"
   ]
  },
  {
   "attachments": {},
   "cell_type": "markdown",
   "metadata": {},
   "source": [
    "# Testing"
   ]
  },
  {
   "cell_type": "code",
   "execution_count": 21,
   "metadata": {},
   "outputs": [],
   "source": [
    "def make_predictions(spec_batch):\n",
    "    predictions = []\n",
    "    \n",
    "    for layer in layers:\n",
    "        pred = layer['model'](spec_batch)\n",
    "        predictions.append(pred.detach().numpy())\n",
    "\n",
    "    return predictions"
   ]
  },
  {
   "cell_type": "code",
   "execution_count": 22,
   "metadata": {},
   "outputs": [],
   "source": [
    "import matplotlib.pyplot as plt\n",
    "\n",
    "def plot_actual_vs_pred(pred, actual):\n",
    "    actual_np = actual.detach().numpy()\n",
    "    pred_np = pred.detach().numpy()\n",
    "\n",
    "\n",
    "    plt.plot(actual_np, label='actual')\n",
    "    plt.plot(pred_np, 'r+', label='predicted')\n",
    "\n",
    "    plt.title(f\"Layer\")\n",
    "    plt.xlabel(\"Layer\")\n",
    "    plt.ylabel(\"Temperature (K)\")\n",
    "\n",
    "    plt.legend()\n",
    "    plt.show()"
   ]
  },
  {
   "cell_type": "code",
   "execution_count": 24,
   "metadata": {},
   "outputs": [
    {
     "ename": "TypeError",
     "evalue": "'int' object is not callable",
     "output_type": "error",
     "traceback": [
      "\u001b[1;31m---------------------------------------------------------------------------\u001b[0m",
      "\u001b[1;31mTypeError\u001b[0m                                 Traceback (most recent call last)",
      "Cell \u001b[1;32mIn[24], line 13\u001b[0m\n\u001b[0;32m     11\u001b[0m             \u001b[39mfor\u001b[39;00m pred \u001b[39min\u001b[39;00m predictions:\n\u001b[0;32m     12\u001b[0m                 actual \u001b[39m=\u001b[39m temp_batch[:,layer[\u001b[39m'\u001b[39m\u001b[39mlayer\u001b[39m\u001b[39m'\u001b[39m]\u001b[39m-\u001b[39m\u001b[39m1\u001b[39m]\u001b[39m.\u001b[39mreshape(\u001b[39m-\u001b[39m\u001b[39m1\u001b[39m,\u001b[39m1\u001b[39m)\n\u001b[1;32m---> 13\u001b[0m                 loss \u001b[39m=\u001b[39m criterion(pred, actual)\n\u001b[0;32m     14\u001b[0m                 \u001b[39mprint\u001b[39m(loss)\n\u001b[0;32m     17\u001b[0m \u001b[39m            \u001b[39m\u001b[39m\"\"\"\u001b[39;00m\n\u001b[0;32m     18\u001b[0m \u001b[39m            total_loss += loss.item() * len(temp_batch)\u001b[39;00m\n\u001b[0;32m     19\u001b[0m \u001b[39m            n_samples += len(temp_batch)\u001b[39;00m\n\u001b[1;32m   (...)\u001b[0m\n\u001b[0;32m     23\u001b[0m \u001b[39mprint(f\"average loss: {average_loss}\")\u001b[39;00m\n\u001b[0;32m     24\u001b[0m \u001b[39m\"\"\"\u001b[39;00m\n",
      "File \u001b[1;32m~\\AppData\\Local\\Packages\\PythonSoftwareFoundation.Python.3.11_qbz5n2kfra8p0\\LocalCache\\local-packages\\Python311\\site-packages\\torch\\nn\\modules\\module.py:1501\u001b[0m, in \u001b[0;36mModule._call_impl\u001b[1;34m(self, *args, **kwargs)\u001b[0m\n\u001b[0;32m   1496\u001b[0m \u001b[39m# If we don't have any hooks, we want to skip the rest of the logic in\u001b[39;00m\n\u001b[0;32m   1497\u001b[0m \u001b[39m# this function, and just call forward.\u001b[39;00m\n\u001b[0;32m   1498\u001b[0m \u001b[39mif\u001b[39;00m \u001b[39mnot\u001b[39;00m (\u001b[39mself\u001b[39m\u001b[39m.\u001b[39m_backward_hooks \u001b[39mor\u001b[39;00m \u001b[39mself\u001b[39m\u001b[39m.\u001b[39m_backward_pre_hooks \u001b[39mor\u001b[39;00m \u001b[39mself\u001b[39m\u001b[39m.\u001b[39m_forward_hooks \u001b[39mor\u001b[39;00m \u001b[39mself\u001b[39m\u001b[39m.\u001b[39m_forward_pre_hooks\n\u001b[0;32m   1499\u001b[0m         \u001b[39mor\u001b[39;00m _global_backward_pre_hooks \u001b[39mor\u001b[39;00m _global_backward_hooks\n\u001b[0;32m   1500\u001b[0m         \u001b[39mor\u001b[39;00m _global_forward_hooks \u001b[39mor\u001b[39;00m _global_forward_pre_hooks):\n\u001b[1;32m-> 1501\u001b[0m     \u001b[39mreturn\u001b[39;00m forward_call(\u001b[39m*\u001b[39;49margs, \u001b[39m*\u001b[39;49m\u001b[39m*\u001b[39;49mkwargs)\n\u001b[0;32m   1502\u001b[0m \u001b[39m# Do not call functions when jit is used\u001b[39;00m\n\u001b[0;32m   1503\u001b[0m full_backward_hooks, non_full_backward_hooks \u001b[39m=\u001b[39m [], []\n",
      "File \u001b[1;32m~\\AppData\\Local\\Packages\\PythonSoftwareFoundation.Python.3.11_qbz5n2kfra8p0\\LocalCache\\local-packages\\Python311\\site-packages\\torch\\nn\\modules\\loss.py:101\u001b[0m, in \u001b[0;36mL1Loss.forward\u001b[1;34m(self, input, target)\u001b[0m\n\u001b[0;32m    100\u001b[0m \u001b[39mdef\u001b[39;00m \u001b[39mforward\u001b[39m(\u001b[39mself\u001b[39m, \u001b[39minput\u001b[39m: Tensor, target: Tensor) \u001b[39m-\u001b[39m\u001b[39m>\u001b[39m Tensor:\n\u001b[1;32m--> 101\u001b[0m     \u001b[39mreturn\u001b[39;00m F\u001b[39m.\u001b[39;49ml1_loss(\u001b[39minput\u001b[39;49m, target, reduction\u001b[39m=\u001b[39;49m\u001b[39mself\u001b[39;49m\u001b[39m.\u001b[39;49mreduction)\n",
      "File \u001b[1;32m~\\AppData\\Local\\Packages\\PythonSoftwareFoundation.Python.3.11_qbz5n2kfra8p0\\LocalCache\\local-packages\\Python311\\site-packages\\torch\\nn\\functional.py:3253\u001b[0m, in \u001b[0;36ml1_loss\u001b[1;34m(input, target, size_average, reduce, reduction)\u001b[0m\n\u001b[0;32m   3249\u001b[0m \u001b[39mif\u001b[39;00m has_torch_function_variadic(\u001b[39minput\u001b[39m, target):\n\u001b[0;32m   3250\u001b[0m     \u001b[39mreturn\u001b[39;00m handle_torch_function(\n\u001b[0;32m   3251\u001b[0m         l1_loss, (\u001b[39minput\u001b[39m, target), \u001b[39minput\u001b[39m, target, size_average\u001b[39m=\u001b[39msize_average, reduce\u001b[39m=\u001b[39mreduce, reduction\u001b[39m=\u001b[39mreduction\n\u001b[0;32m   3252\u001b[0m     )\n\u001b[1;32m-> 3253\u001b[0m \u001b[39mif\u001b[39;00m \u001b[39mnot\u001b[39;00m (target\u001b[39m.\u001b[39msize() \u001b[39m==\u001b[39m \u001b[39minput\u001b[39;49m\u001b[39m.\u001b[39;49msize()):\n\u001b[0;32m   3254\u001b[0m     warnings\u001b[39m.\u001b[39mwarn(\n\u001b[0;32m   3255\u001b[0m         \u001b[39m\"\u001b[39m\u001b[39mUsing a target size (\u001b[39m\u001b[39m{}\u001b[39;00m\u001b[39m) that is different to the input size (\u001b[39m\u001b[39m{}\u001b[39;00m\u001b[39m). \u001b[39m\u001b[39m\"\u001b[39m\n\u001b[0;32m   3256\u001b[0m         \u001b[39m\"\u001b[39m\u001b[39mThis will likely lead to incorrect results due to broadcasting. \u001b[39m\u001b[39m\"\u001b[39m\n\u001b[0;32m   3257\u001b[0m         \u001b[39m\"\u001b[39m\u001b[39mPlease ensure they have the same size.\u001b[39m\u001b[39m\"\u001b[39m\u001b[39m.\u001b[39mformat(target\u001b[39m.\u001b[39msize(), \u001b[39minput\u001b[39m\u001b[39m.\u001b[39msize()),\n\u001b[0;32m   3258\u001b[0m         stacklevel\u001b[39m=\u001b[39m\u001b[39m2\u001b[39m,\n\u001b[0;32m   3259\u001b[0m     )\n\u001b[0;32m   3260\u001b[0m \u001b[39mif\u001b[39;00m size_average \u001b[39mis\u001b[39;00m \u001b[39mnot\u001b[39;00m \u001b[39mNone\u001b[39;00m \u001b[39mor\u001b[39;00m reduce \u001b[39mis\u001b[39;00m \u001b[39mnot\u001b[39;00m \u001b[39mNone\u001b[39;00m:\n",
      "\u001b[1;31mTypeError\u001b[0m: 'int' object is not callable"
     ]
    }
   ],
   "source": [
    "total_loss = 0\n",
    "n_samples = 0\n",
    "total_batches = len(test_loader)\n",
    "current_batch = 0\n",
    "\n",
    "for layer in layers:\n",
    "    with torch.no_grad():\n",
    "        for temp_batch, spec_batch in test_loader:\n",
    "            predictions = make_predictions(spec_batch)\n",
    "\n",
    "            for pred in predictions:\n",
    "                actual = temp_batch[:,layer['layer']-1].reshape(-1,1)\n",
    "                loss = criterion(pred, actual)\n",
    "                print(loss)\n",
    "                \n",
    "\n",
    "            \"\"\"\n",
    "            total_loss += loss.item() * len(temp_batch)\n",
    "            n_samples += len(temp_batch)\n",
    "            current_batch += 1\n",
    "\n",
    "average_loss = total_loss/n_samples\n",
    "print(f\"average loss: {average_loss}\")\n",
    "\"\"\""
   ]
  },
  {
   "cell_type": "code",
   "execution_count": null,
   "metadata": {},
   "outputs": [],
   "source": []
  },
  {
   "cell_type": "code",
   "execution_count": null,
   "metadata": {},
   "outputs": [],
   "source": []
  }
 ],
 "metadata": {
  "kernelspec": {
   "display_name": "Python 3",
   "language": "python",
   "name": "python3"
  },
  "language_info": {
   "codemirror_mode": {
    "name": "ipython",
    "version": 3
   },
   "file_extension": ".py",
   "mimetype": "text/x-python",
   "name": "python",
   "nbconvert_exporter": "python",
   "pygments_lexer": "ipython3",
   "version": "3.11.3"
  },
  "orig_nbformat": 4
 },
 "nbformat": 4,
 "nbformat_minor": 2
}
