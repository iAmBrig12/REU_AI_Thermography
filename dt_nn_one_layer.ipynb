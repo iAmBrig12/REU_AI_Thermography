{
 "cells": [
  {
   "cell_type": "code",
   "execution_count": 227,
   "metadata": {},
   "outputs": [],
   "source": [
    "import torch\n",
    "import torch.nn as nn\n",
    "import torch.nn.functional as F\n",
    "import numpy as np\n",
    "from sklearn import datasets\n",
    "import matplotlib.pyplot as plt\n",
    "import pandas as pd\n",
    "%matplotlib inline"
   ]
  },
  {
   "attachments": {},
   "cell_type": "markdown",
   "metadata": {},
   "source": [
    "# Helper Functions"
   ]
  },
  {
   "cell_type": "code",
   "execution_count": 228,
   "metadata": {},
   "outputs": [],
   "source": [
    "def add_noise(df, scale):\n",
    "    noise = pd.DataFrame(np.random.normal(loc=0, scale=scale, size=df.shape), columns=df.columns)\n",
    "\n",
    "    df_noisy = noise.add(df)\n",
    "\n",
    "    return df_noisy"
   ]
  },
  {
   "cell_type": "code",
   "execution_count": 229,
   "metadata": {},
   "outputs": [],
   "source": [
    "# determine the supported device\n",
    "def get_device():\n",
    "    if torch.cuda.is_available():\n",
    "        device = torch.device('cuda:0')\n",
    "    else:\n",
    "        device = torch.device('cpu') # don't have GPU \n",
    "    return device\n",
    "\n",
    "# convert a df to tensor\n",
    "def df_to_tensor(df):\n",
    "    device = get_device()\n",
    "    return torch.from_numpy(df.values.astype(np.float32)).to(device)"
   ]
  },
  {
   "attachments": {},
   "cell_type": "markdown",
   "metadata": {},
   "source": [
    "# Prepare Data"
   ]
  },
  {
   "cell_type": "code",
   "execution_count": 230,
   "metadata": {},
   "outputs": [],
   "source": [
    "# read data\n",
    "spectrum_train = pd.read_excel('spectrum_train.xlsx')\n",
    "spectrum_test = pd.read_excel('spectrum_valid.xlsx')\n",
    "temp_train = pd.read_excel('temp_train.xlsx')\n",
    "temp_test = pd.read_excel('temp_valid.xlsx')"
   ]
  },
  {
   "cell_type": "code",
   "execution_count": 231,
   "metadata": {},
   "outputs": [],
   "source": [
    "# scale spectrum data\n",
    "data_scale = 10**12\n",
    "spectrum_train = spectrum_train.multiply(data_scale)\n",
    "spectrum_test = spectrum_test.multiply(data_scale)"
   ]
  },
  {
   "cell_type": "code",
   "execution_count": 232,
   "metadata": {},
   "outputs": [],
   "source": [
    "from sklearn.model_selection import train_test_split\n",
    "# set train and test data\n",
    "\n",
    "# 1 - temp to spectrum\n",
    "# 0 - spectrum to temp\n",
    "direction = 0\n",
    "\n",
    "# use only if split == 1\n",
    "# 1 - combine given training and validation data\n",
    "# 0 - use only training data\n",
    "combine = 0\n",
    "\n",
    "# 1 - noise added to training data\n",
    "# 0 - no noise added\n",
    "noise_scale = 0.01\n",
    "noise = 0\n",
    "\n",
    "if noise:\n",
    "    if direction:\n",
    "        temp_train = add_noise(temp_train, noise_scale)\n",
    "    else:\n",
    "        spectrum_train = add_noise(spectrum_train, noise_scale)\n",
    "\n",
    "if not combine:\n",
    "    if direction:\n",
    "        X_train = temp_train\n",
    "        X_test = temp_test\n",
    "        y_train = spectrum_train\n",
    "        y_test = spectrum_test\n",
    "    else:\n",
    "        X_train = spectrum_train\n",
    "        X_test = spectrum_test\n",
    "        y_train = temp_train\n",
    "        y_test = temp_test\n",
    "else:\n",
    "    spectrum = pd.concat([spectrum_train, spectrum_test], axis=0)\n",
    "    temp = pd.concat([temp_train, temp_test], axis=0)\n",
    "    if direction:\n",
    "        X_train, X_test, y_train, y_test = train_test_split(temp, spectrum, test_size=0.3, random_state=101)\n",
    "    else:\n",
    "        X_train, X_test, y_train, y_test = train_test_split(spectrum, temp, test_size=0.3, random_state=101)"
   ]
  },
  {
   "cell_type": "code",
   "execution_count": 233,
   "metadata": {},
   "outputs": [],
   "source": [
    "y_train_layers = []\n",
    "y_test_layers = []\n",
    "\n",
    "for index in range(y_train.shape[1]):\n",
    "    col = pd.DataFrame(y_train.iloc[:, index])\n",
    "    y_train_layers.append(col)\n",
    "\n",
    "    col = pd.DataFrame(y_test.iloc[:, index])\n",
    "    y_test_layers.append(col)"
   ]
  },
  {
   "cell_type": "code",
   "execution_count": 234,
   "metadata": {},
   "outputs": [],
   "source": [
    "# create input and output tensors\n",
    "X = df_to_tensor(X_train)\n",
    "y = df_to_tensor(y_train_layers[0])"
   ]
  },
  {
   "cell_type": "code",
   "execution_count": 235,
   "metadata": {},
   "outputs": [],
   "source": [
    "n_samples, input_size = X.shape\n",
    "output_size = 1"
   ]
  },
  {
   "attachments": {},
   "cell_type": "markdown",
   "metadata": {},
   "source": [
    "# Design Model \n",
    "(input size, output size, forward pass)"
   ]
  },
  {
   "cell_type": "code",
   "execution_count": 236,
   "metadata": {},
   "outputs": [],
   "source": [
    "class Net(nn.Module):\n",
    "    def __init__(self, input_size, output_size):\n",
    "        super(Net, self).__init__()\n",
    "        self.lin1 = nn.Linear(input_size, 30)\n",
    "        self.lin2 = nn.Linear(30, 15)\n",
    "        self.lin3 = nn.Linear(15, 5)\n",
    "        self.lin_fin = nn.Linear(5, output_size)\n",
    "\n",
    "    def forward(self, x):\n",
    "        output = F.leaky_relu(self.lin1(x))\n",
    "        output = F.leaky_relu(self.lin2(output))\n",
    "        output = F.leaky_relu(self.lin3(output))\n",
    "        output = self.lin_fin(output)\n",
    "        return output"
   ]
  },
  {
   "cell_type": "code",
   "execution_count": 237,
   "metadata": {},
   "outputs": [],
   "source": [
    "model = Net(input_size=input_size, output_size=output_size)"
   ]
  },
  {
   "attachments": {},
   "cell_type": "markdown",
   "metadata": {},
   "source": [
    "# Construct Loss and Optimizer"
   ]
  },
  {
   "cell_type": "code",
   "execution_count": 238,
   "metadata": {},
   "outputs": [],
   "source": [
    "learning_rate = 0.01\n",
    "criterion = nn.MSELoss()\n",
    "optimizer = torch.optim.Adam(model.parameters(), lr=learning_rate)"
   ]
  },
  {
   "attachments": {},
   "cell_type": "markdown",
   "metadata": {},
   "source": [
    "# Training Loop"
   ]
  },
  {
   "cell_type": "code",
   "execution_count": 239,
   "metadata": {},
   "outputs": [
    {
     "name": "stdout",
     "output_type": "stream",
     "text": [
      "epoch: 100, loss = 19552.4668\n",
      "epoch: 200, loss = 13732.0977\n",
      "epoch: 300, loss = 783.1425\n",
      "epoch: 400, loss = 765.9246\n",
      "epoch: 500, loss = 763.7468\n",
      "epoch: 600, loss = 762.3862\n",
      "epoch: 700, loss = 758.5848\n",
      "epoch: 800, loss = 758.6714\n",
      "epoch: 900, loss = 756.8422\n",
      "epoch: 1000, loss = 755.0433\n"
     ]
    }
   ],
   "source": [
    "loss_list = []\n",
    "num_epochs = 1000\n",
    "\n",
    "for epoch in range(num_epochs):\n",
    "    # forward pass and loss\n",
    "    y_predicted = model(X)\n",
    "    loss = criterion(y_predicted, y)\n",
    "    loss_list.append(loss.item())\n",
    "\n",
    "    # backward pass\n",
    "    loss.backward()\n",
    "\n",
    "    # update\n",
    "    optimizer.step()\n",
    "\n",
    "    # empty gradients\n",
    "    optimizer.zero_grad()\n",
    "\n",
    "    if (epoch+1) % int(num_epochs/10) == 0:\n",
    "        print(f'epoch: {epoch+1}, loss = {loss:.4f}')"
   ]
  },
  {
   "cell_type": "code",
   "execution_count": 240,
   "metadata": {},
   "outputs": [
    {
     "data": {
      "text/plain": [
       "[<matplotlib.lines.Line2D at 0x1d63182f210>]"
      ]
     },
     "execution_count": 240,
     "metadata": {},
     "output_type": "execute_result"
    },
    {
     "data": {
      "image/png": "[encoded data removed]",
      "text/plain": [
       "<Figure size 640x480 with 1 Axes>"
      ]
     },
     "metadata": {},
     "output_type": "display_data"
    }
   ],
   "source": [
    "plt.plot(loss_list[-500:num_epochs])"
   ]
  }
 ],
 "metadata": {
  "kernelspec": {
   "display_name": "Python 3",
   "language": "python",
   "name": "python3"
  },
  "language_info": {
   "codemirror_mode": {
    "name": "ipython",
    "version": 3
   },
   "file_extension": ".py",
   "mimetype": "text/x-python",
   "name": "python",
   "nbconvert_exporter": "python",
   "pygments_lexer": "ipython3",
   "version": "3.11.3"
  },
  "orig_nbformat": 4
 },
 "nbformat": 4,
 "nbformat_minor": 2
}
