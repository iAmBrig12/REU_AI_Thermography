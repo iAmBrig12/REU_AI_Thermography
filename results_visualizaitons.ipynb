{
 "cells": [
  {
   "cell_type": "code",
   "execution_count": 1,
   "metadata": {},
   "outputs": [],
   "source": [
    "import torch\n",
    "import torch.nn as nn\n",
    "from thermography_model import Net\n",
    "from sklearn.preprocessing import RobustScaler\n",
    "import pandas as pd\n",
    "import matplotlib.pyplot as plt\n",
    "import sys\n",
    "import os\n",
    "import numpy as np\n",
    "import json\n",
    "import datetime"
   ]
  },
  {
   "cell_type": "code",
   "execution_count": 2,
   "metadata": {},
   "outputs": [],
   "source": [
    "# creates a divider string for output\n",
    "def divider(text=\"\", char=\"=\", divider_length=80):\n",
    "    if not (text==\"\"):\n",
    "        text = ' ' + text + ' '\n",
    "    return text.center(divider_length, char)"
   ]
  },
  {
   "cell_type": "code",
   "execution_count": 3,
   "metadata": {},
   "outputs": [],
   "source": [
    "# prediction visualization function\n",
    "def plot_comparison(pred, actual, title, save_plot=False, save_path=None):\n",
    "    plt.figure(figsize=(12, 6))\n",
    "    plt.title(title, fontsize=20)\n",
    "    plt.xlabel(\"Layer\", fontsize=18)\n",
    "    plt.ylabel(\"Temperature (K)\", fontsize=18)\n",
    "    plt.plot([i+1 for i in range(len(pred.columns))], actual, color='darkgray', marker='s', label='actual')\n",
    "    plt.plot([i+1 for i in range(len(pred.columns))], pred, color='mediumorchid', marker='o', linestyle=' ', label='predicted')\n",
    "    plt.xticks(range(1,len(pred.columns)+1), fontsize=16)\n",
    "    plt.yticks(fontsize=16)     \n",
    "    plt.legend()\n",
    "    \n",
    "    if save_plot:\n",
    "        plt.savefig(save_path)\n",
    "    \n",
    "    plt.close()"
   ]
  },
  {
   "cell_type": "code",
   "execution_count": null,
   "metadata": {},
   "outputs": [],
   "source": [
    "# Loss per layer visualization\n",
    "def plot_layers(test_losses, num_layers, title, save_plot=False, save_path=None):\n",
    "    plt.figure(figsize=(9,6))\n",
    "    plt.title(title)\n",
    "    plt.barh(range(1,num_layers+1), test_losses, color='mediumorchid')\n",
    "    plt.yticks(range(1,num_layers+1))\n",
    "    plt.xlabel(\"Temperature Loss (K)\")\n",
    "    plt.ylabel(\"Layer\")\n",
    "    plt.xlim(0,max(test_losses)+1)\n",
    "\n",
    "    for i, loss in enumerate(test_losses):\n",
    "        plt.text(loss, i + 1, f'{loss:.3f}', ha='left', va='center')\n",
    "\n",
    "    if save_plot:\n",
    "        plt.savefig(save_path)\n",
    "    plt.close()"
   ]
  },
  {
   "cell_type": "code",
   "execution_count": null,
   "metadata": {},
   "outputs": [],
   "source": [
    "# compare losses across files\n",
    "# def compare_losses(filenames, num_layers, save_plot=False, save_path=None):\n",
    "#     ind = np.arange(num_layers)\n",
    "#     width = 0.15\n",
    "\n",
    "#     plt.figure(figsize=(12,6))\n",
    "\n",
    "#     bars = []\n",
    "#     for num, lst in enumerate(all_test_losses):\n",
    "#         bars.append(plt.bar(ind+width*num, lst, width, label=test_data[num][0]))\n",
    "\n",
    "#     plt.xticks(ind+width, range(1, num_layers+1))\n",
    "#     plt.title('Loss per Layer for all Files')\n",
    "#     plt.ylabel('Test MAE Loss')\n",
    "#     plt.xlabel('Layer')\n",
    "#     plt.legend()\n",
    "\n",
    "#     plt.savefig(f'{results_fp}/all_files_loss.png')"
   ]
  },
  {
   "cell_type": "code",
   "execution_count": null,
   "metadata": {},
   "outputs": [],
   "source": [
    "# def compare_pred(title, ):\n",
    "#     plt.figure(figsize=(12, 6))\n",
    "#     plt.title(title, fontsize=20)\n",
    "#     plt.xlabel(\"Layer\", fontsize=18)\n",
    "#     plt.ylabel(\"Temperature (K)\", fontsize=18)\n",
    "#     plt.plot([i+1 for i in range(output_size)], sample_actual, label='actual')\n",
    "\n",
    "#     for idx in range(len(test_data)-1):\n",
    "#         plt.plot([i+1 for i in range(output_size)], sample_predictions[idx], label=test_data[idx][0])\n",
    "\n",
    "#     plt.xticks(range(1, output_size+1), fontsize=16)\n",
    "#     plt.yticks(fontsize=16)     \n",
    "#     plt.legend()\n",
    "#     plt.savefig(f'{results_fp}/All Temperature Predictions for a Sample.png')\n",
    "#     plt.close()"
   ]
  },
  {
   "cell_type": "code",
   "execution_count": null,
   "metadata": {},
   "outputs": [],
   "source": []
  }
 ],
 "metadata": {
  "kernelspec": {
   "display_name": "Python 3",
   "language": "python",
   "name": "python3"
  },
  "language_info": {
   "codemirror_mode": {
    "name": "ipython",
    "version": 3
   },
   "file_extension": ".py",
   "mimetype": "text/x-python",
   "name": "python",
   "nbconvert_exporter": "python",
   "pygments_lexer": "ipython3",
   "version": "3.11.7"
  }
 },
 "nbformat": 4,
 "nbformat_minor": 2
}
