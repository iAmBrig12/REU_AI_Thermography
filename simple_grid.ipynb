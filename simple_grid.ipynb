{
 "cells": [
  {
   "cell_type": "code",
   "execution_count": 1,
   "metadata": {},
   "outputs": [],
   "source": [
    "import torch\n",
    "import torch.nn as nn\n",
    "import torch.nn.functional as F\n",
    "import numpy as np\n",
    "import matplotlib.pyplot as plt\n",
    "import pandas as pd\n",
    "from sklearn.model_selection import train_test_split\n",
    "from sklearn.preprocessing import RobustScaler\n",
    "import random\n",
    "from sklearn.model_selection import GridSearchCV\n",
    "from skorch import NeuralNetRegressor\n",
    "%matplotlib inline"
   ]
  },
  {
   "cell_type": "code",
   "execution_count": 2,
   "metadata": {},
   "outputs": [],
   "source": [
    "args = {\n",
    "    'noise':0.01,\n",
    "    'train size':0.7,\n",
    "    'spec scale':10**12,\n",
    "    'scaler':RobustScaler(),\n",
    "    }\n",
    "\n",
    "param_grid = {\n",
    "    'module__num_hidden' : [2, 4, 6],\n",
    "    'module__dropout_prob': [0.2, 0.5],\n",
    "    'optimizer' : [torch.optim.Rprop],\n",
    "    'optimizer__lr' : [0.01],\n",
    "    'max_epochs' : [500, 1000, 5000]\n",
    "}"
   ]
  },
  {
   "cell_type": "code",
   "execution_count": 3,
   "metadata": {},
   "outputs": [],
   "source": [
    "df = pd.read_excel('data_3nm.xlsx')"
   ]
  },
  {
   "cell_type": "code",
   "execution_count": 4,
   "metadata": {},
   "outputs": [],
   "source": [
    "# spectrum data\n",
    "X = df.iloc[:,11:]\n",
    "\n",
    "# layer data\n",
    "y = df.iloc[:,:11]"
   ]
  },
  {
   "cell_type": "code",
   "execution_count": 5,
   "metadata": {},
   "outputs": [],
   "source": [
    "# scale by 10^12\n",
    "X = X.apply(lambda x: x*args['spec scale'])"
   ]
  },
  {
   "cell_type": "code",
   "execution_count": 6,
   "metadata": {},
   "outputs": [],
   "source": [
    "def add_noise(data, percentage):\n",
    "    std_dev = percentage\n",
    "    noise = np.random.normal(0, std_dev, data.shape)\n",
    "    noisy_data = data + noise\n",
    "    return noisy_data"
   ]
  },
  {
   "cell_type": "code",
   "execution_count": 7,
   "metadata": {},
   "outputs": [],
   "source": [
    "# add noise\n",
    "X_noisy = add_noise(X, args['noise'])"
   ]
  },
  {
   "cell_type": "code",
   "execution_count": 8,
   "metadata": {},
   "outputs": [
    {
     "data": {
      "image/png": "[encoded data removed]",
      "text/plain": [
       "<Figure size 640x480 with 1 Axes>"
      ]
     },
     "metadata": {},
     "output_type": "display_data"
    }
   ],
   "source": [
    "entry = random.randint(0, len(X))\n",
    "plt.title(f'Spectrum Input Data (sample {entry})')\n",
    "plt.plot(X.iloc[entry], label='original')\n",
    "plt.plot(X_noisy.iloc[entry], label='noisy')\n",
    "plt.legend()\n",
    "plt.show()"
   ]
  },
  {
   "cell_type": "code",
   "execution_count": 9,
   "metadata": {},
   "outputs": [],
   "source": [
    "scaler = args['scaler']\n",
    "scaler.fit(X_noisy)\n",
    "X_noisy_scaled = scaler.transform(X_noisy)\n",
    "\n",
    "X_noisy_scaled_df = pd.DataFrame(X_noisy_scaled, columns=X.columns)"
   ]
  },
  {
   "cell_type": "code",
   "execution_count": 10,
   "metadata": {},
   "outputs": [],
   "source": [
    "X_tensor = torch.tensor(X_noisy_scaled_df.values, dtype=torch.float32)\n",
    "y_tensor = torch.tensor(y.values, dtype=torch.float32)"
   ]
  },
  {
   "cell_type": "code",
   "execution_count": 11,
   "metadata": {},
   "outputs": [],
   "source": [
    "class Net(nn.Module):\n",
    "    def __init__(self, input_size, output_size, num_hidden, dropout_prob):\n",
    "        super(Net, self).__init__()\n",
    "        \n",
    "        hidden_sizes = [input_size]\n",
    "        step = input_size / (num_hidden+1)\n",
    "\n",
    "        for i in range(num_hidden):\n",
    "            hidden_size = int(input_size - (i+1) * step)\n",
    "            if hidden_size < 1: hidden_size = 1\n",
    "            hidden_sizes.append(hidden_size)\n",
    "        \n",
    "        self.hidden_layers = nn.ModuleList()\n",
    "\n",
    "        for i in range(num_hidden):\n",
    "            self.hidden_layers.append(nn.Linear(hidden_sizes[i], hidden_sizes[i+1]))\n",
    "\n",
    "        self.hidden_sizes = hidden_sizes\n",
    "        self.dropout = nn.Dropout(dropout_prob)\n",
    "        self.lin_fin = nn.Linear(hidden_sizes[-1], output_size)\n",
    "\n",
    "    def forward(self, x):\n",
    "        for hidden_layer in self.hidden_layers:\n",
    "            x = F.leaky_relu(hidden_layer(x))\n",
    "        x = self.dropout(x)\n",
    "        x = self.lin_fin(x)\n",
    "        return x"
   ]
  },
  {
   "cell_type": "code",
   "execution_count": 12,
   "metadata": {},
   "outputs": [],
   "source": [
    "input_size = len(X.columns)\n",
    "output_size = len(y.columns)"
   ]
  },
  {
   "cell_type": "code",
   "execution_count": 13,
   "metadata": {},
   "outputs": [],
   "source": [
    "net = NeuralNetRegressor(\n",
    "    module=Net,\n",
    "    module__input_size=input_size,\n",
    "    module__output_size=output_size,\n",
    "    module__dropout_prob=0.2,\n",
    "    device='cuda' if torch.cuda.is_available() else 'cpu'\n",
    ")\n",
    "\n",
    "gs = GridSearchCV(net, param_grid, scoring='neg_mean_absolute_error', cv=5, n_jobs=-1)\n",
    "\n",
    "gs.fit(X_tensor, y_tensor)\n",
    "\n",
    "best_model = gs.best_estimator_\n",
    "best_params = gs.best_params_\n",
    "\n",
    "print('Best loss: {}'.format(gs.best_score_))\n",
    "print('Params: {}'.format(best_params))"
   ]
  }
 ],
 "metadata": {
  "kernelspec": {
   "display_name": "Python 3",
   "language": "python",
   "name": "python3"
  },
  "language_info": {
   "codemirror_mode": {
    "name": "ipython",
    "version": 3
   },
   "file_extension": ".py",
   "mimetype": "text/x-python",
   "name": "python",
   "nbconvert_exporter": "python",
   "pygments_lexer": "ipython3",
   "version": "3.11.3"
  },
  "orig_nbformat": 4
 },
 "nbformat": 4,
 "nbformat_minor": 2
}
