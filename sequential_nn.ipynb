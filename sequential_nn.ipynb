{
 "cells": [
  {
   "cell_type": "code",
   "execution_count": 1,
   "metadata": {},
   "outputs": [],
   "source": [
    "import torch\n",
    "import torch.nn as nn\n",
    "import torch.nn.functional as F\n",
    "import numpy as np\n",
    "import matplotlib.pyplot as plt\n",
    "import pandas as pd\n",
    "from torch.utils.data import DataLoader\n",
    "from thermography_dataset_one_layer import ThermDataset\n",
    "from sklearn.model_selection import train_test_split\n",
    "%matplotlib inline"
   ]
  },
  {
   "cell_type": "code",
   "execution_count": 2,
   "metadata": {},
   "outputs": [],
   "source": [
    "args = {'lr':0.01,\n",
    "        'epochs':1000,\n",
    "        'noise':0.01,\n",
    "        'train size':0.7,\n",
    "        'spec scale':10**12,\n",
    "        'dropout':0.90\n",
    "        }"
   ]
  },
  {
   "cell_type": "code",
   "execution_count": 3,
   "metadata": {},
   "outputs": [],
   "source": [
    "def df_to_tensor(df):\n",
    "    return torch.tensor(df.values, dtype=torch.float32)"
   ]
  },
  {
   "attachments": {},
   "cell_type": "markdown",
   "metadata": {},
   "source": [
    "# Prepare Data"
   ]
  },
  {
   "cell_type": "code",
   "execution_count": 4,
   "metadata": {},
   "outputs": [],
   "source": [
    "df = pd.read_excel('wide_range.xlsx')"
   ]
  },
  {
   "cell_type": "code",
   "execution_count": 5,
   "metadata": {},
   "outputs": [],
   "source": [
    "X = df.iloc[:,11:]\n",
    "y = df.iloc[:,:11]"
   ]
  },
  {
   "cell_type": "code",
   "execution_count": 6,
   "metadata": {},
   "outputs": [],
   "source": [
    "# scale by 10^12\n",
    "X = X.apply(lambda x: x*args['spec scale'])\n",
    "\n",
    "# add noise\n",
    "noise = np.random.normal(loc=0, scale=args['noise'], size=X.shape)\n",
    "X = X + noise"
   ]
  },
  {
   "cell_type": "code",
   "execution_count": 7,
   "metadata": {},
   "outputs": [],
   "source": [
    "X_train, X_test, y_train, y_test = train_test_split(X, y, train_size=args['train size'], random_state=101)"
   ]
  },
  {
   "cell_type": "code",
   "execution_count": 8,
   "metadata": {},
   "outputs": [],
   "source": [
    "X_train.index = range(len(X_train))\n",
    "X_test.index = range(len(X_test))"
   ]
  },
  {
   "attachments": {},
   "cell_type": "markdown",
   "metadata": {},
   "source": [
    "# Design Models"
   ]
  },
  {
   "cell_type": "code",
   "execution_count": 9,
   "metadata": {},
   "outputs": [],
   "source": [
    "class Net(nn.Module):\n",
    "    def __init__(self, input_size, output_size):\n",
    "        super(Net, self).__init__()\n",
    "        self.lin1 = nn.Linear(input_size, 45)\n",
    "        self.lin2 = nn.Linear(45, 30)\n",
    "        self.lin3 = nn.Linear(30, 15)\n",
    "        self.lin4 = nn.Linear(15, 7)\n",
    "        self.lin_fin = nn.Linear(7, output_size)\n",
    "        self.dropout = nn.Dropout(args['dropout'])\n",
    "\n",
    "\n",
    "    def forward(self, x):\n",
    "        x = self.dropout(x)\n",
    "        x = F.leaky_relu(self.lin1(x))\n",
    "        x = F.leaky_relu(self.lin2(x))\n",
    "        x = F.leaky_relu(self.lin3(x))\n",
    "        x = F.leaky_relu(self.lin4(x))\n",
    "        x = self.lin_fin(x)\n",
    "        return x"
   ]
  },
  {
   "cell_type": "code",
   "execution_count": 10,
   "metadata": {},
   "outputs": [],
   "source": [
    "input_size = len(X_train.columns)\n",
    "output_size = 1\n",
    "\n",
    "# store models in descending order (11, 10, 9...)\n",
    "models = []\n",
    "for i in range(11):\n",
    "    models.append(Net(input_size+i, output_size))"
   ]
  },
  {
   "attachments": {},
   "cell_type": "markdown",
   "metadata": {},
   "source": [
    "# Training Loops"
   ]
  },
  {
   "cell_type": "code",
   "execution_count": 11,
   "metadata": {},
   "outputs": [],
   "source": [
    "learning_rate = args['lr']\n",
    "criterion = nn.L1Loss()"
   ]
  },
  {
   "cell_type": "code",
   "execution_count": 12,
   "metadata": {},
   "outputs": [
    {
     "name": "stdout",
     "output_type": "stream",
     "text": [
      "Layer 11\n",
      "epoch: 100, loss = 102.69439697265625\n",
      "epoch: 200, loss = 24.283538818359375\n",
      "epoch: 300, loss = 11.827702522277832\n",
      "epoch: 400, loss = 10.550887107849121\n",
      "epoch: 500, loss = 9.399674415588379\n",
      "epoch: 600, loss = 9.253674507141113\n",
      "epoch: 700, loss = 7.406598091125488\n",
      "epoch: 800, loss = 7.162329196929932\n",
      "epoch: 900, loss = 7.357752799987793\n",
      "epoch: 1000, loss = 7.538072109222412\n",
      "best loss: 6.57021951675415 in epoch 988\n",
      "\n",
      "Layer 10\n",
      "epoch: 100, loss = 101.47615814208984\n",
      "epoch: 200, loss = 27.97281265258789\n",
      "epoch: 300, loss = 13.552262306213379\n",
      "epoch: 400, loss = 13.117471694946289\n",
      "epoch: 500, loss = 14.659865379333496\n",
      "epoch: 600, loss = 13.237807273864746\n",
      "epoch: 700, loss = 13.238456726074219\n",
      "epoch: 800, loss = 13.222944259643555\n",
      "epoch: 900, loss = 13.195677757263184\n",
      "epoch: 1000, loss = 13.411809921264648\n",
      "best loss: 12.085330963134766 in epoch 924\n",
      "\n",
      "Layer 9\n",
      "epoch: 100, loss = 109.00112915039062\n",
      "epoch: 200, loss = 33.494144439697266\n",
      "epoch: 300, loss = 12.174242973327637\n",
      "epoch: 400, loss = 11.914651870727539\n",
      "epoch: 500, loss = 11.06859302520752\n",
      "epoch: 600, loss = 11.710776329040527\n",
      "epoch: 700, loss = 11.273698806762695\n",
      "epoch: 800, loss = 12.049921035766602\n",
      "epoch: 900, loss = 13.70797061920166\n",
      "epoch: 1000, loss = 11.590742111206055\n",
      "best loss: 10.251484870910645 in epoch 842\n",
      "\n",
      "Layer 8\n",
      "epoch: 100, loss = 105.30084228515625\n",
      "epoch: 200, loss = 66.29297637939453\n",
      "epoch: 300, loss = 16.649723052978516\n",
      "epoch: 400, loss = 12.839927673339844\n",
      "epoch: 500, loss = 13.916234970092773\n",
      "epoch: 600, loss = 14.187483787536621\n",
      "epoch: 700, loss = 12.355975151062012\n",
      "epoch: 800, loss = 13.62154769897461\n",
      "epoch: 900, loss = 12.383312225341797\n",
      "epoch: 1000, loss = 12.513138771057129\n",
      "best loss: 11.752622604370117 in epoch 907\n",
      "\n",
      "Layer 7\n",
      "epoch: 100, loss = 98.71964263916016\n",
      "epoch: 200, loss = 60.97452163696289\n",
      "epoch: 300, loss = 16.049301147460938\n",
      "epoch: 400, loss = 15.548367500305176\n",
      "epoch: 500, loss = 15.448294639587402\n",
      "epoch: 600, loss = 12.988446235656738\n",
      "epoch: 700, loss = 13.083667755126953\n",
      "epoch: 800, loss = 13.809958457946777\n",
      "epoch: 900, loss = 12.945573806762695\n",
      "epoch: 1000, loss = 12.542659759521484\n",
      "best loss: 12.011241912841797 in epoch 836\n",
      "\n",
      "Layer 6\n",
      "epoch: 100, loss = 100.38075256347656\n",
      "epoch: 200, loss = 76.90690612792969\n",
      "epoch: 300, loss = 34.86025619506836\n",
      "epoch: 400, loss = 21.04959487915039\n",
      "epoch: 500, loss = 13.182459831237793\n",
      "epoch: 600, loss = 15.290328025817871\n",
      "epoch: 700, loss = 12.550419807434082\n",
      "epoch: 800, loss = 14.145903587341309\n",
      "epoch: 900, loss = 12.415665626525879\n",
      "epoch: 1000, loss = 13.39533519744873\n",
      "best loss: 12.00204086303711 in epoch 967\n",
      "\n",
      "Layer 5\n",
      "epoch: 100, loss = 89.9287338256836\n",
      "epoch: 200, loss = 65.915283203125\n",
      "epoch: 300, loss = 27.74493980407715\n",
      "epoch: 400, loss = 13.733280181884766\n",
      "epoch: 500, loss = 13.12855339050293\n",
      "epoch: 600, loss = 13.483927726745605\n",
      "epoch: 700, loss = 13.758088111877441\n",
      "epoch: 800, loss = 13.400433540344238\n",
      "epoch: 900, loss = 12.511611938476562\n",
      "epoch: 1000, loss = 12.969560623168945\n",
      "best loss: 12.175524711608887 in epoch 876\n",
      "\n",
      "Layer 4\n",
      "epoch: 100, loss = 86.61042785644531\n",
      "epoch: 200, loss = 70.1874008178711\n",
      "epoch: 300, loss = 47.75679397583008\n",
      "epoch: 400, loss = 17.36277961730957\n",
      "epoch: 500, loss = 13.20840072631836\n",
      "epoch: 600, loss = 14.450803756713867\n",
      "epoch: 700, loss = 13.910364151000977\n",
      "epoch: 800, loss = 13.266881942749023\n",
      "epoch: 900, loss = 13.035513877868652\n",
      "epoch: 1000, loss = 13.111257553100586\n",
      "best loss: 11.992937088012695 in epoch 988\n",
      "\n",
      "Layer 3\n",
      "epoch: 100, loss = 75.72637939453125\n",
      "epoch: 200, loss = 47.569557189941406\n",
      "epoch: 300, loss = 19.664785385131836\n",
      "epoch: 400, loss = 13.176835060119629\n",
      "epoch: 500, loss = 13.115350723266602\n",
      "epoch: 600, loss = 13.103764533996582\n",
      "epoch: 700, loss = 12.96885871887207\n",
      "epoch: 800, loss = 12.889191627502441\n",
      "epoch: 900, loss = 13.77888298034668\n",
      "epoch: 1000, loss = 12.698566436767578\n",
      "best loss: 11.92935562133789 in epoch 959\n",
      "\n",
      "Layer 2\n",
      "epoch: 100, loss = 69.58322143554688\n",
      "epoch: 200, loss = 58.952213287353516\n",
      "epoch: 300, loss = 41.02827072143555\n",
      "epoch: 400, loss = 16.44541358947754\n",
      "epoch: 500, loss = 17.12728500366211\n",
      "epoch: 600, loss = 15.485587120056152\n",
      "epoch: 700, loss = 15.699006080627441\n",
      "epoch: 800, loss = 15.605968475341797\n",
      "epoch: 900, loss = 17.10557746887207\n",
      "epoch: 1000, loss = 15.862628936767578\n",
      "best loss: 14.829319953918457 in epoch 991\n",
      "\n",
      "Layer 1\n",
      "epoch: 100, loss = 73.10747528076172\n",
      "epoch: 200, loss = 61.39502716064453\n",
      "epoch: 300, loss = 47.15152359008789\n",
      "epoch: 400, loss = 26.862689971923828\n",
      "epoch: 500, loss = 26.122699737548828\n",
      "epoch: 600, loss = 26.108966827392578\n",
      "epoch: 700, loss = 25.34345245361328\n",
      "epoch: 800, loss = 25.776554107666016\n",
      "epoch: 900, loss = 24.82859992980957\n",
      "epoch: 1000, loss = 25.74079704284668\n",
      "best loss: 24.026573181152344 in epoch 937\n",
      "\n"
     ]
    }
   ],
   "source": [
    "best_losses = []\n",
    "\n",
    "for i in range(11):\n",
    "    best_loss = np.inf\n",
    "    best_epoch = 0\n",
    "\n",
    "    print(f'Layer {11-i}')\n",
    "\n",
    "    optimizer = torch.optim.Adam(models[i].parameters(), lr=learning_rate)\n",
    "    model = models[i]\n",
    "\n",
    "    inputs = df_to_tensor(X_train)\n",
    "    outputs = df_to_tensor(y_train.iloc[:,10-i]).reshape(-1,1)\n",
    "\n",
    "    for epoch in range(args['epochs']):\n",
    "        # empty gradients\n",
    "        optimizer.zero_grad()\n",
    "\n",
    "        # forward pass\n",
    "        pred = model(inputs)\n",
    "\n",
    "        # loss\n",
    "        loss = criterion(pred, outputs)\n",
    "\n",
    "        # backward pass\n",
    "        loss.backward()\n",
    "        \n",
    "        # update\n",
    "        optimizer.step()\n",
    "\n",
    "        if (epoch+1) % int(args['epochs']/10) == 0:\n",
    "            print(f'epoch: {epoch+1}, loss = {loss}')\n",
    "\n",
    "        if loss < best_loss:\n",
    "            best_loss = loss\n",
    "            best_epoch = epoch + 1\n",
    "\n",
    "    best_losses.append(best_loss.item())\n",
    "    \n",
    "    X_train[f'layer {11-i} predictions'] = pd.DataFrame(pred.detach().numpy())\n",
    "   \n",
    "    print(f'best loss: {best_loss} in epoch {best_epoch}\\n')\n"
   ]
  },
  {
   "cell_type": "code",
   "execution_count": 13,
   "metadata": {},
   "outputs": [
    {
     "data": {
      "image/png": "[encoded data removed]",
      "text/plain": [
       "<Figure size 640x480 with 1 Axes>"
      ]
     },
     "metadata": {},
     "output_type": "display_data"
    }
   ],
   "source": [
    "best_losses.reverse()\n",
    "plt.plot(best_losses)\n",
    "\n",
    "plt.title(\"Best Loss over Layers\")\n",
    "plt.xlabel(\"Layer\")\n",
    "plt.ylabel(\"Loss\")\n",
    "plt.show()"
   ]
  },
  {
   "attachments": {},
   "cell_type": "markdown",
   "metadata": {},
   "source": [
    "# Testing"
   ]
  },
  {
   "cell_type": "code",
   "execution_count": 14,
   "metadata": {},
   "outputs": [],
   "source": [
    "def get_predictions(X_test):\n",
    "    df = X_test.copy()\n",
    "\n",
    "    predictions = []\n",
    "\n",
    "    for i in range(11):\n",
    "        inputs = df_to_tensor(df)\n",
    "        pred = models[i](inputs)\n",
    "\n",
    "        predictions.append(pred)\n",
    "        df[f'layer {11-i} predictions'] = pd.DataFrame(pred.detach().numpy())\n",
    "\n",
    "    return df.loc[:, 'layer 11 predictions':'layer 1 predictions'], predictions"
   ]
  },
  {
   "cell_type": "code",
   "execution_count": 15,
   "metadata": {},
   "outputs": [],
   "source": [
    "def test_models(X_test):\n",
    "    _, predictions = get_predictions(X_test)\n",
    "\n",
    "    layer = 11\n",
    "    for pred in predictions:\n",
    "        actual = df_to_tensor(y_test.iloc[:,layer-1]).reshape(-1,1)\n",
    "        loss = criterion(pred, actual)\n",
    "        print(f'layer {layer} loss: {loss:.3f}')\n",
    "        layer -= 1\n"
   ]
  },
  {
   "cell_type": "code",
   "execution_count": 16,
   "metadata": {},
   "outputs": [
    {
     "name": "stdout",
     "output_type": "stream",
     "text": [
      "layer 11 loss: 8.723\n",
      "layer 10 loss: 13.835\n",
      "layer 9 loss: 13.780\n",
      "layer 8 loss: 14.033\n",
      "layer 7 loss: 13.537\n",
      "layer 6 loss: 13.526\n",
      "layer 5 loss: 12.797\n",
      "layer 4 loss: 12.260\n",
      "layer 3 loss: 13.501\n",
      "layer 2 loss: 17.421\n",
      "layer 1 loss: 26.459\n"
     ]
    }
   ],
   "source": [
    "test_models(X_test)"
   ]
  },
  {
   "cell_type": "code",
   "execution_count": null,
   "metadata": {},
   "outputs": [],
   "source": []
  }
 ],
 "metadata": {
  "kernelspec": {
   "display_name": "Python 3",
   "language": "python",
   "name": "python3"
  },
  "language_info": {
   "codemirror_mode": {
    "name": "ipython",
    "version": 3
   },
   "file_extension": ".py",
   "mimetype": "text/x-python",
   "name": "python",
   "nbconvert_exporter": "python",
   "pygments_lexer": "ipython3",
   "version": "3.11.3"
  },
  "orig_nbformat": 4
 },
 "nbformat": 4,
 "nbformat_minor": 2
}
