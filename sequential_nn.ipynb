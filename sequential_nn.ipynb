{
 "cells": [
  {
   "cell_type": "code",
   "execution_count": 51,
   "metadata": {},
   "outputs": [],
   "source": [
    "import torch\n",
    "import torch.nn as nn\n",
    "import torch.nn.functional as F\n",
    "import numpy as np\n",
    "import matplotlib.pyplot as plt\n",
    "import pandas as pd\n",
    "from torch.utils.data import DataLoader\n",
    "from thermography_dataset_one_layer import ThermDataset\n",
    "from sklearn.model_selection import train_test_split\n",
    "%matplotlib inline"
   ]
  },
  {
   "cell_type": "code",
   "execution_count": 52,
   "metadata": {},
   "outputs": [],
   "source": [
    "args = {'lr':0.01,\n",
    "        'epochs':1000,\n",
    "        'noise':0.01,\n",
    "        'train size':0.7,\n",
    "        'spec scale':10**12,\n",
    "        'dropout':0.90\n",
    "        }"
   ]
  },
  {
   "cell_type": "code",
   "execution_count": 53,
   "metadata": {},
   "outputs": [],
   "source": [
    "def df_to_tensor(df):\n",
    "    return torch.tensor(df.values, dtype=torch.float32)"
   ]
  },
  {
   "attachments": {},
   "cell_type": "markdown",
   "metadata": {},
   "source": [
    "# Prepare Data"
   ]
  },
  {
   "cell_type": "code",
   "execution_count": 54,
   "metadata": {},
   "outputs": [],
   "source": [
    "df = pd.read_excel('wide_range.xlsx')"
   ]
  },
  {
   "cell_type": "code",
   "execution_count": 55,
   "metadata": {},
   "outputs": [],
   "source": [
    "X = df.iloc[:,11:]\n",
    "y = df.iloc[:,:11]"
   ]
  },
  {
   "cell_type": "code",
   "execution_count": 56,
   "metadata": {},
   "outputs": [],
   "source": [
    "# scale by 10^12\n",
    "X = X.apply(lambda x: x*args['spec scale'])\n",
    "\n",
    "# add noise\n",
    "noise = np.random.normal(loc=0, scale=args['noise'], size=X.shape)\n",
    "X = X + noise"
   ]
  },
  {
   "cell_type": "code",
   "execution_count": 57,
   "metadata": {},
   "outputs": [],
   "source": [
    "X_train, X_test, y_train, y_test = train_test_split(X, y, train_size=args['train size'], random_state=101)"
   ]
  },
  {
   "cell_type": "code",
   "execution_count": 58,
   "metadata": {},
   "outputs": [],
   "source": [
    "X_train.index = range(len(X_train))\n",
    "X_test.index = range(len(X_test))"
   ]
  },
  {
   "attachments": {},
   "cell_type": "markdown",
   "metadata": {},
   "source": [
    "# Design Models"
   ]
  },
  {
   "cell_type": "code",
   "execution_count": 59,
   "metadata": {},
   "outputs": [],
   "source": [
    "class Net(nn.Module):\n",
    "    def __init__(self, input_size, output_size):\n",
    "        super(Net, self).__init__()\n",
    "        self.lin1 = nn.Linear(input_size, 45)\n",
    "        self.lin2 = nn.Linear(45, 60)\n",
    "        self.lin3 = nn.Linear(60, 75)\n",
    "        self.lin4 = nn.Linear(75, 60)\n",
    "        self.lin_fin = nn.Linear(60, output_size)\n",
    "        self.dropout = nn.Dropout(args['dropout'])\n",
    "\n",
    "\n",
    "    def forward(self, x):\n",
    "        x = self.dropout(x)\n",
    "        x = F.leaky_relu(self.lin1(x))\n",
    "        x = F.leaky_relu(self.lin2(x))\n",
    "        x = F.leaky_relu(self.lin3(x))\n",
    "        x = F.leaky_relu(self.lin4(x))\n",
    "        x = self.lin_fin(x)\n",
    "        return x"
   ]
  },
  {
   "cell_type": "code",
   "execution_count": 60,
   "metadata": {},
   "outputs": [],
   "source": [
    "input_size = len(X_train.columns)\n",
    "output_size = 1\n",
    "\n",
    "# store models in descending order (11, 10, 9...)\n",
    "models = []\n",
    "for i in range(11):\n",
    "    models.append(Net(input_size+i, output_size))"
   ]
  },
  {
   "attachments": {},
   "cell_type": "markdown",
   "metadata": {},
   "source": [
    "# Training Loops"
   ]
  },
  {
   "cell_type": "code",
   "execution_count": 61,
   "metadata": {},
   "outputs": [],
   "source": [
    "learning_rate = args['lr']\n",
    "criterion = nn.L1Loss()"
   ]
  },
  {
   "cell_type": "code",
   "execution_count": 62,
   "metadata": {},
   "outputs": [
    {
     "name": "stdout",
     "output_type": "stream",
     "text": [
      "Layer 11\n",
      "Index([              3.75e-06,                3.8e-06,               3.85e-06,\n",
      "                      3.9e-06,               3.95e-06,                  4e-06,\n",
      "                     4.05e-06,                4.1e-06,               4.15e-06,\n",
      "                      4.2e-06,               4.25e-06,                4.3e-06,\n",
      "                     4.35e-06,                4.4e-06,               4.45e-06,\n",
      "                      4.5e-06,               4.55e-06,                4.6e-06,\n",
      "                     4.65e-06,                4.7e-06,               4.75e-06,\n",
      "                      4.8e-06,               4.85e-06,                4.9e-06,\n",
      "                     4.95e-06,                  5e-06,               5.05e-06,\n",
      "                      5.1e-06,               5.15e-06,                5.2e-06,\n",
      "                     5.25e-06,                5.3e-06,               5.35e-06,\n",
      "                      5.4e-06,               5.45e-06,                5.5e-06,\n",
      "                     5.55e-06,                5.6e-06,               5.65e-06,\n",
      "                      5.7e-06,               5.75e-06,                5.8e-06,\n",
      "                     5.85e-06,                5.9e-06,               5.95e-06,\n",
      "                        6e-06,               6.05e-06,                6.1e-06,\n",
      "                     6.15e-06,                6.2e-06,               6.25e-06,\n",
      "                      6.3e-06,               6.35e-06,                6.4e-06,\n",
      "                     6.45e-06,                6.5e-06,               6.55e-06,\n",
      "                      6.6e-06,               6.65e-06,                6.7e-06,\n",
      "                     6.75e-06,                6.8e-06,               6.85e-06,\n",
      "                      6.9e-06,               6.95e-06,                  7e-06,\n",
      "                     7.05e-06,                7.1e-06,               7.15e-06,\n",
      "                      7.2e-06,               7.25e-06,                7.3e-06,\n",
      "                     7.35e-06,                7.4e-06,               7.45e-06,\n",
      "                      7.5e-06,               7.55e-06,                7.6e-06,\n",
      "                     7.65e-06,                7.7e-06,               7.75e-06,\n",
      "                      7.8e-06,               7.85e-06,                7.9e-06,\n",
      "                     7.95e-06,                  8e-06, 'layer 11 predictions'],\n",
      "      dtype='object')\n",
      "Layer 10\n",
      "Index([              3.75e-06,                3.8e-06,               3.85e-06,\n",
      "                      3.9e-06,               3.95e-06,                  4e-06,\n",
      "                     4.05e-06,                4.1e-06,               4.15e-06,\n",
      "                      4.2e-06,               4.25e-06,                4.3e-06,\n",
      "                     4.35e-06,                4.4e-06,               4.45e-06,\n",
      "                      4.5e-06,               4.55e-06,                4.6e-06,\n",
      "                     4.65e-06,                4.7e-06,               4.75e-06,\n",
      "                      4.8e-06,               4.85e-06,                4.9e-06,\n",
      "                     4.95e-06,                  5e-06,               5.05e-06,\n",
      "                      5.1e-06,               5.15e-06,                5.2e-06,\n",
      "                     5.25e-06,                5.3e-06,               5.35e-06,\n",
      "                      5.4e-06,               5.45e-06,                5.5e-06,\n",
      "                     5.55e-06,                5.6e-06,               5.65e-06,\n",
      "                      5.7e-06,               5.75e-06,                5.8e-06,\n",
      "                     5.85e-06,                5.9e-06,               5.95e-06,\n",
      "                        6e-06,               6.05e-06,                6.1e-06,\n",
      "                     6.15e-06,                6.2e-06,               6.25e-06,\n",
      "                      6.3e-06,               6.35e-06,                6.4e-06,\n",
      "                     6.45e-06,                6.5e-06,               6.55e-06,\n",
      "                      6.6e-06,               6.65e-06,                6.7e-06,\n",
      "                     6.75e-06,                6.8e-06,               6.85e-06,\n",
      "                      6.9e-06,               6.95e-06,                  7e-06,\n",
      "                     7.05e-06,                7.1e-06,               7.15e-06,\n",
      "                      7.2e-06,               7.25e-06,                7.3e-06,\n",
      "                     7.35e-06,                7.4e-06,               7.45e-06,\n",
      "                      7.5e-06,               7.55e-06,                7.6e-06,\n",
      "                     7.65e-06,                7.7e-06,               7.75e-06,\n",
      "                      7.8e-06,               7.85e-06,                7.9e-06,\n",
      "                     7.95e-06,                  8e-06, 'layer 11 predictions',\n",
      "       'layer 10 predictions'],\n",
      "      dtype='object')\n",
      "Layer 9\n",
      "Index([              3.75e-06,                3.8e-06,               3.85e-06,\n",
      "                      3.9e-06,               3.95e-06,                  4e-06,\n",
      "                     4.05e-06,                4.1e-06,               4.15e-06,\n",
      "                      4.2e-06,               4.25e-06,                4.3e-06,\n",
      "                     4.35e-06,                4.4e-06,               4.45e-06,\n",
      "                      4.5e-06,               4.55e-06,                4.6e-06,\n",
      "                     4.65e-06,                4.7e-06,               4.75e-06,\n",
      "                      4.8e-06,               4.85e-06,                4.9e-06,\n",
      "                     4.95e-06,                  5e-06,               5.05e-06,\n",
      "                      5.1e-06,               5.15e-06,                5.2e-06,\n",
      "                     5.25e-06,                5.3e-06,               5.35e-06,\n",
      "                      5.4e-06,               5.45e-06,                5.5e-06,\n",
      "                     5.55e-06,                5.6e-06,               5.65e-06,\n",
      "                      5.7e-06,               5.75e-06,                5.8e-06,\n",
      "                     5.85e-06,                5.9e-06,               5.95e-06,\n",
      "                        6e-06,               6.05e-06,                6.1e-06,\n",
      "                     6.15e-06,                6.2e-06,               6.25e-06,\n",
      "                      6.3e-06,               6.35e-06,                6.4e-06,\n",
      "                     6.45e-06,                6.5e-06,               6.55e-06,\n",
      "                      6.6e-06,               6.65e-06,                6.7e-06,\n",
      "                     6.75e-06,                6.8e-06,               6.85e-06,\n",
      "                      6.9e-06,               6.95e-06,                  7e-06,\n",
      "                     7.05e-06,                7.1e-06,               7.15e-06,\n",
      "                      7.2e-06,               7.25e-06,                7.3e-06,\n",
      "                     7.35e-06,                7.4e-06,               7.45e-06,\n",
      "                      7.5e-06,               7.55e-06,                7.6e-06,\n",
      "                     7.65e-06,                7.7e-06,               7.75e-06,\n",
      "                      7.8e-06,               7.85e-06,                7.9e-06,\n",
      "                     7.95e-06,                  8e-06, 'layer 11 predictions',\n",
      "       'layer 10 predictions',  'layer 9 predictions'],\n",
      "      dtype='object')\n",
      "Layer 8\n"
     ]
    },
    {
     "ename": "KeyboardInterrupt",
     "evalue": "",
     "output_type": "error",
     "traceback": [
      "\u001b[1;31m---------------------------------------------------------------------------\u001b[0m",
      "\u001b[1;31mKeyboardInterrupt\u001b[0m                         Traceback (most recent call last)",
      "Cell \u001b[1;32mIn[62], line 26\u001b[0m\n\u001b[0;32m     23\u001b[0m loss \u001b[39m=\u001b[39m criterion(pred, outputs)\n\u001b[0;32m     25\u001b[0m \u001b[39m# backward pass\u001b[39;00m\n\u001b[1;32m---> 26\u001b[0m loss\u001b[39m.\u001b[39;49mbackward()\n\u001b[0;32m     28\u001b[0m \u001b[39m# update\u001b[39;00m\n\u001b[0;32m     29\u001b[0m optimizer\u001b[39m.\u001b[39mstep()\n",
      "File \u001b[1;32m~\\AppData\\Local\\Packages\\PythonSoftwareFoundation.Python.3.11_qbz5n2kfra8p0\\LocalCache\\local-packages\\Python311\\site-packages\\torch\\_tensor.py:487\u001b[0m, in \u001b[0;36mTensor.backward\u001b[1;34m(self, gradient, retain_graph, create_graph, inputs)\u001b[0m\n\u001b[0;32m    477\u001b[0m \u001b[39mif\u001b[39;00m has_torch_function_unary(\u001b[39mself\u001b[39m):\n\u001b[0;32m    478\u001b[0m     \u001b[39mreturn\u001b[39;00m handle_torch_function(\n\u001b[0;32m    479\u001b[0m         Tensor\u001b[39m.\u001b[39mbackward,\n\u001b[0;32m    480\u001b[0m         (\u001b[39mself\u001b[39m,),\n\u001b[1;32m   (...)\u001b[0m\n\u001b[0;32m    485\u001b[0m         inputs\u001b[39m=\u001b[39minputs,\n\u001b[0;32m    486\u001b[0m     )\n\u001b[1;32m--> 487\u001b[0m torch\u001b[39m.\u001b[39;49mautograd\u001b[39m.\u001b[39;49mbackward(\n\u001b[0;32m    488\u001b[0m     \u001b[39mself\u001b[39;49m, gradient, retain_graph, create_graph, inputs\u001b[39m=\u001b[39;49minputs\n\u001b[0;32m    489\u001b[0m )\n",
      "File \u001b[1;32m~\\AppData\\Local\\Packages\\PythonSoftwareFoundation.Python.3.11_qbz5n2kfra8p0\\LocalCache\\local-packages\\Python311\\site-packages\\torch\\autograd\\__init__.py:200\u001b[0m, in \u001b[0;36mbackward\u001b[1;34m(tensors, grad_tensors, retain_graph, create_graph, grad_variables, inputs)\u001b[0m\n\u001b[0;32m    195\u001b[0m     retain_graph \u001b[39m=\u001b[39m create_graph\n\u001b[0;32m    197\u001b[0m \u001b[39m# The reason we repeat same the comment below is that\u001b[39;00m\n\u001b[0;32m    198\u001b[0m \u001b[39m# some Python versions print out the first line of a multi-line function\u001b[39;00m\n\u001b[0;32m    199\u001b[0m \u001b[39m# calls in the traceback and some print out the last line\u001b[39;00m\n\u001b[1;32m--> 200\u001b[0m Variable\u001b[39m.\u001b[39;49m_execution_engine\u001b[39m.\u001b[39;49mrun_backward(  \u001b[39m# Calls into the C++ engine to run the backward pass\u001b[39;49;00m\n\u001b[0;32m    201\u001b[0m     tensors, grad_tensors_, retain_graph, create_graph, inputs,\n\u001b[0;32m    202\u001b[0m     allow_unreachable\u001b[39m=\u001b[39;49m\u001b[39mTrue\u001b[39;49;00m, accumulate_grad\u001b[39m=\u001b[39;49m\u001b[39mTrue\u001b[39;49;00m)\n",
      "\u001b[1;31mKeyboardInterrupt\u001b[0m: "
     ]
    }
   ],
   "source": [
    "best_losses = []\n",
    "\n",
    "for i in range(11):\n",
    "    best_loss = np.inf\n",
    "    best_epoch = 0\n",
    "\n",
    "    print(f'Layer {11-i}')\n",
    "\n",
    "    optimizer = torch.optim.Adam(models[i].parameters(), lr=learning_rate)\n",
    "    model = models[i]\n",
    "\n",
    "    inputs = df_to_tensor(X_train)\n",
    "    outputs = df_to_tensor(y_train.iloc[:,10-i]).reshape(-1,1)\n",
    "\n",
    "    for epoch in range(args['epochs']):\n",
    "        # empty gradients\n",
    "        optimizer.zero_grad()\n",
    "\n",
    "        # forward pass\n",
    "        pred = model(inputs)\n",
    "\n",
    "        # loss\n",
    "        loss = criterion(pred, outputs)\n",
    "\n",
    "        # backward pass\n",
    "        loss.backward()\n",
    "        \n",
    "        # update\n",
    "        optimizer.step()\n",
    "\n",
    "        #if (epoch+1) % int(args['epochs']/10) == 0:\n",
    "        #    print(f'epoch: {epoch+1}, loss = {loss}')\n",
    "\n",
    "        if loss < best_loss:\n",
    "            best_loss = loss\n",
    "            best_epoch = epoch + 1\n",
    "\n",
    "    best_losses.append(best_loss.item())\n",
    "    \n",
    "    X_train[f'layer {11-i} predictions'] = pd.DataFrame(pred.detach().numpy())\n",
    "    print(X_train.columns)\n",
    "    #print(f'best loss: {best_loss} in epoch {best_epoch}\\n')\n"
   ]
  },
  {
   "cell_type": "code",
   "execution_count": null,
   "metadata": {},
   "outputs": [
    {
     "data": {
      "image/png": "[encoded data removed]",
      "text/plain": [
       "<Figure size 640x480 with 1 Axes>"
      ]
     },
     "metadata": {},
     "output_type": "display_data"
    }
   ],
   "source": [
    "best_losses.reverse()\n",
    "plt.plot(best_losses)\n",
    "\n",
    "plt.title(\"Best Loss over Layers\")\n",
    "plt.xlabel(\"Layer\")\n",
    "plt.ylabel(\"Loss\")\n",
    "plt.show()"
   ]
  },
  {
   "attachments": {},
   "cell_type": "markdown",
   "metadata": {},
   "source": [
    "# Testing"
   ]
  },
  {
   "cell_type": "code",
   "execution_count": null,
   "metadata": {},
   "outputs": [],
   "source": [
    "def get_predictions(X_test):\n",
    "    df = X_test.copy()\n",
    "\n",
    "    predictions = []\n",
    "\n",
    "    for i in range(11):\n",
    "        inputs = df_to_tensor(df)\n",
    "        pred = models[i](inputs)\n",
    "\n",
    "        predictions.append(pred)\n",
    "        df[f'layer {11-i} predictions'] = pd.DataFrame(pred.detach().numpy())\n",
    "\n",
    "    return df.loc[:, 'layer 11 predictions':'layer 1 predictions'], predictions"
   ]
  },
  {
   "cell_type": "code",
   "execution_count": null,
   "metadata": {},
   "outputs": [],
   "source": [
    "def test_models(X_test):\n",
    "    _, predictions = get_predictions(X_test)\n",
    "\n",
    "    layer = 11\n",
    "    for pred in predictions:\n",
    "        actual = df_to_tensor(y_test.iloc[:,layer-1]).reshape(-1,1)\n",
    "        loss = criterion(pred, actual)\n",
    "        print(f'layer {layer} loss: {loss:.3f}')\n",
    "        layer -= 1\n"
   ]
  },
  {
   "cell_type": "code",
   "execution_count": null,
   "metadata": {},
   "outputs": [
    {
     "name": "stdout",
     "output_type": "stream",
     "text": [
      "layer 11 loss: 5.152\n",
      "layer 10 loss: 10.087\n",
      "layer 9 loss: 17.227\n",
      "layer 8 loss: 12.089\n",
      "layer 7 loss: 13.955\n",
      "layer 6 loss: 13.326\n",
      "layer 5 loss: 14.009\n",
      "layer 4 loss: 14.512\n",
      "layer 3 loss: 13.421\n",
      "layer 2 loss: 15.754\n",
      "layer 1 loss: 22.708\n"
     ]
    }
   ],
   "source": [
    "test_models(X_test)"
   ]
  },
  {
   "cell_type": "code",
   "execution_count": null,
   "metadata": {},
   "outputs": [],
   "source": []
  }
 ],
 "metadata": {
  "kernelspec": {
   "display_name": "Python 3",
   "language": "python",
   "name": "python3"
  },
  "language_info": {
   "codemirror_mode": {
    "name": "ipython",
    "version": 3
   },
   "file_extension": ".py",
   "mimetype": "text/x-python",
   "name": "python",
   "nbconvert_exporter": "python",
   "pygments_lexer": "ipython3",
   "version": "3.11.3"
  },
  "orig_nbformat": 4
 },
 "nbformat": 4,
 "nbformat_minor": 2
}
